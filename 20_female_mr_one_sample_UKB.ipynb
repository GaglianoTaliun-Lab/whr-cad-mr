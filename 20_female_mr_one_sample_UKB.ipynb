{
 "cells": [
  {
   "cell_type": "code",
   "execution_count": 1,
   "id": "c0152c46-d7ca-4190-93d5-ea3d0a75612f",
   "metadata": {
    "vscode": {
     "languageId": "r"
    }
   },
   "outputs": [],
   "source": [
    "# R-script - Mendelian Randomization practicum \n",
    " \n",
    "# Applied research question: Does having higher proinflammatory CRP causally increase your blood pressure? \n",
    "# 1. Observational analyses (simple linear regressions in R)\n",
    "# 2. MR/IV Analyses: Wald Estimator (simple linear regression)\n",
    "# 3. MR/IV Analyses: TSLS (ivreg R-package)\n",
    "# 4. Manual TSLS (simple linear regression)\n",
    "# 5. Weak instrument bias"
   ]
  },
  {
   "cell_type": "code",
   "execution_count": 2,
   "id": "e4cc963b-bcee-497b-b4d2-f652a1a5916a",
   "metadata": {
    "vscode": {
     "languageId": "r"
    }
   },
   "outputs": [
    {
     "data": {
      "text/html": [
       "'R version 4.2.1 (2022-06-23)'"
      ],
      "text/latex": [
       "'R version 4.2.1 (2022-06-23)'"
      ],
      "text/markdown": [
       "'R version 4.2.1 (2022-06-23)'"
      ],
      "text/plain": [
       "[1] \"R version 4.2.1 (2022-06-23)\""
      ]
     },
     "metadata": {},
     "output_type": "display_data"
    }
   ],
   "source": [
    "R.version.string"
   ]
  },
  {
   "cell_type": "code",
   "execution_count": 3,
   "id": "d7da5352-6ea5-458d-bb8a-e81327642d76",
   "metadata": {
    "vscode": {
     "languageId": "r"
    }
   },
   "outputs": [],
   "source": [
    "rm(list = ls())   # remove all variables in the environment"
   ]
  },
  {
   "cell_type": "code",
   "execution_count": 4,
   "id": "a6cee06b-f48f-4d92-88c8-e56f35cc7d8e",
   "metadata": {
    "vscode": {
     "languageId": "r"
    }
   },
   "outputs": [],
   "source": [
    "sex <- \"female\"\n",
    "data_file <- paste(\"output/ukb_pheno_geno/ukb_pheno_geno_\", sex, \".tab\", sep=\"\")"
   ]
  },
  {
   "cell_type": "code",
   "execution_count": 6,
   "id": "3d5f0bef-24eb-4984-ade2-13c96e0ba3d4",
   "metadata": {
    "vscode": {
     "languageId": "r"
    }
   },
   "outputs": [
    {
     "data": {
      "text/html": [
       "165833"
      ],
      "text/latex": [
       "165833"
      ],
      "text/markdown": [
       "165833"
      ],
      "text/plain": [
       "[1] 165833"
      ]
     },
     "metadata": {},
     "output_type": "display_data"
    }
   ],
   "source": [
    "length(WHR)"
   ]
  },
  {
   "cell_type": "code",
   "execution_count": 7,
   "id": "ca292d56-8ade-4a03-be8e-347e7d92b06a",
   "metadata": {
    "vscode": {
     "languageId": "r"
    }
   },
   "outputs": [
    {
     "data": {
      "text/html": [
       "<style>\n",
       ".list-inline {list-style: none; margin:0; padding: 0}\n",
       ".list-inline>li {display: inline-block}\n",
       ".list-inline>li:not(:last-child)::after {content: \"\\00b7\"; padding: 0 .5ex}\n",
       "</style>\n",
       "<ol class=list-inline><li>165833</li><li>66</li></ol>\n"
      ],
      "text/latex": [
       "\\begin{enumerate*}\n",
       "\\item 165833\n",
       "\\item 66\n",
       "\\end{enumerate*}\n"
      ],
      "text/markdown": [
       "1. 165833\n",
       "2. 66\n",
       "\n",
       "\n"
      ],
      "text/plain": [
       "[1] 165833     66"
      ]
     },
     "metadata": {},
     "output_type": "display_data"
    }
   ],
   "source": [
    "dim(example)"
   ]
  },
  {
   "cell_type": "code",
   "execution_count": 9,
   "id": "e2c61d8b-b15c-4e7a-8b6a-acdfe7ff2394",
   "metadata": {
    "vscode": {
     "languageId": "r"
    }
   },
   "outputs": [
    {
     "data": {
      "text/plain": [
       "\n",
       "Call:\n",
       "lm(formula = PGS000842_SCORE ~ WHR)\n",
       "\n",
       "Residuals:\n",
       "      Min        1Q    Median        3Q       Max \n",
       "-0.102384 -0.018224 -0.000496  0.017763  0.121084 \n",
       "\n",
       "Coefficients:\n",
       "              Estimate Std. Error t value Pr(>|t|)    \n",
       "(Intercept) -0.0223514  0.0007662  -29.17   <2e-16 ***\n",
       "WHR          0.0274050  0.0009360   29.28   <2e-16 ***\n",
       "---\n",
       "Signif. codes:  0 ‘***’ 0.001 ‘**’ 0.01 ‘*’ 0.05 ‘.’ 0.1 ‘ ’ 1\n",
       "\n",
       "Residual standard error: 0.02657 on 165831 degrees of freedom\n",
       "Multiple R-squared:  0.005143,\tAdjusted R-squared:  0.005137 \n",
       "F-statistic: 857.2 on 1 and 165831 DF,  p-value: < 2.2e-16\n"
      ]
     },
     "metadata": {},
     "output_type": "display_data"
    }
   ],
   "source": [
    "summary(lm(PGS000842_SCORE~WHR))"
   ]
  },
  {
   "cell_type": "code",
   "execution_count": 10,
   "id": "b27ed9f4-b46a-4dbc-9ec8-4a097dd1f706",
   "metadata": {
    "vscode": {
     "languageId": "r"
    }
   },
   "outputs": [
    {
     "data": {
      "text/plain": [
       "\n",
       "Call:\n",
       "lm(formula = PGS000842_SCORE ~ CAD)\n",
       "\n",
       "Residuals:\n",
       "      Min        1Q    Median        3Q       Max \n",
       "-0.102549 -0.018278 -0.000491  0.017752  0.122201 \n",
       "\n",
       "Coefficients:\n",
       "              Estimate Std. Error t value Pr(>|t|)  \n",
       "(Intercept) -0.0008275  0.0004906  -1.687   0.0917 .\n",
       "CAD          0.0008119  0.0004771   1.702   0.0888 .\n",
       "---\n",
       "Signif. codes:  0 ‘***’ 0.001 ‘**’ 0.01 ‘*’ 0.05 ‘.’ 0.1 ‘ ’ 1\n",
       "\n",
       "Residual standard error: 0.02664 on 165831 degrees of freedom\n",
       "Multiple R-squared:  1.746e-05,\tAdjusted R-squared:  1.143e-05 \n",
       "F-statistic: 2.896 on 1 and 165831 DF,  p-value: 0.08881\n"
      ]
     },
     "metadata": {},
     "output_type": "display_data"
    }
   ],
   "source": [
    "summary(lm(PGS000842_SCORE~CAD))"
   ]
  },
  {
   "cell_type": "code",
   "execution_count": 11,
   "id": "bb39b877-9410-476d-9240-4dc9e7e8a870",
   "metadata": {
    "vscode": {
     "languageId": "r"
    }
   },
   "outputs": [
    {
     "data": {
      "text/plain": [
       "\n",
       "Call:\n",
       "lm(formula = PGS000842_SCORE ~ AGE)\n",
       "\n",
       "Residuals:\n",
       "      Min        1Q    Median        3Q       Max \n",
       "-0.102496 -0.018295 -0.000488  0.017745  0.122175 \n",
       "\n",
       "Coefficients:\n",
       "              Estimate Std. Error t value Pr(>|t|)\n",
       "(Intercept)  4.078e-04  4.715e-04   0.865    0.387\n",
       "AGE         -7.225e-06  8.273e-06  -0.873    0.382\n",
       "\n",
       "Residual standard error: 0.02664 on 165831 degrees of freedom\n",
       "Multiple R-squared:  4.599e-06,\tAdjusted R-squared:  -1.431e-06 \n",
       "F-statistic: 0.7627 on 1 and 165831 DF,  p-value: 0.3825\n"
      ]
     },
     "metadata": {},
     "output_type": "display_data"
    }
   ],
   "source": [
    "summary(lm(PGS000842_SCORE~AGE))"
   ]
  },
  {
   "cell_type": "code",
   "execution_count": 12,
   "id": "a6388a19-dcb9-4122-b304-c82db4e72acf",
   "metadata": {
    "vscode": {
     "languageId": "r"
    }
   },
   "outputs": [
    {
     "data": {
      "text/plain": [
       "\n",
       "Call:\n",
       "lm(formula = PGS000842_SCORE ~ EVER_SMOKED)\n",
       "\n",
       "Residuals:\n",
       "      Min        1Q    Median        3Q       Max \n",
       "-0.102479 -0.018292 -0.000489  0.017750  0.122074 \n",
       "\n",
       "Coefficients:\n",
       "              Estimate Std. Error t value Pr(>|t|)\n",
       "(Intercept)  1.116e-04  9.927e-05   1.125    0.261\n",
       "EVER_SMOKED -1.973e-04  1.320e-04  -1.495    0.135\n",
       "\n",
       "Residual standard error: 0.02664 on 165831 degrees of freedom\n",
       "Multiple R-squared:  1.348e-05,\tAdjusted R-squared:  7.453e-06 \n",
       "F-statistic: 2.236 on 1 and 165831 DF,  p-value: 0.1348\n"
      ]
     },
     "metadata": {},
     "output_type": "display_data"
    }
   ],
   "source": [
    "summary(lm(PGS000842_SCORE~EVER_SMOKED))"
   ]
  },
  {
   "cell_type": "code",
   "execution_count": 13,
   "id": "62d50cea-5acd-4f3d-a2ea-f655a5313a36",
   "metadata": {
    "vscode": {
     "languageId": "r"
    }
   },
   "outputs": [
    {
     "data": {
      "text/plain": [
       "\n",
       "Call:\n",
       "lm(formula = PGS000842_SCORE ~ TOWNSEND)\n",
       "\n",
       "Residuals:\n",
       "      Min        1Q    Median        3Q       Max \n",
       "-0.102575 -0.018286 -0.000489  0.017756  0.122208 \n",
       "\n",
       "Coefficients:\n",
       "              Estimate Std. Error t value Pr(>|t|)\n",
       "(Intercept) -1.060e-05  7.358e-05  -0.144    0.885\n",
       "TOWNSEND    -6.994e-06  2.227e-05  -0.314    0.753\n",
       "\n",
       "Residual standard error: 0.02664 on 165831 degrees of freedom\n",
       "Multiple R-squared:  5.95e-07,\tAdjusted R-squared:  -5.435e-06 \n",
       "F-statistic: 0.09867 on 1 and 165831 DF,  p-value: 0.7534\n"
      ]
     },
     "metadata": {},
     "output_type": "display_data"
    }
   ],
   "source": [
    "summary(lm(PGS000842_SCORE~TOWNSEND))"
   ]
  },
  {
   "cell_type": "code",
   "execution_count": 14,
   "id": "5d2a0c71-3803-4527-8e2b-5ce8fee2ab0b",
   "metadata": {
    "vscode": {
     "languageId": "r"
    }
   },
   "outputs": [
    {
     "data": {
      "text/plain": [
       "\n",
       "Call:\n",
       "lm(formula = CAD ~ WHR + AGE + PC1 + PC2 + PC3 + PC4 + PC5 + \n",
       "    PC6 + PC7 + PC8 + PC9 + PC10)\n",
       "\n",
       "Residuals:\n",
       "     Min       1Q   Median       3Q      Max \n",
       "-0.11312 -0.02983 -0.01932 -0.00704  1.01810 \n",
       "\n",
       "Coefficients:\n",
       "              Estimate Std. Error t value Pr(>|t|)    \n",
       "(Intercept)  8.430e-01  4.510e-03 186.908  < 2e-16 ***\n",
       "WHR          1.198e-01  4.880e-03  24.558  < 2e-16 ***\n",
       "AGE          1.425e-03  4.312e-05  33.055  < 2e-16 ***\n",
       "PC1          1.553e-04  1.323e-04   1.174 0.240259    \n",
       "PC2          4.648e-05  1.579e-04   0.294 0.768414    \n",
       "PC3          2.968e-04  1.867e-04   1.590 0.111838    \n",
       "PC4          2.805e-04  8.366e-05   3.353 0.000799 ***\n",
       "PC5          1.707e-04  4.791e-05   3.562 0.000368 ***\n",
       "PC6          2.270e-05  1.706e-04   0.133 0.894151    \n",
       "PC7         -7.748e-05  7.891e-05  -0.982 0.326111    \n",
       "PC8          7.414e-05  1.119e-04   0.662 0.507736    \n",
       "PC9          3.234e-04  7.397e-05   4.372 1.23e-05 ***\n",
       "PC10         1.969e-05  1.455e-04   0.135 0.892404    \n",
       "---\n",
       "Signif. codes:  0 ‘***’ 0.001 ‘**’ 0.01 ‘*’ 0.05 ‘.’ 0.1 ‘ ’ 1\n",
       "\n",
       "Residual standard error: 0.1362 on 165820 degrees of freedom\n",
       "Multiple R-squared:  0.01258,\tAdjusted R-squared:  0.01251 \n",
       "F-statistic:   176 on 12 and 165820 DF,  p-value: < 2.2e-16\n"
      ]
     },
     "metadata": {},
     "output_type": "display_data"
    }
   ],
   "source": [
    "summary(lm(CAD~WHR+AGE+PC1+PC2+PC3+PC4+PC5+PC6+PC7+PC8+PC9+PC10))"
   ]
  },
  {
   "cell_type": "code",
   "execution_count": 15,
   "id": "e0d8d468-c056-4a0e-841d-b6ecaa1f41d3",
   "metadata": {
    "vscode": {
     "languageId": "r"
    }
   },
   "outputs": [
    {
     "data": {
      "text/plain": [
       "\n",
       "Call:\n",
       "lm(formula = PGS000842_SCORE ~ DBP)\n",
       "\n",
       "Residuals:\n",
       "      Min        1Q    Median        3Q       Max \n",
       "-0.102543 -0.018286 -0.000493  0.017754  0.122211 \n",
       "\n",
       "Coefficients:\n",
       "              Estimate Std. Error t value Pr(>|t|)\n",
       "(Intercept)  2.892e-04  2.296e-04   1.259    0.208\n",
       "DBP         -3.842e-06  2.925e-06  -1.314    0.189\n",
       "\n",
       "Residual standard error: 0.02664 on 165831 degrees of freedom\n",
       "Multiple R-squared:  1.041e-05,\tAdjusted R-squared:  4.38e-06 \n",
       "F-statistic: 1.726 on 1 and 165831 DF,  p-value: 0.1889\n"
      ]
     },
     "metadata": {},
     "output_type": "display_data"
    }
   ],
   "source": [
    "summary(lm(PGS000842_SCORE~DBP))"
   ]
  },
  {
   "cell_type": "code",
   "execution_count": 16,
   "id": "cff888d6-d0f6-485e-8887-b18bdb219654",
   "metadata": {
    "vscode": {
     "languageId": "r"
    }
   },
   "outputs": [
    {
     "data": {
      "text/plain": [
       "\n",
       "Call:\n",
       "lm(formula = PGS000842_SCORE ~ SBP)\n",
       "\n",
       "Residuals:\n",
       "      Min        1Q    Median        3Q       Max \n",
       "-0.102447 -0.018293 -0.000496  0.017758  0.122193 \n",
       "\n",
       "Coefficients:\n",
       "              Estimate Std. Error t value Pr(>|t|)\n",
       "(Intercept)  3.299e-04  2.239e-04   1.474    0.141\n",
       "SBP         -2.575e-06  1.671e-06  -1.541    0.123\n",
       "\n",
       "Residual standard error: 0.02664 on 165831 degrees of freedom\n",
       "Multiple R-squared:  1.432e-05,\tAdjusted R-squared:  8.288e-06 \n",
       "F-statistic: 2.375 on 1 and 165831 DF,  p-value: 0.1233\n"
      ]
     },
     "metadata": {},
     "output_type": "display_data"
    }
   ],
   "source": [
    "summary(lm(PGS000842_SCORE~SBP))"
   ]
  },
  {
   "cell_type": "code",
   "execution_count": 17,
   "id": "02bc101d-aef2-4230-83b8-67a1526731e1",
   "metadata": {
    "vscode": {
     "languageId": "r"
    }
   },
   "outputs": [
    {
     "data": {
      "text/plain": [
       "\n",
       "Call:\n",
       "lm(formula = CAD ~ WHR)\n",
       "\n",
       "Residuals:\n",
       "     Min       1Q   Median       3Q      Max \n",
       "-0.12989 -0.02559 -0.01804 -0.01117  1.00694 \n",
       "\n",
       "Coefficients:\n",
       "            Estimate Std. Error t value Pr(>|t|)    \n",
       "(Intercept) 0.897653   0.003942  227.70   <2e-16 ***\n",
       "WHR         0.148984   0.004816   30.93   <2e-16 ***\n",
       "---\n",
       "Signif. codes:  0 ‘***’ 0.001 ‘**’ 0.01 ‘*’ 0.05 ‘.’ 0.1 ‘ ’ 1\n",
       "\n",
       "Residual standard error: 0.1367 on 165831 degrees of freedom\n",
       "Multiple R-squared:  0.005738,\tAdjusted R-squared:  0.005732 \n",
       "F-statistic:   957 on 1 and 165831 DF,  p-value: < 2.2e-16\n"
      ]
     },
     "metadata": {},
     "output_type": "display_data"
    },
    {
     "data": {
      "image/png": "[encoded data removed]",
      "text/plain": [
       "plot without title"
      ]
     },
     "metadata": {
      "image/png": {
       "height": 420,
       "width": 420
      }
     },
     "output_type": "display_data"
    }
   ],
   "source": [
    "########################################\n",
    "#####  1. Observational analyses   #####\n",
    "########################################\n",
    "\n",
    "#-----------------------------------------------------------------------------------------\n",
    "#--------  Q1. What does the observational linear regression of outcome (CAD) on exposure (WHR) show?   -------\n",
    "#-----------------------------------------------------------------------------------------\n",
    "\n",
    "# Run observational OLS regression (ordinary least squares) for CAD & WHR\n",
    "summary(lm(CAD~WHR)) \n",
    "\n",
    "# Plot the observational association between CAD and WHR\n",
    "plot(WHR,CAD)\n",
    "abline(lm(CAD~WHR),col=\"red\")"
   ]
  },
  {
   "cell_type": "code",
   "execution_count": 18,
   "id": "0966e0d6-1113-4205-a104-e423e34dcaa7",
   "metadata": {
    "vscode": {
     "languageId": "r"
    }
   },
   "outputs": [
    {
     "data": {
      "image/png": "[encoded data removed]",
      "text/plain": [
       "Plot with title “Histogram of PGS000842”"
      ]
     },
     "metadata": {
      "image/png": {
       "height": 420,
       "width": 420
      }
     },
     "output_type": "display_data"
    }
   ],
   "source": [
    "hist(PGS000842_SCORE, breaks=50, col = \"grey\", main = \"Histogram of PGS000842\")"
   ]
  },
  {
   "cell_type": "code",
   "execution_count": 19,
   "id": "dacfd0dd-5fe6-4100-bf78-4181aed4b1b1",
   "metadata": {
    "vscode": {
     "languageId": "r"
    }
   },
   "outputs": [
    {
     "data": {
      "image/png": "[encoded data removed]",
      "text/plain": [
       "Plot with title “WHR - female”"
      ]
     },
     "metadata": {
      "image/png": {
       "height": 420,
       "width": 420
      }
     },
     "output_type": "display_data"
    }
   ],
   "source": [
    "hist(WHR, breaks=100, col = \"grey\", main = \"WHR - female\")"
   ]
  },
  {
   "cell_type": "code",
   "execution_count": 20,
   "id": "e3ae85ec-b05b-4beb-bf1f-f77c1812a847",
   "metadata": {
    "vscode": {
     "languageId": "r"
    }
   },
   "outputs": [
    {
     "data": {
      "text/plain": [
       "\n",
       "Call:\n",
       "lm(formula = WHR ~ PGS000842_SCORE)\n",
       "\n",
       "Residuals:\n",
       "     Min       1Q   Median       3Q      Max \n",
       "-0.36341 -0.05010 -0.00491  0.04524  0.74183 \n",
       "\n",
       "Coefficients:\n",
       "                 Estimate Std. Error t value Pr(>|t|)    \n",
       "(Intercept)     0.8155936  0.0001707 4777.04   <2e-16 ***\n",
       "PGS000842_SCORE 0.1876575  0.0064094   29.28   <2e-16 ***\n",
       "---\n",
       "Signif. codes:  0 ‘***’ 0.001 ‘**’ 0.01 ‘*’ 0.05 ‘.’ 0.1 ‘ ’ 1\n",
       "\n",
       "Residual standard error: 0.06953 on 165831 degrees of freedom\n",
       "Multiple R-squared:  0.005143,\tAdjusted R-squared:  0.005137 \n",
       "F-statistic: 857.2 on 1 and 165831 DF,  p-value: < 2.2e-16\n"
      ]
     },
     "metadata": {},
     "output_type": "display_data"
    },
    {
     "data": {
      "image/png": "[encoded data removed]",
      "text/plain": [
       "plot without title"
      ]
     },
     "metadata": {
      "image/png": {
       "height": 420,
       "width": 420
      }
     },
     "output_type": "display_data"
    }
   ],
   "source": [
    "summary(lm(WHR~PGS000842_SCORE)) \n",
    "\n",
    "# Plot the observational association between CAD and WHR\n",
    "plot(PGS000842_SCORE, WHR)\n",
    "abline(lm(WHR~PGS000842_SCORE),col=\"red\")"
   ]
  },
  {
   "cell_type": "code",
   "execution_count": 21,
   "id": "055649e1-6e3d-48e4-bc0d-ee216795ec7c",
   "metadata": {
    "vscode": {
     "languageId": "r"
    }
   },
   "outputs": [
    {
     "data": {
      "text/plain": [
       "\n",
       "Call:\n",
       "lm(formula = CAD ~ PGS000842_SCORE)\n",
       "\n",
       "Residuals:\n",
       "     Min       1Q   Median       3Q      Max \n",
       "-0.02179 -0.01954 -0.01914 -0.01874  0.98269 \n",
       "\n",
       "Coefficients:\n",
       "                 Estimate Std. Error  t value Pr(>|t|)    \n",
       "(Intercept)     1.0191639  0.0003367 3027.199   <2e-16 ***\n",
       "PGS000842_SCORE 0.0215074  0.0126387    1.702   0.0888 .  \n",
       "---\n",
       "Signif. codes:  0 ‘***’ 0.001 ‘**’ 0.01 ‘*’ 0.05 ‘.’ 0.1 ‘ ’ 1\n",
       "\n",
       "Residual standard error: 0.1371 on 165831 degrees of freedom\n",
       "Multiple R-squared:  1.746e-05,\tAdjusted R-squared:  1.143e-05 \n",
       "F-statistic: 2.896 on 1 and 165831 DF,  p-value: 0.08881\n"
      ]
     },
     "metadata": {},
     "output_type": "display_data"
    },
    {
     "data": {
      "image/png": "[encoded data removed]",
      "text/plain": [
       "plot without title"
      ]
     },
     "metadata": {
      "image/png": {
       "height": 420,
       "width": 420
      }
     },
     "output_type": "display_data"
    }
   ],
   "source": [
    "summary(lm(CAD~PGS000842_SCORE)) \n",
    "\n",
    "# Plot the observational association between CAD and WHR\n",
    "plot(PGS000842_SCORE, CAD)\n",
    "abline(lm(CAD~PGS000842_SCORE),col=\"red\")"
   ]
  },
  {
   "cell_type": "code",
   "execution_count": 22,
   "id": "3e1967d4-a06c-4d24-8115-d4a2f1255812",
   "metadata": {
    "vscode": {
     "languageId": "r"
    }
   },
   "outputs": [
    {
     "data": {
      "text/html": [
       "<style>\n",
       ".list-inline {list-style: none; margin:0; padding: 0}\n",
       ".list-inline>li {display: inline-block}\n",
       ".list-inline>li:not(:last-child)::after {content: \"\\00b7\"; padding: 0 .5ex}\n",
       "</style>\n",
       "<ol class=list-inline><li>'FID'</li><li>'IID_PHENO'</li><li>'SEX_PHENO'</li><li>'AGE'</li><li>'WAIST'</li><li>'HIP'</li><li>'PC1'</li><li>'PC2'</li><li>'PC3'</li><li>'PC4'</li><li>'PC5'</li><li>'PC6'</li><li>'PC7'</li><li>'PC8'</li><li>'PC9'</li><li>'PC10'</li><li>'CAD'</li><li>'WHR'</li><li>'AFR'</li><li>'LFR'</li><li>'TFR'</li><li>'EID'</li><li>'EVER_SMOKED'</li><li>'BMI'</li><li>'TOWNSEND'</li><li>'IID_GENO'</li><li>'PAT'</li><li>'MAT'</li><li>'SEX_GENO'</li><li>'PHENOTYPE'</li><li>'rs2071931_T'</li><li>'rs984222_C'</li><li>'rs6427245_C'</li><li>'rs9286854_A'</li><li>'rs6541227_C'</li><li>'rs934778_G'</li><li>'rs13432332_C'</li><li>'rs2861643_T'</li><li>'rs840584_A'</li><li>'rs4684859_A'</li><li>'rs9833879_G'</li><li>'rs62271364_A'</li><li>'rs900400_C'</li><li>'rs17145265_C'</li><li>'rs2854050_A'</li><li>'rs114344942_T'</li><li>'rs2503097_G'</li><li>'rs9385414_G'</li><li>'rs6983481_T'</li><li>'Affx.32556093_T'</li><li>'rs444318_A'</li><li>'rs10991417_C'</li><li>'rs72927213_C'</li><li>'rs2303436_T'</li><li>'rs797475_A'</li><li>'rs6573198_G'</li><li>'rs1129003_C'</li><li>'rs4789257_C'</li><li>'rs3810068_C'</li><li>'rs10403360_A'</li><li>'rs805770_T'</li><li>'rs1572053_A'</li><li>'rs2000339_A'</li><li>'PGS000842_SCORE'</li><li>'DBP'</li><li>'SBP'</li></ol>\n"
      ],
      "text/latex": [
       "\\begin{enumerate*}\n",
       "\\item 'FID'\n",
       "\\item 'IID\\_PHENO'\n",
       "\\item 'SEX\\_PHENO'\n",
       "\\item 'AGE'\n",
       "\\item 'WAIST'\n",
       "\\item 'HIP'\n",
       "\\item 'PC1'\n",
       "\\item 'PC2'\n",
       "\\item 'PC3'\n",
       "\\item 'PC4'\n",
       "\\item 'PC5'\n",
       "\\item 'PC6'\n",
       "\\item 'PC7'\n",
       "\\item 'PC8'\n",
       "\\item 'PC9'\n",
       "\\item 'PC10'\n",
       "\\item 'CAD'\n",
       "\\item 'WHR'\n",
       "\\item 'AFR'\n",
       "\\item 'LFR'\n",
       "\\item 'TFR'\n",
       "\\item 'EID'\n",
       "\\item 'EVER\\_SMOKED'\n",
       "\\item 'BMI'\n",
       "\\item 'TOWNSEND'\n",
       "\\item 'IID\\_GENO'\n",
       "\\item 'PAT'\n",
       "\\item 'MAT'\n",
       "\\item 'SEX\\_GENO'\n",
       "\\item 'PHENOTYPE'\n",
       "\\item 'rs2071931\\_T'\n",
       "\\item 'rs984222\\_C'\n",
       "\\item 'rs6427245\\_C'\n",
       "\\item 'rs9286854\\_A'\n",
       "\\item 'rs6541227\\_C'\n",
       "\\item 'rs934778\\_G'\n",
       "\\item 'rs13432332\\_C'\n",
       "\\item 'rs2861643\\_T'\n",
       "\\item 'rs840584\\_A'\n",
       "\\item 'rs4684859\\_A'\n",
       "\\item 'rs9833879\\_G'\n",
       "\\item 'rs62271364\\_A'\n",
       "\\item 'rs900400\\_C'\n",
       "\\item 'rs17145265\\_C'\n",
       "\\item 'rs2854050\\_A'\n",
       "\\item 'rs114344942\\_T'\n",
       "\\item 'rs2503097\\_G'\n",
       "\\item 'rs9385414\\_G'\n",
       "\\item 'rs6983481\\_T'\n",
       "\\item 'Affx.32556093\\_T'\n",
       "\\item 'rs444318\\_A'\n",
       "\\item 'rs10991417\\_C'\n",
       "\\item 'rs72927213\\_C'\n",
       "\\item 'rs2303436\\_T'\n",
       "\\item 'rs797475\\_A'\n",
       "\\item 'rs6573198\\_G'\n",
       "\\item 'rs1129003\\_C'\n",
       "\\item 'rs4789257\\_C'\n",
       "\\item 'rs3810068\\_C'\n",
       "\\item 'rs10403360\\_A'\n",
       "\\item 'rs805770\\_T'\n",
       "\\item 'rs1572053\\_A'\n",
       "\\item 'rs2000339\\_A'\n",
       "\\item 'PGS000842\\_SCORE'\n",
       "\\item 'DBP'\n",
       "\\item 'SBP'\n",
       "\\end{enumerate*}\n"
      ],
      "text/markdown": [
       "1. 'FID'\n",
       "2. 'IID_PHENO'\n",
       "3. 'SEX_PHENO'\n",
       "4. 'AGE'\n",
       "5. 'WAIST'\n",
       "6. 'HIP'\n",
       "7. 'PC1'\n",
       "8. 'PC2'\n",
       "9. 'PC3'\n",
       "10. 'PC4'\n",
       "11. 'PC5'\n",
       "12. 'PC6'\n",
       "13. 'PC7'\n",
       "14. 'PC8'\n",
       "15. 'PC9'\n",
       "16. 'PC10'\n",
       "17. 'CAD'\n",
       "18. 'WHR'\n",
       "19. 'AFR'\n",
       "20. 'LFR'\n",
       "21. 'TFR'\n",
       "22. 'EID'\n",
       "23. 'EVER_SMOKED'\n",
       "24. 'BMI'\n",
       "25. 'TOWNSEND'\n",
       "26. 'IID_GENO'\n",
       "27. 'PAT'\n",
       "28. 'MAT'\n",
       "29. 'SEX_GENO'\n",
       "30. 'PHENOTYPE'\n",
       "31. 'rs2071931_T'\n",
       "32. 'rs984222_C'\n",
       "33. 'rs6427245_C'\n",
       "34. 'rs9286854_A'\n",
       "35. 'rs6541227_C'\n",
       "36. 'rs934778_G'\n",
       "37. 'rs13432332_C'\n",
       "38. 'rs2861643_T'\n",
       "39. 'rs840584_A'\n",
       "40. 'rs4684859_A'\n",
       "41. 'rs9833879_G'\n",
       "42. 'rs62271364_A'\n",
       "43. 'rs900400_C'\n",
       "44. 'rs17145265_C'\n",
       "45. 'rs2854050_A'\n",
       "46. 'rs114344942_T'\n",
       "47. 'rs2503097_G'\n",
       "48. 'rs9385414_G'\n",
       "49. 'rs6983481_T'\n",
       "50. 'Affx.32556093_T'\n",
       "51. 'rs444318_A'\n",
       "52. 'rs10991417_C'\n",
       "53. 'rs72927213_C'\n",
       "54. 'rs2303436_T'\n",
       "55. 'rs797475_A'\n",
       "56. 'rs6573198_G'\n",
       "57. 'rs1129003_C'\n",
       "58. 'rs4789257_C'\n",
       "59. 'rs3810068_C'\n",
       "60. 'rs10403360_A'\n",
       "61. 'rs805770_T'\n",
       "62. 'rs1572053_A'\n",
       "63. 'rs2000339_A'\n",
       "64. 'PGS000842_SCORE'\n",
       "65. 'DBP'\n",
       "66. 'SBP'\n",
       "\n",
       "\n"
      ],
      "text/plain": [
       " [1] \"FID\"             \"IID_PHENO\"       \"SEX_PHENO\"       \"AGE\"            \n",
       " [5] \"WAIST\"           \"HIP\"             \"PC1\"             \"PC2\"            \n",
       " [9] \"PC3\"             \"PC4\"             \"PC5\"             \"PC6\"            \n",
       "[13] \"PC7\"             \"PC8\"             \"PC9\"             \"PC10\"           \n",
       "[17] \"CAD\"             \"WHR\"             \"AFR\"             \"LFR\"            \n",
       "[21] \"TFR\"             \"EID\"             \"EVER_SMOKED\"     \"BMI\"            \n",
       "[25] \"TOWNSEND\"        \"IID_GENO\"        \"PAT\"             \"MAT\"            \n",
       "[29] \"SEX_GENO\"        \"PHENOTYPE\"       \"rs2071931_T\"     \"rs984222_C\"     \n",
       "[33] \"rs6427245_C\"     \"rs9286854_A\"     \"rs6541227_C\"     \"rs934778_G\"     \n",
       "[37] \"rs13432332_C\"    \"rs2861643_T\"     \"rs840584_A\"      \"rs4684859_A\"    \n",
       "[41] \"rs9833879_G\"     \"rs62271364_A\"    \"rs900400_C\"      \"rs17145265_C\"   \n",
       "[45] \"rs2854050_A\"     \"rs114344942_T\"   \"rs2503097_G\"     \"rs9385414_G\"    \n",
       "[49] \"rs6983481_T\"     \"Affx.32556093_T\" \"rs444318_A\"      \"rs10991417_C\"   \n",
       "[53] \"rs72927213_C\"    \"rs2303436_T\"     \"rs797475_A\"      \"rs6573198_G\"    \n",
       "[57] \"rs1129003_C\"     \"rs4789257_C\"     \"rs3810068_C\"     \"rs10403360_A\"   \n",
       "[61] \"rs805770_T\"      \"rs1572053_A\"     \"rs2000339_A\"     \"PGS000842_SCORE\"\n",
       "[65] \"DBP\"             \"SBP\"            "
      ]
     },
     "metadata": {},
     "output_type": "display_data"
    }
   ],
   "source": [
    "colnames(example)"
   ]
  },
  {
   "cell_type": "raw",
   "id": "182e7876-d4f4-481c-bac1-7d45b6773b74",
   "metadata": {},
   "source": [
    "rs2071931_T+rs984222_C+rs6427245_C+rs9286854_A+rs6541227_C+rs934778_G+rs13432332_C+rs2861643_T+rs840584_A+rs4684859_A+rs9833879_G+rs62271364_A+rs900400_C+rs17145265_C+rs2854050_A+rs114344942_T+rs2503097_G+rs9385414_G+rs6983481_T+Affx.32556093_T+rs444318_A+rs10991417_C+rs72927213_C+rs2303436_T+rs797475_A+rs6573198_G+rs1129003_C+rs4789257_C+rs3810068_C+rs10403360_A+rs805770_T+rs1572053_A+rs2000339_A"
   ]
  },
  {
   "cell_type": "code",
   "execution_count": 23,
   "id": "4e325dad-48df-471d-b04d-531847e21f6b",
   "metadata": {
    "vscode": {
     "languageId": "r"
    }
   },
   "outputs": [
    {
     "data": {
      "text/plain": [
       "\n",
       "Call:\n",
       "lm(formula = CAD ~ WHR)\n",
       "\n",
       "Residuals:\n",
       "     Min       1Q   Median       3Q      Max \n",
       "-0.12989 -0.02559 -0.01804 -0.01117  1.00694 \n",
       "\n",
       "Coefficients:\n",
       "            Estimate Std. Error t value Pr(>|t|)    \n",
       "(Intercept) 0.897653   0.003942  227.70   <2e-16 ***\n",
       "WHR         0.148984   0.004816   30.93   <2e-16 ***\n",
       "---\n",
       "Signif. codes:  0 ‘***’ 0.001 ‘**’ 0.01 ‘*’ 0.05 ‘.’ 0.1 ‘ ’ 1\n",
       "\n",
       "Residual standard error: 0.1367 on 165831 degrees of freedom\n",
       "Multiple R-squared:  0.005738,\tAdjusted R-squared:  0.005732 \n",
       "F-statistic:   957 on 1 and 165831 DF,  p-value: < 2.2e-16\n"
      ]
     },
     "metadata": {},
     "output_type": "display_data"
    },
    {
     "data": {
      "text/plain": [
       "\n",
       "Call:\n",
       "lm(formula = CAD ~ WHR + SEX_PHENO + AGE + PC1 + PC2 + PC3 + \n",
       "    PC4 + PC5 + PC6 + PC7 + PC8 + PC9 + PC10 + rs2071931_T + \n",
       "    rs984222_C + rs6427245_C + rs9286854_A + rs6541227_C + rs934778_G + \n",
       "    rs13432332_C + rs2861643_T + rs840584_A + rs4684859_A + rs9833879_G + \n",
       "    rs62271364_A + rs900400_C + rs17145265_C + rs2854050_A + \n",
       "    rs114344942_T + rs2503097_G + rs9385414_G + rs6983481_T + \n",
       "    Affx.32556093_T + rs444318_A + rs10991417_C + rs72927213_C + \n",
       "    rs2303436_T + rs797475_A + rs6573198_G + rs1129003_C + rs4789257_C + \n",
       "    rs3810068_C + rs10403360_A + rs805770_T + rs1572053_A + rs2000339_A)\n",
       "\n",
       "Residuals:\n",
       "     Min       1Q   Median       3Q      Max \n",
       "-0.11286 -0.02990 -0.01927 -0.00698  1.01799 \n",
       "\n",
       "Coefficients: (1 not defined because of singularities)\n",
       "                  Estimate Std. Error t value Pr(>|t|)    \n",
       "(Intercept)      8.454e-01  4.927e-03 171.593  < 2e-16 ***\n",
       "WHR              1.195e-01  4.910e-03  24.333  < 2e-16 ***\n",
       "SEX_PHENO               NA         NA      NA       NA    \n",
       "AGE              1.426e-03  4.314e-05  33.057  < 2e-16 ***\n",
       "PC1              1.545e-04  1.323e-04   1.168  0.24290    \n",
       "PC2              4.729e-05  1.579e-04   0.299  0.76457    \n",
       "PC3              2.940e-04  1.868e-04   1.574  0.11541    \n",
       "PC4              2.720e-04  8.379e-05   3.246  0.00117 ** \n",
       "PC5              1.683e-04  4.811e-05   3.497  0.00047 ***\n",
       "PC6              3.123e-05  1.707e-04   0.183  0.85483    \n",
       "PC7             -7.421e-05  7.902e-05  -0.939  0.34767    \n",
       "PC8              7.582e-05  1.120e-04   0.677  0.49859    \n",
       "PC9              3.238e-04  7.404e-05   4.374 1.22e-05 ***\n",
       "PC10             2.507e-05  1.456e-04   0.172  0.86333    \n",
       "rs2071931_T     -7.912e-04  5.695e-04  -1.389  0.16471    \n",
       "rs984222_C       4.374e-04  4.865e-04   0.899  0.36858    \n",
       "rs6427245_C     -4.594e-04  4.847e-04  -0.948  0.34328    \n",
       "rs9286854_A      4.100e-05  4.781e-04   0.086  0.93165    \n",
       "rs6541227_C     -9.085e-05  4.810e-04  -0.189  0.85019    \n",
       "rs934778_G       3.675e-04  5.077e-04   0.724  0.46922    \n",
       "rs13432332_C    -6.524e-05  4.766e-04  -0.137  0.89111    \n",
       "rs2861643_T     -4.961e-04  5.153e-04  -0.963  0.33565    \n",
       "rs840584_A      -3.680e-04  5.065e-04  -0.726  0.46753    \n",
       "rs4684859_A     -8.283e-04  4.795e-04  -1.728  0.08407 .  \n",
       "rs9833879_G      9.544e-04  5.761e-04   1.657  0.09758 .  \n",
       "rs62271364_A     5.921e-05  8.094e-04   0.073  0.94169    \n",
       "rs900400_C      -1.985e-04  4.845e-04  -0.410  0.68202    \n",
       "rs17145265_C    -1.962e-04  5.397e-04  -0.364  0.71619    \n",
       "rs2854050_A     -6.173e-04  9.218e-04  -0.670  0.50308    \n",
       "rs114344942_T    6.267e-04  1.113e-03   0.563  0.57340    \n",
       "rs2503097_G     -1.254e-04  5.913e-04  -0.212  0.83203    \n",
       "rs9385414_G      7.646e-05  4.759e-04   0.161  0.87236    \n",
       "rs6983481_T     -5.668e-04  5.545e-04  -1.022  0.30673    \n",
       "Affx.32556093_T  1.434e-03  8.371e-04   1.713  0.08681 .  \n",
       "rs444318_A       2.662e-04  4.724e-04   0.564  0.57305    \n",
       "rs10991417_C     7.387e-05  4.718e-04   0.157  0.87556    \n",
       "rs72927213_C    -2.837e-04  4.891e-04  -0.580  0.56189    \n",
       "rs2303436_T      1.790e-04  4.940e-04   0.362  0.71713    \n",
       "rs797475_A      -3.715e-04  7.293e-04  -0.509  0.61054    \n",
       "rs6573198_G      6.111e-04  5.269e-04   1.160  0.24614    \n",
       "rs1129003_C     -2.866e-04  9.599e-04  -0.299  0.76527    \n",
       "rs4789257_C     -9.897e-04  8.794e-04  -1.125  0.26041    \n",
       "rs3810068_C     -6.209e-04  4.826e-04  -1.286  0.19830    \n",
       "rs10403360_A    -3.960e-04  4.768e-04  -0.831  0.40625    \n",
       "rs805770_T      -2.676e-04  4.862e-04  -0.550  0.58205    \n",
       "rs1572053_A      6.807e-04  4.887e-04   1.393  0.16370    \n",
       "rs2000339_A     -6.535e-04  4.735e-04  -1.380  0.16753    \n",
       "---\n",
       "Signif. codes:  0 ‘***’ 0.001 ‘**’ 0.01 ‘*’ 0.05 ‘.’ 0.1 ‘ ’ 1\n",
       "\n",
       "Residual standard error: 0.1362 on 165787 degrees of freedom\n",
       "Multiple R-squared:  0.01274,\tAdjusted R-squared:  0.01247 \n",
       "F-statistic: 47.54 on 45 and 165787 DF,  p-value: < 2.2e-16\n"
      ]
     },
     "metadata": {},
     "output_type": "display_data"
    }
   ],
   "source": [
    "# Run a covariate-adjusted model for the association between WHR & CAD\n",
    "summary(lm(CAD~WHR))\n",
    "summary(lm(CAD~WHR+SEX_PHENO+AGE+PC1+PC2+PC3+PC4+PC5+PC6+PC7+PC8+PC9+PC10\n",
    "              +rs2071931_T+rs984222_C+rs6427245_C+rs9286854_A+rs6541227_C+rs934778_G+rs13432332_C\n",
    "              +rs2861643_T+rs840584_A+rs4684859_A+rs9833879_G+rs62271364_A+rs900400_C+rs17145265_C\n",
    "              +rs2854050_A+rs114344942_T+rs2503097_G+rs9385414_G+rs6983481_T\n",
    "              +Affx.32556093_T+rs444318_A+rs10991417_C+rs72927213_C+rs2303436_T+rs797475_A+rs6573198_G\n",
    "              +rs1129003_C+rs4789257_C+rs3810068_C+rs10403360_A+rs805770_T+rs1572053_A+rs2000339_A\n",
    "          ))"
   ]
  },
  {
   "cell_type": "markdown",
   "id": "15ceb848-61ef-47a7-addc-347b049abd6f",
   "metadata": {},
   "source": [
    "### MR/IV Analysis: TSLS"
   ]
  },
  {
   "cell_type": "code",
   "execution_count": 24,
   "id": "154cd53e-bdd2-4bb3-82ed-1657a7fdaf57",
   "metadata": {
    "vscode": {
     "languageId": "r"
    }
   },
   "outputs": [
    {
     "name": "stderr",
     "output_type": "stream",
     "text": [
      "Loading required package: car\n",
      "\n",
      "Loading required package: carData\n",
      "\n",
      "Loading required package: lmtest\n",
      "\n",
      "Loading required package: zoo\n",
      "\n",
      "\n",
      "Attaching package: ‘zoo’\n",
      "\n",
      "\n",
      "The following objects are masked from ‘package:base’:\n",
      "\n",
      "    as.Date, as.Date.numeric\n",
      "\n",
      "\n",
      "Loading required package: sandwich\n",
      "\n",
      "Loading required package: survival\n",
      "\n"
     ]
    }
   ],
   "source": [
    "library(AER)"
   ]
  },
  {
   "cell_type": "code",
   "execution_count": 25,
   "id": "c80374b0-2c2b-407f-ad22-bb63a44f859b",
   "metadata": {
    "vscode": {
     "languageId": "r"
    }
   },
   "outputs": [
    {
     "data": {
      "text/plain": [
       "\n",
       "Call:\n",
       "ivreg(formula = CAD ~ WHR)\n",
       "\n",
       "Residuals:\n",
       "     Min       1Q   Median       3Q      Max \n",
       "-0.12989 -0.02559 -0.01804 -0.01117  1.00694 \n",
       "\n",
       "Coefficients:\n",
       "            Estimate Std. Error t value Pr(>|t|)    \n",
       "(Intercept) 0.897653   0.003942  227.70   <2e-16 ***\n",
       "WHR         0.148984   0.004816   30.93   <2e-16 ***\n",
       "---\n",
       "Signif. codes:  0 ‘***’ 0.001 ‘**’ 0.01 ‘*’ 0.05 ‘.’ 0.1 ‘ ’ 1\n",
       "\n",
       "Residual standard error: 0.1367 on 165831 degrees of freedom\n",
       "Multiple R-Squared: 0.005738,\tAdjusted R-squared: 0.005732 \n",
       "Wald test:   957 on 1 and 165831 DF,  p-value: < 2.2e-16 \n"
      ]
     },
     "metadata": {},
     "output_type": "display_data"
    }
   ],
   "source": [
    "summary(ivreg(CAD~WHR))"
   ]
  },
  {
   "cell_type": "code",
   "execution_count": 26,
   "id": "63a32eb9-0564-49f6-b0f6-9bd1697bec6f",
   "metadata": {
    "tags": [],
    "vscode": {
     "languageId": "r"
    }
   },
   "outputs": [
    {
     "data": {
      "text/plain": [
       "\n",
       "Call:\n",
       "ivreg(formula = CAD ~ WHR | AGE + PC1 + PC2 + PC3 + PC4 + PC5 + \n",
       "    PC6 + PC7 + PC8 + PC9 + PC10)\n",
       "\n",
       "Residuals:\n",
       "     Min       1Q   Median       3Q      Max \n",
       "-0.77416 -0.06295 -0.01153  0.03537  1.15885 \n",
       "\n",
       "Coefficients:\n",
       "            Estimate Std. Error t value Pr(>|t|)    \n",
       "(Intercept)  0.19066    0.02381   8.007 1.19e-15 ***\n",
       "WHR          1.01583    0.02919  34.797  < 2e-16 ***\n",
       "---\n",
       "Signif. codes:  0 ‘***’ 0.001 ‘**’ 0.01 ‘*’ 0.05 ‘.’ 0.1 ‘ ’ 1\n",
       "\n",
       "Residual standard error: 0.1495 on 165831 degrees of freedom\n",
       "Multiple R-Squared: -0.1885,\tAdjusted R-squared: -0.1885 \n",
       "Wald test:  1211 on 1 and 165831 DF,  p-value: < 2.2e-16 \n"
      ]
     },
     "metadata": {},
     "output_type": "display_data"
    }
   ],
   "source": [
    "summary(ivreg(CAD~WHR | AGE+PC1+PC2+PC3+PC4+PC5+PC6+PC7+PC8+PC9+PC10))"
   ]
  },
  {
   "cell_type": "code",
   "execution_count": 27,
   "id": "01e978d1-7dd0-4ed9-b099-fef1ee554696",
   "metadata": {
    "vscode": {
     "languageId": "r"
    }
   },
   "outputs": [
    {
     "data": {
      "text/plain": [
       "\n",
       "Call:\n",
       "ivreg(formula = CAD ~ WHR | +rs2071931_T + rs984222_C + rs6427245_C + \n",
       "    rs9286854_A + rs6541227_C + rs934778_G + rs13432332_C + rs2861643_T + \n",
       "    rs840584_A + rs4684859_A + rs9833879_G + rs62271364_A + rs900400_C + \n",
       "    rs17145265_C + rs2854050_A + rs114344942_T + rs2503097_G + \n",
       "    rs9385414_G + rs6983481_T + Affx.32556093_T + rs444318_A + \n",
       "    rs10991417_C + rs72927213_C + rs2303436_T + rs797475_A + \n",
       "    rs6573198_G + rs1129003_C + rs4789257_C + rs3810068_C + rs10403360_A + \n",
       "    rs805770_T + rs1572053_A + rs2000339_A)\n",
       "\n",
       "Residuals:\n",
       "     Min       1Q   Median       3Q      Max \n",
       "-0.14140 -0.02625 -0.01793 -0.01033  1.00966 \n",
       "\n",
       "Coefficients:\n",
       "            Estimate Std. Error t value Pr(>|t|)    \n",
       "(Intercept)  0.88502    0.03519  25.146  < 2e-16 ***\n",
       "WHR          0.16447    0.04315   3.812 0.000138 ***\n",
       "---\n",
       "Signif. codes:  0 ‘***’ 0.001 ‘**’ 0.01 ‘*’ 0.05 ‘.’ 0.1 ‘ ’ 1\n",
       "\n",
       "Residual standard error: 0.1367 on 165831 degrees of freedom\n",
       "Multiple R-Squared: 0.005676,\tAdjusted R-squared: 0.00567 \n",
       "Wald test: 14.53 on 1 and 165831 DF,  p-value: 0.0001382 \n"
      ]
     },
     "metadata": {},
     "output_type": "display_data"
    }
   ],
   "source": [
    "summary(ivreg(CAD~WHR |   \n",
    "    +rs2071931_T+rs984222_C+rs6427245_C+rs9286854_A+rs6541227_C+rs934778_G+rs13432332_C\n",
    "    +rs2861643_T+rs840584_A+rs4684859_A+rs9833879_G+rs62271364_A+rs900400_C+rs17145265_C\n",
    "    +rs2854050_A+rs114344942_T+rs2503097_G+rs9385414_G+rs6983481_T\n",
    "    +Affx.32556093_T+rs444318_A+rs10991417_C+rs72927213_C+rs2303436_T+rs797475_A+rs6573198_G\n",
    "    +rs1129003_C+rs4789257_C+rs3810068_C+rs10403360_A+rs805770_T+rs1572053_A+rs2000339_A))"
   ]
  },
  {
   "cell_type": "code",
   "execution_count": 28,
   "id": "3cb76236-a2f8-4622-a279-bdb4894e58e2",
   "metadata": {
    "vscode": {
     "languageId": "r"
    }
   },
   "outputs": [
    {
     "data": {
      "text/plain": [
       "\n",
       "Call:\n",
       "ivreg(formula = CAD ~ WHR + AGE + PC1 + PC2 + PC3 + PC4 + PC5 + \n",
       "    PC6 + PC7 + PC8 + PC9 + PC10 | AGE + PC1 + PC2 + PC3 + PC4 + \n",
       "    PC5 + PC6 + PC7 + PC8 + PC9 + PC10 + rs2071931_T + rs984222_C + \n",
       "    rs6427245_C + rs9286854_A + rs6541227_C + rs934778_G + rs13432332_C + \n",
       "    rs2861643_T + rs840584_A + rs4684859_A + rs9833879_G + rs62271364_A + \n",
       "    rs900400_C + rs17145265_C + rs2854050_A + rs114344942_T + \n",
       "    rs2503097_G + rs9385414_G + rs6983481_T + Affx.32556093_T + \n",
       "    rs444318_A + rs10991417_C + rs72927213_C + rs2303436_T + \n",
       "    rs797475_A + rs6573198_G + rs1129003_C + rs4789257_C + rs3810068_C + \n",
       "    rs10403360_A + rs805770_T + rs1572053_A + rs2000339_A)\n",
       "\n",
       "Residuals:\n",
       "      Min        1Q    Median        3Q       Max \n",
       "-0.133726 -0.030301 -0.018986 -0.006365  1.022236 \n",
       "\n",
       "Coefficients:\n",
       "              Estimate Std. Error t value Pr(>|t|)    \n",
       "(Intercept)  8.226e-01  3.205e-02  25.664  < 2e-16 ***\n",
       "WHR          1.478e-01  4.377e-02   3.376 0.000735 ***\n",
       "AGE          1.382e-03  8.020e-05  17.231  < 2e-16 ***\n",
       "PC1          1.519e-04  1.324e-04   1.147 0.251345    \n",
       "PC2          4.905e-05  1.579e-04   0.311 0.756094    \n",
       "PC3          2.990e-04  1.867e-04   1.601 0.109378    \n",
       "PC4          2.767e-04  8.388e-05   3.299 0.000971 ***\n",
       "PC5          1.608e-04  5.031e-05   3.196 0.001392 ** \n",
       "PC6          2.453e-05  1.707e-04   0.144 0.885699    \n",
       "PC7         -7.852e-05  7.893e-05  -0.995 0.319815    \n",
       "PC8          7.065e-05  1.121e-04   0.630 0.528460    \n",
       "PC9          3.263e-04  7.412e-05   4.403 1.07e-05 ***\n",
       "PC10         1.323e-05  1.459e-04   0.091 0.927724    \n",
       "---\n",
       "Signif. codes:  0 ‘***’ 0.001 ‘**’ 0.01 ‘*’ 0.05 ‘.’ 0.1 ‘ ’ 1\n",
       "\n",
       "Residual standard error: 0.1363 on 165820 degrees of freedom\n",
       "Multiple R-Squared: 0.01238,\tAdjusted R-squared: 0.01231 \n",
       "Wald test: 126.7 on 12 and 165820 DF,  p-value: < 2.2e-16 \n"
      ]
     },
     "metadata": {},
     "output_type": "display_data"
    }
   ],
   "source": [
    "summary(ivreg(CAD ~ WHR + AGE+PC1+PC2+PC3+PC4+PC5+PC6+PC7+PC8+PC9+PC10 | AGE+PC1+PC2+PC3+PC4+PC5+PC6+PC7+PC8+PC9+PC10 \n",
    "   +rs2071931_T+rs984222_C+rs6427245_C+rs9286854_A+rs6541227_C+rs934778_G+rs13432332_C\n",
    "   +rs2861643_T+rs840584_A+rs4684859_A+rs9833879_G+rs62271364_A+rs900400_C+rs17145265_C\n",
    "   +rs2854050_A+rs114344942_T+rs2503097_G+rs9385414_G+rs6983481_T\n",
    "   +Affx.32556093_T+rs444318_A+rs10991417_C+rs72927213_C+rs2303436_T+rs797475_A+rs6573198_G\n",
    "   +rs1129003_C+rs4789257_C+rs3810068_C+rs10403360_A+rs805770_T+rs1572053_A+rs2000339_A))"
   ]
  },
  {
   "cell_type": "markdown",
   "id": "627c7058-aab7-457d-a8ad-a80fbc1f9108",
   "metadata": {},
   "source": [
    "### MR/IV Analysis: TSLS using PGS000842"
   ]
  },
  {
   "cell_type": "code",
   "execution_count": 29,
   "id": "a7e92cee-2f63-41c0-839c-67a4959fa0cc",
   "metadata": {
    "vscode": {
     "languageId": "r"
    }
   },
   "outputs": [
    {
     "data": {
      "text/plain": [
       "\n",
       "Call:\n",
       "ivreg(formula = CAD ~ WHR + AGE + PC1 + PC2 + PC3 + PC4 + PC5 + \n",
       "    PC6 + PC7 + PC8 + PC9 + PC10 | AGE + PC1 + PC2 + PC3 + PC4 + \n",
       "    PC5 + PC6 + PC7 + PC8 + PC9 + PC10 + PGS000842_SCORE)\n",
       "\n",
       "Residuals:\n",
       "      Min        1Q    Median        3Q       Max \n",
       "-0.099975 -0.029620 -0.019521 -0.007358  1.015756 \n",
       "\n",
       "Coefficients:\n",
       "              Estimate Std. Error t value Pr(>|t|)    \n",
       "(Intercept)  8.560e-01  4.923e-02  17.386  < 2e-16 ***\n",
       "WHR          1.020e-01  6.738e-02   1.514 0.130029    \n",
       "AGE          1.453e-03  1.130e-04  12.857  < 2e-16 ***\n",
       "PC1          1.575e-04  1.325e-04   1.189 0.234579    \n",
       "PC2          4.484e-05  1.580e-04   0.284 0.776548    \n",
       "PC3          2.955e-04  1.868e-04   1.582 0.113641    \n",
       "PC4          2.830e-04  8.417e-05   3.362 0.000774 ***\n",
       "PC5          1.770e-04  5.346e-05   3.310 0.000932 ***\n",
       "PC6          2.153e-05  1.707e-04   0.126 0.899606    \n",
       "PC7         -7.682e-05  7.895e-05  -0.973 0.330530    \n",
       "PC8          7.637e-05  1.123e-04   0.680 0.496288    \n",
       "PC9          3.215e-04  7.432e-05   4.326 1.52e-05 ***\n",
       "PC10         2.380e-05  1.464e-04   0.163 0.870813    \n",
       "---\n",
       "Signif. codes:  0 ‘***’ 0.001 ‘**’ 0.01 ‘*’ 0.05 ‘.’ 0.1 ‘ ’ 1\n",
       "\n",
       "Residual standard error: 0.1362 on 165820 degrees of freedom\n",
       "Multiple R-Squared: 0.0125,\tAdjusted R-squared: 0.01243 \n",
       "Wald test:   126 on 12 and 165820 DF,  p-value: < 2.2e-16 \n"
      ]
     },
     "metadata": {},
     "output_type": "display_data"
    }
   ],
   "source": [
    "summary(ivreg(CAD ~ WHR + AGE+PC1+PC2+PC3+PC4+PC5+PC6+PC7+PC8+PC9+PC10 | AGE+PC1+PC2+PC3+PC4+PC5+PC6+PC7+PC8+PC9+PC10+PGS000842_SCORE))"
   ]
  },
  {
   "cell_type": "markdown",
   "id": "2b6630f0-6776-4306-bc8c-79db3350cdb0",
   "metadata": {},
   "source": [
    "### Manual TSLS"
   ]
  },
  {
   "cell_type": "code",
   "execution_count": 30,
   "id": "40c11543-18fc-46ee-91a6-e6965481c31f",
   "metadata": {
    "vscode": {
     "languageId": "r"
    }
   },
   "outputs": [
    {
     "data": {
      "text/plain": [
       "\n",
       "Call:\n",
       "lm(formula = CAD ~ Pred_WHR + AGE + PC1 + PC2 + PC3 + PC4 + PC5 + \n",
       "    PC6 + PC7 + PC8 + PC9 + PC10)\n",
       "\n",
       "Residuals:\n",
       "     Min       1Q   Median       3Q      Max \n",
       "-0.05229 -0.02915 -0.02022 -0.00810  1.00990 \n",
       "\n",
       "Coefficients:\n",
       "              Estimate Std. Error t value Pr(>|t|)    \n",
       "(Intercept)  8.226e-01  3.211e-02  25.621  < 2e-16 ***\n",
       "Pred_WHR     1.478e-01  4.384e-02   3.371 0.000750 ***\n",
       "AGE          1.382e-03  8.034e-05  17.202  < 2e-16 ***\n",
       "PC1          1.519e-04  1.326e-04   1.145 0.252143    \n",
       "PC2          4.905e-05  1.582e-04   0.310 0.756491    \n",
       "PC3          2.990e-04  1.871e-04   1.598 0.109975    \n",
       "PC4          2.767e-04  8.402e-05   3.293 0.000991 ***\n",
       "PC5          1.608e-04  5.040e-05   3.191 0.001418 ** \n",
       "PC6          2.453e-05  1.709e-04   0.144 0.885889    \n",
       "PC7         -7.852e-05  7.906e-05  -0.993 0.320629    \n",
       "PC8          7.065e-05  1.123e-04   0.629 0.529154    \n",
       "PC9          3.263e-04  7.424e-05   4.396 1.11e-05 ***\n",
       "PC10         1.323e-05  1.462e-04   0.091 0.927845    \n",
       "---\n",
       "Signif. codes:  0 ‘***’ 0.001 ‘**’ 0.01 ‘*’ 0.05 ‘.’ 0.1 ‘ ’ 1\n",
       "\n",
       "Residual standard error: 0.1365 on 165820 degrees of freedom\n",
       "Multiple R-squared:  0.009056,\tAdjusted R-squared:  0.008985 \n",
       "F-statistic: 126.3 on 12 and 165820 DF,  p-value: < 2.2e-16\n"
      ]
     },
     "metadata": {},
     "output_type": "display_data"
    }
   ],
   "source": [
    "First_Stage <- lm (WHR ~ AGE+PC1+PC2+PC3+PC4+PC5+PC6+PC7+PC8+PC9+PC10\n",
    "    +rs2071931_T+rs984222_C+rs6427245_C+rs9286854_A+rs6541227_C+rs934778_G+rs13432332_C\n",
    "    +rs2861643_T+rs840584_A+rs4684859_A+rs9833879_G+rs62271364_A+rs900400_C+rs17145265_C\n",
    "    +rs2854050_A+rs114344942_T+rs2503097_G+rs9385414_G+rs6983481_T\n",
    "    +Affx.32556093_T+rs444318_A+rs10991417_C+rs72927213_C+rs2303436_T+rs797475_A+rs6573198_G\n",
    "    +rs1129003_C+rs4789257_C+rs3810068_C+rs10403360_A+rs805770_T+rs1572053_A+rs2000339_A)\n",
    "\n",
    "Pred_WHR <- predict(First_Stage)\n",
    "\n",
    "#Have a quick look at these values\n",
    "# table(Pred_WHR)\n",
    "#plot(rs3091244, WHR)\n",
    "#abline(lm(WHR~ rs3091244), col=\"red\")\n",
    "\n",
    "#Now regress the outcome variable (CAD) on the predicted values of WHR, from the first-stage regression.\n",
    "\n",
    "# Second stage regression\n",
    "Second_Stage <- lm(CAD~Pred_WHR+AGE+PC1+PC2+PC3+PC4+PC5+PC6+PC7+PC8+PC9+PC10)\n",
    "\n",
    "# Look at the results:\n",
    "summary(Second_Stage)"
   ]
  },
  {
   "cell_type": "code",
   "execution_count": 31,
   "id": "eefce66a-1ab0-4931-99e0-e279439b011f",
   "metadata": {
    "vscode": {
     "languageId": "r"
    }
   },
   "outputs": [
    {
     "data": {
      "image/png": "[encoded data removed]",
      "text/plain": [
       "Plot with title “Predicted WHR - female”"
      ]
     },
     "metadata": {
      "image/png": {
       "height": 420,
       "width": 420
      }
     },
     "output_type": "display_data"
    }
   ],
   "source": [
    "hist(Pred_WHR, breaks=100, col = \"grey\", main = \"Predicted WHR - female\")"
   ]
  },
  {
   "cell_type": "markdown",
   "id": "bbbaf284-a970-45f9-aba1-4ecf5bfd7620",
   "metadata": {},
   "source": [
    "### Manual TSLS using PGS000842_SCORE"
   ]
  },
  {
   "cell_type": "code",
   "execution_count": 32,
   "id": "c568e762-349d-41e9-87fc-065e5cc17521",
   "metadata": {
    "tags": [],
    "vscode": {
     "languageId": "r"
    }
   },
   "outputs": [
    {
     "data": {
      "text/plain": [
       "\n",
       "Call:\n",
       "lm(formula = CAD ~ Pred_WHR + AGE + PC1 + PC2 + PC3 + PC4 + PC5 + \n",
       "    PC6 + PC7 + PC8 + PC9 + PC10)\n",
       "\n",
       "Residuals:\n",
       "     Min       1Q   Median       3Q      Max \n",
       "-0.05159 -0.02912 -0.02026 -0.00811  1.00975 \n",
       "\n",
       "Coefficients:\n",
       "              Estimate Std. Error t value Pr(>|t|)    \n",
       "(Intercept)  8.560e-01  4.932e-02  17.355  < 2e-16 ***\n",
       "Pred_WHR     1.020e-01  6.749e-02   1.511 0.130709    \n",
       "AGE          1.453e-03  1.132e-04  12.834  < 2e-16 ***\n",
       "PC1          1.575e-04  1.328e-04   1.187 0.235406    \n",
       "PC2          4.484e-05  1.583e-04   0.283 0.776932    \n",
       "PC3          2.955e-04  1.871e-04   1.579 0.114281    \n",
       "PC4          2.830e-04  8.432e-05   3.356 0.000791 ***\n",
       "PC5          1.770e-04  5.355e-05   3.305 0.000952 ***\n",
       "PC6          2.153e-05  1.710e-04   0.126 0.899783    \n",
       "PC7         -7.682e-05  7.909e-05  -0.971 0.331385    \n",
       "PC8          7.637e-05  1.124e-04   0.679 0.497049    \n",
       "PC9          3.215e-04  7.445e-05   4.318 1.58e-05 ***\n",
       "PC10         2.380e-05  1.466e-04   0.162 0.871039    \n",
       "---\n",
       "Signif. codes:  0 ‘***’ 0.001 ‘**’ 0.01 ‘*’ 0.05 ‘.’ 0.1 ‘ ’ 1\n",
       "\n",
       "Residual standard error: 0.1365 on 165820 degrees of freedom\n",
       "Multiple R-squared:  0.009002,\tAdjusted R-squared:  0.00893 \n",
       "F-statistic: 125.5 on 12 and 165820 DF,  p-value: < 2.2e-16\n"
      ]
     },
     "metadata": {},
     "output_type": "display_data"
    }
   ],
   "source": [
    "First_Stage <- lm (WHR ~ AGE+PC1+PC2+PC3+PC4+PC5+PC6+PC7+PC8+PC9+PC10+PGS000842_SCORE)\n",
    "Pred_WHR <- predict(First_Stage)\n",
    "Second_Stage <- lm(CAD~Pred_WHR+AGE+PC1+PC2+PC3+PC4+PC5+PC6+PC7+PC8+PC9+PC10)\n",
    "summary(Second_Stage)"
   ]
  },
  {
   "cell_type": "code",
   "execution_count": 33,
   "id": "c8eeabf7-f4c4-4baf-a60e-2724b03df628",
   "metadata": {
    "vscode": {
     "languageId": "r"
    }
   },
   "outputs": [
    {
     "data": {
      "text/plain": [
       "\n",
       "Call:\n",
       "lm(formula = WHR ~ +rs2071931_T + rs984222_C + rs6427245_C + \n",
       "    rs9286854_A + rs6541227_C + rs934778_G + rs13432332_C + rs2861643_T + \n",
       "    rs840584_A + rs4684859_A + rs9833879_G + rs62271364_A + rs900400_C + \n",
       "    rs17145265_C + rs2854050_A + rs114344942_T + rs2503097_G + \n",
       "    rs9385414_G + rs6983481_T + Affx.32556093_T + rs444318_A + \n",
       "    rs10991417_C + rs72927213_C + rs2303436_T + rs797475_A + \n",
       "    rs6573198_G + rs1129003_C + rs4789257_C + rs3810068_C + rs10403360_A + \n",
       "    rs805770_T + rs1572053_A + rs2000339_A)\n",
       "\n",
       "Residuals:\n",
       "     Min       1Q   Median       3Q      Max \n",
       "-0.37303 -0.04986 -0.00481  0.04506  0.74715 \n",
       "\n",
       "Coefficients:\n",
       "                  Estimate Std. Error t value Pr(>|t|)    \n",
       "(Intercept)      0.8184776  0.0009821 833.437  < 2e-16 ***\n",
       "rs2071931_T      0.0018093  0.0002895   6.251 4.09e-10 ***\n",
       "rs984222_C      -0.0018004  0.0002469  -7.291 3.08e-13 ***\n",
       "rs6427245_C     -0.0025268  0.0002459 -10.274  < 2e-16 ***\n",
       "rs9286854_A      0.0023713  0.0002428   9.765  < 2e-16 ***\n",
       "rs6541227_C     -0.0032707  0.0002443 -13.386  < 2e-16 ***\n",
       "rs934778_G       0.0017304  0.0002580   6.708 1.98e-11 ***\n",
       "rs13432332_C    -0.0015023  0.0002422  -6.203 5.56e-10 ***\n",
       "rs2861643_T     -0.0017111  0.0002619  -6.534 6.43e-11 ***\n",
       "rs840584_A      -0.0019478  0.0002572  -7.572 3.69e-14 ***\n",
       "rs4684859_A      0.0024052  0.0002436   9.874  < 2e-16 ***\n",
       "rs9833879_G     -0.0029491  0.0002926 -10.079  < 2e-16 ***\n",
       "rs62271364_A     0.0026584  0.0004114   6.462 1.03e-10 ***\n",
       "rs900400_C      -0.0021743  0.0002460  -8.839  < 2e-16 ***\n",
       "rs17145265_C    -0.0019010  0.0002742  -6.933 4.13e-12 ***\n",
       "rs2854050_A      0.0032449  0.0004681   6.933 4.14e-12 ***\n",
       "rs114344942_T    0.0066051  0.0005653  11.683  < 2e-16 ***\n",
       "rs2503097_G      0.0026159  0.0003002   8.712  < 2e-16 ***\n",
       "rs9385414_G     -0.0016577  0.0002419  -6.853 7.28e-12 ***\n",
       "rs6983481_T     -0.0021287  0.0002818  -7.554 4.26e-14 ***\n",
       "Affx.32556093_T  0.0028016  0.0004251   6.591 4.39e-11 ***\n",
       "rs444318_A       0.0013531  0.0002401   5.635 1.76e-08 ***\n",
       "rs10991417_C     0.0018077  0.0002397   7.541 4.67e-14 ***\n",
       "rs72927213_C     0.0018982  0.0002486   7.636 2.25e-14 ***\n",
       "rs2303436_T     -0.0015872  0.0002511  -6.321 2.60e-10 ***\n",
       "rs797475_A      -0.0028563  0.0003706  -7.707 1.29e-14 ***\n",
       "rs6573198_G      0.0017071  0.0002675   6.381 1.77e-10 ***\n",
       "rs1129003_C     -0.0034390  0.0004875  -7.055 1.74e-12 ***\n",
       "rs4789257_C      0.0032677  0.0004469   7.312 2.65e-13 ***\n",
       "rs3810068_C     -0.0020337  0.0002451  -8.296  < 2e-16 ***\n",
       "rs10403360_A     0.0014865  0.0002423   6.136 8.50e-10 ***\n",
       "rs805770_T       0.0015955  0.0002470   6.459 1.06e-10 ***\n",
       "rs1572053_A      0.0017868  0.0002484   7.193 6.37e-13 ***\n",
       "rs2000339_A     -0.0016660  0.0002406  -6.924 4.42e-12 ***\n",
       "---\n",
       "Signif. codes:  0 ‘***’ 0.001 ‘**’ 0.01 ‘*’ 0.05 ‘.’ 0.1 ‘ ’ 1\n",
       "\n",
       "Residual standard error: 0.06928 on 165799 degrees of freedom\n",
       "Multiple R-squared:  0.01246,\tAdjusted R-squared:  0.01226 \n",
       "F-statistic: 63.38 on 33 and 165799 DF,  p-value: < 2.2e-16\n"
      ]
     },
     "metadata": {},
     "output_type": "display_data"
    }
   ],
   "source": [
    "##################################################\n",
    "#######    5. Weak instruments bias       ########\n",
    "##################################################\n",
    "\n",
    "\n",
    "# Assessing instrument strength with the F-stat (looking for >10).\n",
    "# For Single SNP MR, the F-statistic is calculated as:\n",
    "\n",
    "# Fstat = R2 * (N-2)/(1-R2)\n",
    "\n",
    "# where R2 is the variance explained in exposure by the SNP, and N is number of individuals in the study. \n",
    "# This statistic is available in the output for OLS and TSLS\n",
    "\n",
    "\n",
    "#------------------------------------------------------------------------------------------------------------------\n",
    "#-------------      Q10. Looking at the F-statistic, determine if weak instruments may be an issue      -----------\n",
    "#------------------------------------------------------------------------------------------------------------------\n",
    "\n",
    "\n",
    "#Look at F-stat from the first-stage linear regression\n",
    " summary(lm(WHR~+rs2071931_T+rs984222_C+rs6427245_C+rs9286854_A+rs6541227_C+rs934778_G+rs13432332_C\n",
    "              +rs2861643_T+rs840584_A+rs4684859_A+rs9833879_G+rs62271364_A+rs900400_C+rs17145265_C\n",
    "              +rs2854050_A+rs114344942_T+rs2503097_G+rs9385414_G+rs6983481_T\n",
    "              +Affx.32556093_T+rs444318_A+rs10991417_C+rs72927213_C+rs2303436_T+rs797475_A+rs6573198_G\n",
    "              +rs1129003_C+rs4789257_C+rs3810068_C+rs10403360_A+rs805770_T+rs1572053_A+rs2000339_A))\n",
    "\n",
    "# #Look at F-stat from ?diagnostics? by AER package\n",
    "# summary(ivreg(CAD~WHR | rs10403360_A + rs1051921_A + \n",
    "#     rs10733793_G + rs1075403_T + rs10821962_G + rs10980802_G + \n",
    "#     rs10991417_C + rs11708337_G + rs12700667_G + rs12721046_A + \n",
    "#     rs1294421_T + rs13092573_T + rs13432332_C + rs1364063_C + \n",
    "#     rs1572053_A + rs1579557_T + rs1605750_G + rs1727302_G + rs1757471_C + \n",
    "#     rs1801265_G + rs1806755_A + rs2073267_G + rs2254069_A + rs2509957_C + \n",
    "#     rs2605110_C + rs2857702_C + rs34929649_C + rs35318931_A + \n",
    "#     rs3747579_C + rs3810068_C + rs3836828_T + rs4684859_A + rs4849294_C + \n",
    "#     rs555754_A + rs56083715_T + rs6093462_T + rs6815138_C + rs707930_C + \n",
    "#     rs75114809_A + rs805770_T + rs900400_C + rs9267995_G + rs9286854_A + \n",
    "#     rs934778_G + rs974801_G + rs984222_C), diagnostics=T)\n",
    "\n",
    "##########\n",
    "#*CHECK*\n",
    "#Are all the variables and parameters now complete in your graphical representation?\n"
   ]
  },
  {
   "cell_type": "markdown",
   "id": "b86ec336-300f-4b1c-9958-6f0c0bb571ef",
   "metadata": {},
   "source": [
    "rs2071931_T + rs984222_C + rs6427245_C + \n",
    "    rs9286854_A + rs6541227_C + rs934778_G + rs13432332_C + rs2861643_T + \n",
    "    rs840584_A + rs4684859_A + rs9833879_G + rs62271364_A + rs900400_C + \n",
    "    rs17145265_C + rs2854050_A + rs114344942_T + \n",
    "    rs2503097_G + rs9385414_G + rs6983481_T + Affx.32556093_T + \n",
    "    rs444318_A + rs10991417_C + rs72927213_C + rs2303436_T + \n",
    "    rs797475_A + rs6573198_G + rs1129003_C + rs4789257_C + rs3810068_C + \n",
    "    rs10403360_A + rs805770_T + rs1572053_A + rs2000339_A"
   ]
  },
  {
   "cell_type": "code",
   "execution_count": 34,
   "id": "2c479638-bd2e-4137-8ab3-d341e3d2bf2a",
   "metadata": {
    "vscode": {
     "languageId": "r"
    }
   },
   "outputs": [
    {
     "data": {
      "text/plain": [
       "\n",
       "Call:\n",
       "lm(formula = WHR ~ rs2000339_A)\n",
       "\n",
       "Residuals:\n",
       "     Min       1Q   Median       3Q      Max \n",
       "-0.36804 -0.05030 -0.00489  0.04551  0.74494 \n",
       "\n",
       "Coefficients:\n",
       "              Estimate Std. Error  t value Pr(>|t|)    \n",
       "(Intercept)  0.8173275  0.0002977 2745.377  < 2e-16 ***\n",
       "rs2000339_A -0.0017229  0.0002420   -7.118  1.1e-12 ***\n",
       "---\n",
       "Signif. codes:  0 ‘***’ 0.001 ‘**’ 0.01 ‘*’ 0.05 ‘.’ 0.1 ‘ ’ 1\n",
       "\n",
       "Residual standard error: 0.0697 on 165831 degrees of freedom\n",
       "Multiple R-squared:  0.0003054,\tAdjusted R-squared:  0.0002994 \n",
       "F-statistic: 50.66 on 1 and 165831 DF,  p-value: 1.101e-12\n"
      ]
     },
     "metadata": {},
     "output_type": "display_data"
    }
   ],
   "source": [
    "summary(lm(WHR~rs2000339_A))"
   ]
  },
  {
   "cell_type": "code",
   "execution_count": null,
   "id": "b1159bb3-25b3-478f-bae0-4b6f426a87d5",
   "metadata": {
    "vscode": {
     "languageId": "r"
    }
   },
   "outputs": [],
   "source": [
    "\n"
   ]
  },
  {
   "cell_type": "code",
   "execution_count": 35,
   "id": "260f5af5-cfb4-4ccd-96ad-c47258d65bb3",
   "metadata": {
    "vscode": {
     "languageId": "r"
    }
   },
   "outputs": [
    {
     "name": "stderr",
     "output_type": "stream",
     "text": [
      "TwoSampleMR version 0.5.6 \n",
      "[>] New: Option to use non-European LD reference panels for clumping etc\n",
      "[>] Some studies temporarily quarantined to verify effect allele\n",
      "[>] See news(package='TwoSampleMR') and https://gwas.mrcieu.ac.uk for further details\n",
      "\n",
      "\n"
     ]
    }
   ],
   "source": [
    "library(TwoSampleMR)\n",
    "library(ggplot2)"
   ]
  },
  {
   "cell_type": "code",
   "execution_count": 36,
   "id": "e6b77e17-d215-4fbd-bbaa-ef2025fc3c26",
   "metadata": {
    "vscode": {
     "languageId": "r"
    }
   },
   "outputs": [
    {
     "data": {
      "text/html": [
       "<style>\n",
       ".list-inline {list-style: none; margin:0; padding: 0}\n",
       ".list-inline>li {display: inline-block}\n",
       ".list-inline>li:not(:last-child)::after {content: \"\\00b7\"; padding: 0 .5ex}\n",
       "</style>\n",
       "<ol class=list-inline><li>'FID'</li><li>'IID_PHENO'</li><li>'SEX_PHENO'</li><li>'AGE'</li><li>'WAIST'</li><li>'HIP'</li><li>'PC1'</li><li>'PC2'</li><li>'PC3'</li><li>'PC4'</li><li>'PC5'</li><li>'PC6'</li><li>'PC7'</li><li>'PC8'</li><li>'PC9'</li><li>'PC10'</li><li>'CAD'</li><li>'WHR'</li><li>'AFR'</li><li>'LFR'</li><li>'TFR'</li><li>'EID'</li><li>'EVER_SMOKED'</li><li>'BMI'</li><li>'TOWNSEND'</li><li>'IID_GENO'</li><li>'PAT'</li><li>'MAT'</li><li>'SEX_GENO'</li><li>'PHENOTYPE'</li><li>'rs2071931_T'</li><li>'rs984222_C'</li><li>'rs6427245_C'</li><li>'rs9286854_A'</li><li>'rs6541227_C'</li><li>'rs934778_G'</li><li>'rs13432332_C'</li><li>'rs2861643_T'</li><li>'rs840584_A'</li><li>'rs4684859_A'</li><li>'rs9833879_G'</li><li>'rs62271364_A'</li><li>'rs900400_C'</li><li>'rs17145265_C'</li><li>'rs2854050_A'</li><li>'rs114344942_T'</li><li>'rs2503097_G'</li><li>'rs9385414_G'</li><li>'rs6983481_T'</li><li>'Affx.32556093_T'</li><li>'rs444318_A'</li><li>'rs10991417_C'</li><li>'rs72927213_C'</li><li>'rs2303436_T'</li><li>'rs797475_A'</li><li>'rs6573198_G'</li><li>'rs1129003_C'</li><li>'rs4789257_C'</li><li>'rs3810068_C'</li><li>'rs10403360_A'</li><li>'rs805770_T'</li><li>'rs1572053_A'</li><li>'rs2000339_A'</li><li>'PGS000842_SCORE'</li><li>'DBP'</li><li>'SBP'</li></ol>\n"
      ],
      "text/latex": [
       "\\begin{enumerate*}\n",
       "\\item 'FID'\n",
       "\\item 'IID\\_PHENO'\n",
       "\\item 'SEX\\_PHENO'\n",
       "\\item 'AGE'\n",
       "\\item 'WAIST'\n",
       "\\item 'HIP'\n",
       "\\item 'PC1'\n",
       "\\item 'PC2'\n",
       "\\item 'PC3'\n",
       "\\item 'PC4'\n",
       "\\item 'PC5'\n",
       "\\item 'PC6'\n",
       "\\item 'PC7'\n",
       "\\item 'PC8'\n",
       "\\item 'PC9'\n",
       "\\item 'PC10'\n",
       "\\item 'CAD'\n",
       "\\item 'WHR'\n",
       "\\item 'AFR'\n",
       "\\item 'LFR'\n",
       "\\item 'TFR'\n",
       "\\item 'EID'\n",
       "\\item 'EVER\\_SMOKED'\n",
       "\\item 'BMI'\n",
       "\\item 'TOWNSEND'\n",
       "\\item 'IID\\_GENO'\n",
       "\\item 'PAT'\n",
       "\\item 'MAT'\n",
       "\\item 'SEX\\_GENO'\n",
       "\\item 'PHENOTYPE'\n",
       "\\item 'rs2071931\\_T'\n",
       "\\item 'rs984222\\_C'\n",
       "\\item 'rs6427245\\_C'\n",
       "\\item 'rs9286854\\_A'\n",
       "\\item 'rs6541227\\_C'\n",
       "\\item 'rs934778\\_G'\n",
       "\\item 'rs13432332\\_C'\n",
       "\\item 'rs2861643\\_T'\n",
       "\\item 'rs840584\\_A'\n",
       "\\item 'rs4684859\\_A'\n",
       "\\item 'rs9833879\\_G'\n",
       "\\item 'rs62271364\\_A'\n",
       "\\item 'rs900400\\_C'\n",
       "\\item 'rs17145265\\_C'\n",
       "\\item 'rs2854050\\_A'\n",
       "\\item 'rs114344942\\_T'\n",
       "\\item 'rs2503097\\_G'\n",
       "\\item 'rs9385414\\_G'\n",
       "\\item 'rs6983481\\_T'\n",
       "\\item 'Affx.32556093\\_T'\n",
       "\\item 'rs444318\\_A'\n",
       "\\item 'rs10991417\\_C'\n",
       "\\item 'rs72927213\\_C'\n",
       "\\item 'rs2303436\\_T'\n",
       "\\item 'rs797475\\_A'\n",
       "\\item 'rs6573198\\_G'\n",
       "\\item 'rs1129003\\_C'\n",
       "\\item 'rs4789257\\_C'\n",
       "\\item 'rs3810068\\_C'\n",
       "\\item 'rs10403360\\_A'\n",
       "\\item 'rs805770\\_T'\n",
       "\\item 'rs1572053\\_A'\n",
       "\\item 'rs2000339\\_A'\n",
       "\\item 'PGS000842\\_SCORE'\n",
       "\\item 'DBP'\n",
       "\\item 'SBP'\n",
       "\\end{enumerate*}\n"
      ],
      "text/markdown": [
       "1. 'FID'\n",
       "2. 'IID_PHENO'\n",
       "3. 'SEX_PHENO'\n",
       "4. 'AGE'\n",
       "5. 'WAIST'\n",
       "6. 'HIP'\n",
       "7. 'PC1'\n",
       "8. 'PC2'\n",
       "9. 'PC3'\n",
       "10. 'PC4'\n",
       "11. 'PC5'\n",
       "12. 'PC6'\n",
       "13. 'PC7'\n",
       "14. 'PC8'\n",
       "15. 'PC9'\n",
       "16. 'PC10'\n",
       "17. 'CAD'\n",
       "18. 'WHR'\n",
       "19. 'AFR'\n",
       "20. 'LFR'\n",
       "21. 'TFR'\n",
       "22. 'EID'\n",
       "23. 'EVER_SMOKED'\n",
       "24. 'BMI'\n",
       "25. 'TOWNSEND'\n",
       "26. 'IID_GENO'\n",
       "27. 'PAT'\n",
       "28. 'MAT'\n",
       "29. 'SEX_GENO'\n",
       "30. 'PHENOTYPE'\n",
       "31. 'rs2071931_T'\n",
       "32. 'rs984222_C'\n",
       "33. 'rs6427245_C'\n",
       "34. 'rs9286854_A'\n",
       "35. 'rs6541227_C'\n",
       "36. 'rs934778_G'\n",
       "37. 'rs13432332_C'\n",
       "38. 'rs2861643_T'\n",
       "39. 'rs840584_A'\n",
       "40. 'rs4684859_A'\n",
       "41. 'rs9833879_G'\n",
       "42. 'rs62271364_A'\n",
       "43. 'rs900400_C'\n",
       "44. 'rs17145265_C'\n",
       "45. 'rs2854050_A'\n",
       "46. 'rs114344942_T'\n",
       "47. 'rs2503097_G'\n",
       "48. 'rs9385414_G'\n",
       "49. 'rs6983481_T'\n",
       "50. 'Affx.32556093_T'\n",
       "51. 'rs444318_A'\n",
       "52. 'rs10991417_C'\n",
       "53. 'rs72927213_C'\n",
       "54. 'rs2303436_T'\n",
       "55. 'rs797475_A'\n",
       "56. 'rs6573198_G'\n",
       "57. 'rs1129003_C'\n",
       "58. 'rs4789257_C'\n",
       "59. 'rs3810068_C'\n",
       "60. 'rs10403360_A'\n",
       "61. 'rs805770_T'\n",
       "62. 'rs1572053_A'\n",
       "63. 'rs2000339_A'\n",
       "64. 'PGS000842_SCORE'\n",
       "65. 'DBP'\n",
       "66. 'SBP'\n",
       "\n",
       "\n"
      ],
      "text/plain": [
       " [1] \"FID\"             \"IID_PHENO\"       \"SEX_PHENO\"       \"AGE\"            \n",
       " [5] \"WAIST\"           \"HIP\"             \"PC1\"             \"PC2\"            \n",
       " [9] \"PC3\"             \"PC4\"             \"PC5\"             \"PC6\"            \n",
       "[13] \"PC7\"             \"PC8\"             \"PC9\"             \"PC10\"           \n",
       "[17] \"CAD\"             \"WHR\"             \"AFR\"             \"LFR\"            \n",
       "[21] \"TFR\"             \"EID\"             \"EVER_SMOKED\"     \"BMI\"            \n",
       "[25] \"TOWNSEND\"        \"IID_GENO\"        \"PAT\"             \"MAT\"            \n",
       "[29] \"SEX_GENO\"        \"PHENOTYPE\"       \"rs2071931_T\"     \"rs984222_C\"     \n",
       "[33] \"rs6427245_C\"     \"rs9286854_A\"     \"rs6541227_C\"     \"rs934778_G\"     \n",
       "[37] \"rs13432332_C\"    \"rs2861643_T\"     \"rs840584_A\"      \"rs4684859_A\"    \n",
       "[41] \"rs9833879_G\"     \"rs62271364_A\"    \"rs900400_C\"      \"rs17145265_C\"   \n",
       "[45] \"rs2854050_A\"     \"rs114344942_T\"   \"rs2503097_G\"     \"rs9385414_G\"    \n",
       "[49] \"rs6983481_T\"     \"Affx.32556093_T\" \"rs444318_A\"      \"rs10991417_C\"   \n",
       "[53] \"rs72927213_C\"    \"rs2303436_T\"     \"rs797475_A\"      \"rs6573198_G\"    \n",
       "[57] \"rs1129003_C\"     \"rs4789257_C\"     \"rs3810068_C\"     \"rs10403360_A\"   \n",
       "[61] \"rs805770_T\"      \"rs1572053_A\"     \"rs2000339_A\"     \"PGS000842_SCORE\"\n",
       "[65] \"DBP\"             \"SBP\"            "
      ]
     },
     "metadata": {},
     "output_type": "display_data"
    }
   ],
   "source": [
    "colnames(example)"
   ]
  },
  {
   "cell_type": "code",
   "execution_count": 37,
   "id": "4bb506c8-18e8-4605-a301-d729cda99ce4",
   "metadata": {
    "vscode": {
     "languageId": "r"
    }
   },
   "outputs": [],
   "source": [
    "n_cols <- ncol(example)\n",
    "columns = c(\"SNP\", \n",
    "            \"effect_allele.exposure\",\"beta.exposure\",\"se.exposure\", \"t.exposure\", \"p.exposure\",\n",
    "            \"effect_allele.outcome\",\"beta.outcome\",\"se.outcome\", \"t.outcome\", \"p.outcome\",\n",
    "            \"id.exposure\", \"exposure\", \"id.outcome\", \"outcome\", \"mr_keep\") \n",
    "my_df = data.frame(matrix(nrow = 0, ncol = length(columns))) \n",
    "colnames(my_df) = columns\n",
    "for (col_index in seq(31, 64)) # all snp columns for female\n",
    "{\n",
    "    cad_summary <- summary(lm(example[, \"CAD\"]~example[, col_index]))\n",
    "    #print(class(cad_summary))\n",
    "    cad_coefficients <- cad_summary$coefficients\n",
    "    if (dim(cad_coefficients)[1] > 1){\n",
    "        cad_coefficients <- cad_coefficients[2, ]\n",
    "        } else {\n",
    "        cad_coefficients <- c('', '', '', '')\n",
    "    }\n",
    "    whr_summary <- summary(lm(example[, \"WHR\"]~example[, col_index]))\n",
    "    #print(class(cad_summary))\n",
    "    whr_coefficients <- whr_summary$coefficients\n",
    "    mr_keep <- NULL\n",
    "    if (dim(whr_coefficients)[1] > 1){\n",
    "        whr_coefficients <- whr_coefficients[2, ]\n",
    "        mr_keep <- TRUE\n",
    "        } else {\n",
    "        mr_keep <- FALSE\n",
    "        whr_coefficients <- c('', '', '', '')\n",
    "    }\n",
    "    #cad_sigma <- cad_summary$sigma\n",
    "    #cad_rsquared <- cad_summary$r.squared\n",
    "    #print(class(cad_coefficients))\n",
    "    #print(cad_coefficients)\n",
    "    snp_effect_allele <- strsplit(colnames(example)[col_index], \"_\")\n",
    "    snp <- snp_effect_allele[[1]][1]\n",
    "    effect_allele <- snp_effect_allele[[1]][2]\n",
    "    #print(snp)\n",
    "    #print(effect_allele)\n",
    "    my_df <- rbind(my_df, c(c(snp, effect_allele),\n",
    "                          as.vector(whr_coefficients), \n",
    "                          c(effect_allele),\n",
    "                          as.vector(cad_coefficients), \n",
    "                          c(\"UKB_WHR\", \"WHR\", \"UKB_CAD\", \"CAD\", mr_keep)))\n",
    "}\n",
    "colnames(my_df) = columns\n",
    "write.csv(my_df, \n",
    "          file = paste(\"output/data_\", sex, \"_WHR_Exposure_CAD_Outcome_OneSample.csv\"), \n",
    "          quote = FALSE,\n",
    "          #sep = \"\",\n",
    "          row.names=TRUE)"
   ]
  },
  {
   "cell_type": "code",
   "execution_count": 38,
   "id": "ea2d3ce7-c80c-4ff2-bd97-9f8f8009e594",
   "metadata": {
    "vscode": {
     "languageId": "r"
    }
   },
   "outputs": [],
   "source": [
    "dat<-read.csv(\"output/data_ female _WHR_Exposure_CAD_Outcome_OneSample.csv\")"
   ]
  },
  {
   "cell_type": "code",
   "execution_count": 39,
   "id": "d2fb2af8-39ae-488e-bbf2-54ae65dd736e",
   "metadata": {
    "vscode": {
     "languageId": "r"
    }
   },
   "outputs": [
    {
     "data": {
      "text/html": [
       "<table class=\"dataframe\">\n",
       "<caption>A data.frame: 18 × 6</caption>\n",
       "<thead>\n",
       "\t<tr><th scope=col>obj</th><th scope=col>name</th><th scope=col>PubmedID</th><th scope=col>Description</th><th scope=col>use_by_default</th><th scope=col>heterogeneity_test</th></tr>\n",
       "\t<tr><th scope=col>&lt;chr&gt;</th><th scope=col>&lt;chr&gt;</th><th scope=col>&lt;chr&gt;</th><th scope=col>&lt;chr&gt;</th><th scope=col>&lt;lgl&gt;</th><th scope=col>&lt;lgl&gt;</th></tr>\n",
       "</thead>\n",
       "<tbody>\n",
       "\t<tr><td>mr_wald_ratio                </td><td>Wald ratio                                               </td><td>        </td><td>                                                           </td><td> TRUE</td><td>FALSE</td></tr>\n",
       "\t<tr><td>mr_two_sample_ml             </td><td>Maximum likelihood                                       </td><td>        </td><td>                                                           </td><td>FALSE</td><td> TRUE</td></tr>\n",
       "\t<tr><td>mr_egger_regression          </td><td>MR Egger                                                 </td><td>26050253</td><td>                                                           </td><td> TRUE</td><td> TRUE</td></tr>\n",
       "\t<tr><td>mr_egger_regression_bootstrap</td><td>MR Egger (bootstrap)                                     </td><td>26050253</td><td>                                                           </td><td>FALSE</td><td>FALSE</td></tr>\n",
       "\t<tr><td>mr_simple_median             </td><td>Simple median                                            </td><td>        </td><td>                                                           </td><td>FALSE</td><td>FALSE</td></tr>\n",
       "\t<tr><td>mr_weighted_median           </td><td>Weighted median                                          </td><td>        </td><td>                                                           </td><td> TRUE</td><td>FALSE</td></tr>\n",
       "\t<tr><td>mr_penalised_weighted_median </td><td>Penalised weighted median                                </td><td>        </td><td>                                                           </td><td>FALSE</td><td>FALSE</td></tr>\n",
       "\t<tr><td>mr_ivw                       </td><td>Inverse variance weighted                                </td><td>        </td><td>                                                           </td><td> TRUE</td><td> TRUE</td></tr>\n",
       "\t<tr><td>mr_ivw_radial                </td><td>IVW radial                                               </td><td>        </td><td>                                                           </td><td>FALSE</td><td> TRUE</td></tr>\n",
       "\t<tr><td>mr_ivw_mre                   </td><td>Inverse variance weighted (multiplicative random effects)</td><td>        </td><td>                                                           </td><td>FALSE</td><td>FALSE</td></tr>\n",
       "\t<tr><td>mr_ivw_fe                    </td><td>Inverse variance weighted (fixed effects)                </td><td>        </td><td>                                                           </td><td>FALSE</td><td>FALSE</td></tr>\n",
       "\t<tr><td>mr_simple_mode               </td><td>Simple mode                                              </td><td>        </td><td>                                                           </td><td> TRUE</td><td>FALSE</td></tr>\n",
       "\t<tr><td>mr_weighted_mode             </td><td>Weighted mode                                            </td><td>        </td><td>                                                           </td><td> TRUE</td><td>FALSE</td></tr>\n",
       "\t<tr><td>mr_weighted_mode_nome        </td><td>Weighted mode (NOME)                                     </td><td>        </td><td>                                                           </td><td>FALSE</td><td>FALSE</td></tr>\n",
       "\t<tr><td>mr_simple_mode_nome          </td><td>Simple mode (NOME)                                       </td><td>        </td><td>                                                           </td><td>FALSE</td><td>FALSE</td></tr>\n",
       "\t<tr><td>mr_raps                      </td><td>Robust adjusted profile score (RAPS)                     </td><td>        </td><td>                                                           </td><td>FALSE</td><td>FALSE</td></tr>\n",
       "\t<tr><td>mr_sign                      </td><td>Sign concordance test                                    </td><td>        </td><td>Tests for concordance of signs between exposure and outcome</td><td>FALSE</td><td>FALSE</td></tr>\n",
       "\t<tr><td>mr_uwr                       </td><td>Unweighted regression                                    </td><td>        </td><td>Doesn't use any weights                                    </td><td>FALSE</td><td> TRUE</td></tr>\n",
       "</tbody>\n",
       "</table>\n"
      ],
      "text/latex": [
       "A data.frame: 18 × 6\n",
       "\\begin{tabular}{llllll}\n",
       " obj & name & PubmedID & Description & use\\_by\\_default & heterogeneity\\_test\\\\\n",
       " <chr> & <chr> & <chr> & <chr> & <lgl> & <lgl>\\\\\n",
       "\\hline\n",
       "\t mr\\_wald\\_ratio                 & Wald ratio                                                &          &                                                             &  TRUE & FALSE\\\\\n",
       "\t mr\\_two\\_sample\\_ml              & Maximum likelihood                                        &          &                                                             & FALSE &  TRUE\\\\\n",
       "\t mr\\_egger\\_regression           & MR Egger                                                  & 26050253 &                                                             &  TRUE &  TRUE\\\\\n",
       "\t mr\\_egger\\_regression\\_bootstrap & MR Egger (bootstrap)                                      & 26050253 &                                                             & FALSE & FALSE\\\\\n",
       "\t mr\\_simple\\_median              & Simple median                                             &          &                                                             & FALSE & FALSE\\\\\n",
       "\t mr\\_weighted\\_median            & Weighted median                                           &          &                                                             &  TRUE & FALSE\\\\\n",
       "\t mr\\_penalised\\_weighted\\_median  & Penalised weighted median                                 &          &                                                             & FALSE & FALSE\\\\\n",
       "\t mr\\_ivw                        & Inverse variance weighted                                 &          &                                                             &  TRUE &  TRUE\\\\\n",
       "\t mr\\_ivw\\_radial                 & IVW radial                                                &          &                                                             & FALSE &  TRUE\\\\\n",
       "\t mr\\_ivw\\_mre                    & Inverse variance weighted (multiplicative random effects) &          &                                                             & FALSE & FALSE\\\\\n",
       "\t mr\\_ivw\\_fe                     & Inverse variance weighted (fixed effects)                 &          &                                                             & FALSE & FALSE\\\\\n",
       "\t mr\\_simple\\_mode                & Simple mode                                               &          &                                                             &  TRUE & FALSE\\\\\n",
       "\t mr\\_weighted\\_mode              & Weighted mode                                             &          &                                                             &  TRUE & FALSE\\\\\n",
       "\t mr\\_weighted\\_mode\\_nome         & Weighted mode (NOME)                                      &          &                                                             & FALSE & FALSE\\\\\n",
       "\t mr\\_simple\\_mode\\_nome           & Simple mode (NOME)                                        &          &                                                             & FALSE & FALSE\\\\\n",
       "\t mr\\_raps                       & Robust adjusted profile score (RAPS)                      &          &                                                             & FALSE & FALSE\\\\\n",
       "\t mr\\_sign                       & Sign concordance test                                     &          & Tests for concordance of signs between exposure and outcome & FALSE & FALSE\\\\\n",
       "\t mr\\_uwr                        & Unweighted regression                                     &          & Doesn't use any weights                                     & FALSE &  TRUE\\\\\n",
       "\\end{tabular}\n"
      ],
      "text/markdown": [
       "\n",
       "A data.frame: 18 × 6\n",
       "\n",
       "| obj &lt;chr&gt; | name &lt;chr&gt; | PubmedID &lt;chr&gt; | Description &lt;chr&gt; | use_by_default &lt;lgl&gt; | heterogeneity_test &lt;lgl&gt; |\n",
       "|---|---|---|---|---|---|\n",
       "| mr_wald_ratio                 | Wald ratio                                                | <!----> | <!----> |  TRUE | FALSE |\n",
       "| mr_two_sample_ml              | Maximum likelihood                                        | <!----> | <!----> | FALSE |  TRUE |\n",
       "| mr_egger_regression           | MR Egger                                                  | 26050253 | <!----> |  TRUE |  TRUE |\n",
       "| mr_egger_regression_bootstrap | MR Egger (bootstrap)                                      | 26050253 | <!----> | FALSE | FALSE |\n",
       "| mr_simple_median              | Simple median                                             | <!----> | <!----> | FALSE | FALSE |\n",
       "| mr_weighted_median            | Weighted median                                           | <!----> | <!----> |  TRUE | FALSE |\n",
       "| mr_penalised_weighted_median  | Penalised weighted median                                 | <!----> | <!----> | FALSE | FALSE |\n",
       "| mr_ivw                        | Inverse variance weighted                                 | <!----> | <!----> |  TRUE |  TRUE |\n",
       "| mr_ivw_radial                 | IVW radial                                                | <!----> | <!----> | FALSE |  TRUE |\n",
       "| mr_ivw_mre                    | Inverse variance weighted (multiplicative random effects) | <!----> | <!----> | FALSE | FALSE |\n",
       "| mr_ivw_fe                     | Inverse variance weighted (fixed effects)                 | <!----> | <!----> | FALSE | FALSE |\n",
       "| mr_simple_mode                | Simple mode                                               | <!----> | <!----> |  TRUE | FALSE |\n",
       "| mr_weighted_mode              | Weighted mode                                             | <!----> | <!----> |  TRUE | FALSE |\n",
       "| mr_weighted_mode_nome         | Weighted mode (NOME)                                      | <!----> | <!----> | FALSE | FALSE |\n",
       "| mr_simple_mode_nome           | Simple mode (NOME)                                        | <!----> | <!----> | FALSE | FALSE |\n",
       "| mr_raps                       | Robust adjusted profile score (RAPS)                      | <!----> | <!----> | FALSE | FALSE |\n",
       "| mr_sign                       | Sign concordance test                                     | <!----> | Tests for concordance of signs between exposure and outcome | FALSE | FALSE |\n",
       "| mr_uwr                        | Unweighted regression                                     | <!----> | Doesn't use any weights                                     | FALSE |  TRUE |\n",
       "\n"
      ],
      "text/plain": [
       "   obj                          \n",
       "1  mr_wald_ratio                \n",
       "2  mr_two_sample_ml             \n",
       "3  mr_egger_regression          \n",
       "4  mr_egger_regression_bootstrap\n",
       "5  mr_simple_median             \n",
       "6  mr_weighted_median           \n",
       "7  mr_penalised_weighted_median \n",
       "8  mr_ivw                       \n",
       "9  mr_ivw_radial                \n",
       "10 mr_ivw_mre                   \n",
       "11 mr_ivw_fe                    \n",
       "12 mr_simple_mode               \n",
       "13 mr_weighted_mode             \n",
       "14 mr_weighted_mode_nome        \n",
       "15 mr_simple_mode_nome          \n",
       "16 mr_raps                      \n",
       "17 mr_sign                      \n",
       "18 mr_uwr                       \n",
       "   name                                                      PubmedID\n",
       "1  Wald ratio                                                        \n",
       "2  Maximum likelihood                                                \n",
       "3  MR Egger                                                  26050253\n",
       "4  MR Egger (bootstrap)                                      26050253\n",
       "5  Simple median                                                     \n",
       "6  Weighted median                                                   \n",
       "7  Penalised weighted median                                         \n",
       "8  Inverse variance weighted                                         \n",
       "9  IVW radial                                                        \n",
       "10 Inverse variance weighted (multiplicative random effects)         \n",
       "11 Inverse variance weighted (fixed effects)                         \n",
       "12 Simple mode                                                       \n",
       "13 Weighted mode                                                     \n",
       "14 Weighted mode (NOME)                                              \n",
       "15 Simple mode (NOME)                                                \n",
       "16 Robust adjusted profile score (RAPS)                              \n",
       "17 Sign concordance test                                             \n",
       "18 Unweighted regression                                             \n",
       "   Description                                                 use_by_default\n",
       "1                                                               TRUE         \n",
       "2                                                              FALSE         \n",
       "3                                                               TRUE         \n",
       "4                                                              FALSE         \n",
       "5                                                              FALSE         \n",
       "6                                                               TRUE         \n",
       "7                                                              FALSE         \n",
       "8                                                               TRUE         \n",
       "9                                                              FALSE         \n",
       "10                                                             FALSE         \n",
       "11                                                             FALSE         \n",
       "12                                                              TRUE         \n",
       "13                                                              TRUE         \n",
       "14                                                             FALSE         \n",
       "15                                                             FALSE         \n",
       "16                                                             FALSE         \n",
       "17 Tests for concordance of signs between exposure and outcome FALSE         \n",
       "18 Doesn't use any weights                                     FALSE         \n",
       "   heterogeneity_test\n",
       "1  FALSE             \n",
       "2   TRUE             \n",
       "3   TRUE             \n",
       "4  FALSE             \n",
       "5  FALSE             \n",
       "6  FALSE             \n",
       "7  FALSE             \n",
       "8   TRUE             \n",
       "9   TRUE             \n",
       "10 FALSE             \n",
       "11 FALSE             \n",
       "12 FALSE             \n",
       "13 FALSE             \n",
       "14 FALSE             \n",
       "15 FALSE             \n",
       "16 FALSE             \n",
       "17 FALSE             \n",
       "18  TRUE             "
      ]
     },
     "metadata": {},
     "output_type": "display_data"
    },
    {
     "data": {
      "text/html": [
       "<dl>\n",
       "\t<dt>$test_dist</dt>\n",
       "\t\t<dd>'z'</dd>\n",
       "\t<dt>$nboot</dt>\n",
       "\t\t<dd>1000</dd>\n",
       "\t<dt>$Cov</dt>\n",
       "\t\t<dd>0</dd>\n",
       "\t<dt>$penk</dt>\n",
       "\t\t<dd>20</dd>\n",
       "\t<dt>$phi</dt>\n",
       "\t\t<dd>1</dd>\n",
       "\t<dt>$alpha</dt>\n",
       "\t\t<dd>0.05</dd>\n",
       "\t<dt>$Qthresh</dt>\n",
       "\t\t<dd>0.05</dd>\n",
       "\t<dt>$over.dispersion</dt>\n",
       "\t\t<dd>TRUE</dd>\n",
       "\t<dt>$loss.function</dt>\n",
       "\t\t<dd>'huber'</dd>\n",
       "\t<dt>$shrinkage</dt>\n",
       "\t\t<dd>FALSE</dd>\n",
       "</dl>\n"
      ],
      "text/latex": [
       "\\begin{description}\n",
       "\\item[\\$test\\_dist] 'z'\n",
       "\\item[\\$nboot] 1000\n",
       "\\item[\\$Cov] 0\n",
       "\\item[\\$penk] 20\n",
       "\\item[\\$phi] 1\n",
       "\\item[\\$alpha] 0.05\n",
       "\\item[\\$Qthresh] 0.05\n",
       "\\item[\\$over.dispersion] TRUE\n",
       "\\item[\\$loss.function] 'huber'\n",
       "\\item[\\$shrinkage] FALSE\n",
       "\\end{description}\n"
      ],
      "text/markdown": [
       "$test_dist\n",
       ":   'z'\n",
       "$nboot\n",
       ":   1000\n",
       "$Cov\n",
       ":   0\n",
       "$penk\n",
       ":   20\n",
       "$phi\n",
       ":   1\n",
       "$alpha\n",
       ":   0.05\n",
       "$Qthresh\n",
       ":   0.05\n",
       "$over.dispersion\n",
       ":   TRUE\n",
       "$loss.function\n",
       ":   'huber'\n",
       "$shrinkage\n",
       ":   FALSE\n",
       "\n",
       "\n"
      ],
      "text/plain": [
       "$test_dist\n",
       "[1] \"z\"\n",
       "\n",
       "$nboot\n",
       "[1] 1000\n",
       "\n",
       "$Cov\n",
       "[1] 0\n",
       "\n",
       "$penk\n",
       "[1] 20\n",
       "\n",
       "$phi\n",
       "[1] 1\n",
       "\n",
       "$alpha\n",
       "[1] 0.05\n",
       "\n",
       "$Qthresh\n",
       "[1] 0.05\n",
       "\n",
       "$over.dispersion\n",
       "[1] TRUE\n",
       "\n",
       "$loss.function\n",
       "[1] \"huber\"\n",
       "\n",
       "$shrinkage\n",
       "[1] FALSE\n"
      ]
     },
     "metadata": {},
     "output_type": "display_data"
    }
   ],
   "source": [
    "#Make sure effect alleles match. Otherwise change sign of beta:\n",
    "dat$effect_allele.outcome<-as.factor(dat$effect_allele.outcome)\n",
    "dat$effect_allele.exposure<-as.factor(dat$effect_allele.exposure)\n",
    "lev2 <- unique( c( levels(dat$effect_allele.outcome), levels(dat$effect_allele.exposure) ) )\n",
    "dat$effect_allele.outcome <- factor(dat$effect_allele.outcome, levels=lev2)\n",
    "dat$effect_allele.exposure <- factor(dat$effect_allele.exposure, levels=lev2)\n",
    "dat$effect_allele.exposure<-gsub(\" \", \"\",dat$effect_allele.exposure, fixed = TRUE)\n",
    "dat$beta.exposure[dat$effect_allele.exposure!=dat$effect_allele.outcome]<-dat$beta.exposure[dat$effect_allele.exposure!=dat$effect_allele.outcome] * -1\n",
    "\n",
    "#To see MR methods that can be used:\n",
    "mr_method_list()\n",
    "#Default methods: IVW, MR-Egger, Weighted Median, Simple Mode, Weighted Mode\n",
    "\n",
    "#To view default parameters (parameters used unless otherwise specified):\n",
    "default_parameters()"
   ]
  },
  {
   "cell_type": "code",
   "execution_count": 40,
   "id": "703c80b0-6d32-4af2-814d-61b22c54213d",
   "metadata": {
    "vscode": {
     "languageId": "r"
    }
   },
   "outputs": [
    {
     "name": "stderr",
     "output_type": "stream",
     "text": [
      "Analysing 'UKB_WHR' on 'UKB_CAD'\n",
      "\n"
     ]
    },
    {
     "data": {
      "text/html": [
       "<table class=\"dataframe\">\n",
       "<caption>A data.frame: 3 × 9</caption>\n",
       "<thead>\n",
       "\t<tr><th scope=col>id.exposure</th><th scope=col>id.outcome</th><th scope=col>outcome</th><th scope=col>exposure</th><th scope=col>method</th><th scope=col>nsnp</th><th scope=col>b</th><th scope=col>se</th><th scope=col>pval</th></tr>\n",
       "\t<tr><th scope=col>&lt;chr&gt;</th><th scope=col>&lt;chr&gt;</th><th scope=col>&lt;chr&gt;</th><th scope=col>&lt;chr&gt;</th><th scope=col>&lt;chr&gt;</th><th scope=col>&lt;int&gt;</th><th scope=col>&lt;dbl&gt;</th><th scope=col>&lt;dbl&gt;</th><th scope=col>&lt;dbl&gt;</th></tr>\n",
       "</thead>\n",
       "<tbody>\n",
       "\t<tr><td>UKB_WHR</td><td>UKB_CAD</td><td>CAD</td><td>WHR</td><td>MR Egger                 </td><td>34</td><td>0.1131679</td><td>0.06157061</td><td>7.535905e-02</td></tr>\n",
       "\t<tr><td>UKB_WHR</td><td>UKB_CAD</td><td>CAD</td><td>WHR</td><td>Inverse variance weighted</td><td>34</td><td>0.1505252</td><td>0.03626536</td><td>3.315181e-05</td></tr>\n",
       "\t<tr><td>UKB_WHR</td><td>UKB_CAD</td><td>CAD</td><td>WHR</td><td>Weighted median          </td><td>34</td><td>0.1314392</td><td>0.05884996</td><td>2.551842e-02</td></tr>\n",
       "</tbody>\n",
       "</table>\n"
      ],
      "text/latex": [
       "A data.frame: 3 × 9\n",
       "\\begin{tabular}{lllllllll}\n",
       " id.exposure & id.outcome & outcome & exposure & method & nsnp & b & se & pval\\\\\n",
       " <chr> & <chr> & <chr> & <chr> & <chr> & <int> & <dbl> & <dbl> & <dbl>\\\\\n",
       "\\hline\n",
       "\t UKB\\_WHR & UKB\\_CAD & CAD & WHR & MR Egger                  & 34 & 0.1131679 & 0.06157061 & 7.535905e-02\\\\\n",
       "\t UKB\\_WHR & UKB\\_CAD & CAD & WHR & Inverse variance weighted & 34 & 0.1505252 & 0.03626536 & 3.315181e-05\\\\\n",
       "\t UKB\\_WHR & UKB\\_CAD & CAD & WHR & Weighted median           & 34 & 0.1314392 & 0.05884996 & 2.551842e-02\\\\\n",
       "\\end{tabular}\n"
      ],
      "text/markdown": [
       "\n",
       "A data.frame: 3 × 9\n",
       "\n",
       "| id.exposure &lt;chr&gt; | id.outcome &lt;chr&gt; | outcome &lt;chr&gt; | exposure &lt;chr&gt; | method &lt;chr&gt; | nsnp &lt;int&gt; | b &lt;dbl&gt; | se &lt;dbl&gt; | pval &lt;dbl&gt; |\n",
       "|---|---|---|---|---|---|---|---|---|\n",
       "| UKB_WHR | UKB_CAD | CAD | WHR | MR Egger                  | 34 | 0.1131679 | 0.06157061 | 7.535905e-02 |\n",
       "| UKB_WHR | UKB_CAD | CAD | WHR | Inverse variance weighted | 34 | 0.1505252 | 0.03626536 | 3.315181e-05 |\n",
       "| UKB_WHR | UKB_CAD | CAD | WHR | Weighted median           | 34 | 0.1314392 | 0.05884996 | 2.551842e-02 |\n",
       "\n"
      ],
      "text/plain": [
       "  id.exposure id.outcome outcome exposure method                    nsnp\n",
       "1 UKB_WHR     UKB_CAD    CAD     WHR      MR Egger                  34  \n",
       "2 UKB_WHR     UKB_CAD    CAD     WHR      Inverse variance weighted 34  \n",
       "3 UKB_WHR     UKB_CAD    CAD     WHR      Weighted median           34  \n",
       "  b         se         pval        \n",
       "1 0.1131679 0.06157061 7.535905e-02\n",
       "2 0.1505252 0.03626536 3.315181e-05\n",
       "3 0.1314392 0.05884996 2.551842e-02"
      ]
     },
     "metadata": {},
     "output_type": "display_data"
    }
   ],
   "source": [
    "res<-mr(dat, method_list=c(\"mr_egger_regression\", \"mr_ivw\", \"mr_weighted_median\"))\n",
    "res"
   ]
  },
  {
   "cell_type": "code",
   "execution_count": 41,
   "id": "692825f3-7e9b-4471-aa04-cf4a4a9ebc5c",
   "metadata": {
    "vscode": {
     "languageId": "r"
    }
   },
   "outputs": [
    {
     "name": "stderr",
     "output_type": "stream",
     "text": [
      "Warning message:\n",
      "“\u001b[1m\u001b[22mRemoved 1 rows containing missing values (`geom_errorbarh()`).”\n",
      "Warning message:\n",
      "“\u001b[1m\u001b[22mRemoved 1 rows containing missing values (`geom_point()`).”\n",
      "Warning message:\n",
      "“\u001b[1m\u001b[22mRemoved 1 rows containing missing values (`geom_errorbarh()`).”\n",
      "Warning message:\n",
      "“\u001b[1m\u001b[22mRemoved 1 rows containing missing values (`geom_point()`).”\n",
      "Warning message:\n",
      "“\u001b[1m\u001b[22mRemoved 1 rows containing missing values (`geom_errorbarh()`).”\n",
      "Warning message:\n",
      "“\u001b[1m\u001b[22mRemoved 1 rows containing missing values (`geom_point()`).”\n"
     ]
    }
   ],
   "source": [
    "p1 <- mr_scatter_plot(res, dat)\n",
    "ggsave(p1[[1]], file = \"plots/female_scatter.pdf.pdf\", width = 7, height = 7)\n",
    "\n",
    "\n",
    "res_single <- mr_singlesnp(dat)\n",
    "p2 <- mr_forest_plot(res_single)\n",
    "ggsave(p2[[1]], file = \"plots/female_forest.pdf\", width = 7, height = 7)\n",
    "\n",
    "res_single <- mr_singlesnp(dat, all_method = c(\"mr_ivw\"))\n",
    "p3 <- mr_forest_plot(res_single)\n",
    "ggsave(p3[[1]], file = \"plots/female_forest_methods.pdf\", width = 7, height = 7)\n",
    "\n",
    "res_loo <- mr_leaveoneout(dat)\n",
    "p3 <- mr_leaveoneout_plot(res_loo)\n",
    "ggsave(p3[[1]], file = \"plots/female_leaveoneout.pdf\", width = 7, height = 7)\n",
    "\n",
    "\n",
    "res_single <- mr_singlesnp(dat)\n",
    "p4 <- mr_funnel_plot(res_single)\n",
    "ggsave(p4[[1]], file = \"plots/female_funnel.pdf\", width = 7, height = 7)\n"
   ]
  },
  {
   "cell_type": "code",
   "execution_count": null,
   "id": "0de77a8c-753e-43fa-81cc-b4324b1da1c6",
   "metadata": {
    "vscode": {
     "languageId": "r"
    }
   },
   "outputs": [],
   "source": []
  },
  {
   "cell_type": "code",
   "execution_count": 42,
   "id": "0dc93dd5-faec-472b-8146-44a90042a6f5",
   "metadata": {
    "vscode": {
     "languageId": "r"
    }
   },
   "outputs": [
    {
     "data": {
      "text/html": [
       "<table class=\"dataframe\">\n",
       "<caption>A data.frame: 1 × 7</caption>\n",
       "<thead>\n",
       "\t<tr><th scope=col>id.exposure</th><th scope=col>id.outcome</th><th scope=col>outcome</th><th scope=col>exposure</th><th scope=col>egger_intercept</th><th scope=col>se</th><th scope=col>pval</th></tr>\n",
       "\t<tr><th scope=col>&lt;chr&gt;</th><th scope=col>&lt;chr&gt;</th><th scope=col>&lt;chr&gt;</th><th scope=col>&lt;chr&gt;</th><th scope=col>&lt;dbl&gt;</th><th scope=col>&lt;dbl&gt;</th><th scope=col>&lt;dbl&gt;</th></tr>\n",
       "</thead>\n",
       "<tbody>\n",
       "\t<tr><td>UKB_WHR</td><td>UKB_CAD</td><td>CAD</td><td>WHR</td><td>0.000120324</td><td>0.0001602625</td><td>0.458263</td></tr>\n",
       "</tbody>\n",
       "</table>\n"
      ],
      "text/latex": [
       "A data.frame: 1 × 7\n",
       "\\begin{tabular}{lllllll}\n",
       " id.exposure & id.outcome & outcome & exposure & egger\\_intercept & se & pval\\\\\n",
       " <chr> & <chr> & <chr> & <chr> & <dbl> & <dbl> & <dbl>\\\\\n",
       "\\hline\n",
       "\t UKB\\_WHR & UKB\\_CAD & CAD & WHR & 0.000120324 & 0.0001602625 & 0.458263\\\\\n",
       "\\end{tabular}\n"
      ],
      "text/markdown": [
       "\n",
       "A data.frame: 1 × 7\n",
       "\n",
       "| id.exposure &lt;chr&gt; | id.outcome &lt;chr&gt; | outcome &lt;chr&gt; | exposure &lt;chr&gt; | egger_intercept &lt;dbl&gt; | se &lt;dbl&gt; | pval &lt;dbl&gt; |\n",
       "|---|---|---|---|---|---|---|\n",
       "| UKB_WHR | UKB_CAD | CAD | WHR | 0.000120324 | 0.0001602625 | 0.458263 |\n",
       "\n"
      ],
      "text/plain": [
       "  id.exposure id.outcome outcome exposure egger_intercept se           pval    \n",
       "1 UKB_WHR     UKB_CAD    CAD     WHR      0.000120324     0.0001602625 0.458263"
      ]
     },
     "metadata": {},
     "output_type": "display_data"
    }
   ],
   "source": [
    "mr_pleiotropy_test(dat)"
   ]
  },
  {
   "cell_type": "code",
   "execution_count": null,
   "id": "5e779abf-9b6a-42cf-b1e9-f03dc68f75ac",
   "metadata": {
    "vscode": {
     "languageId": "r"
    }
   },
   "outputs": [],
   "source": []
  }
 ],
 "metadata": {
  "kernelspec": {
   "display_name": "R (4.2.1)",
   "language": "R",
   "name": "ir"
  },
  "language_info": {
   "codemirror_mode": "r",
   "file_extension": ".r",
   "mimetype": "text/x-r-source",
   "name": "R",
   "pygments_lexer": "r",
   "version": "4.2.1"
  }
 },
 "nbformat": 4,
 "nbformat_minor": 5
}
