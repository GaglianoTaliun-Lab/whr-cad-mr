{
 "cells": [
  {
   "cell_type": "markdown",
   "id": "93be6ee2-0d70-489b-9310-b72b68b878f2",
   "metadata": {},
   "source": [
    "## 27 Two Sample MR analysis WHRadjBMI (exposure, EUR) -> CAD (outcome, UKB)"
   ]
  },
  {
   "cell_type": "code",
   "execution_count": 1,
   "id": "4ffa17fa-ff4b-4ed2-8783-1fc1d7d1cd7d",
   "metadata": {
    "vscode": {
     "languageId": "r"
    }
   },
   "outputs": [
    {
     "name": "stderr",
     "output_type": "stream",
     "text": [
      "TwoSampleMR version 0.5.6 \n",
      "[>] New: Option to use non-European LD reference panels for clumping etc\n",
      "[>] Some studies temporarily quarantined to verify effect allele\n",
      "[>] See news(package='TwoSampleMR') and https://gwas.mrcieu.ac.uk for further details\n",
      "\n",
      "\n"
     ]
    }
   ],
   "source": [
    "library(TwoSampleMR)\n",
    "library(ggplot2)\n",
    "library(MRPRESSO)\n",
    "#dat.csv will require minimally SNP (rsID), beta.exposure, beta.outcome, se.exposure, se.outcome, effect_allele.exposure, effect_allele.outcome, exposure, id.exposure (source name), outcome, id.outcome, and mr_keep (=TRUE)"
   ]
  },
  {
   "cell_type": "markdown",
   "id": "d6a88a81-f4c6-41ae-b9aa-6637d9d878c7",
   "metadata": {},
   "source": [
    "### Female"
   ]
  },
  {
   "cell_type": "code",
   "execution_count": 2,
   "id": "4dde5a31-20ef-41a6-82e7-338eff9a5c99",
   "metadata": {
    "vscode": {
     "languageId": "r"
    }
   },
   "outputs": [],
   "source": [
    "#Read .csv file\n",
    "dat<-read.csv(\"output/WHRadjBMI_two_sample_mr/female_data_two_sample_mr.csv\")\n",
    "\n",
    "#Make sure effect alleles match. Otherwise change sign of beta:\n",
    "dat$effect_allele.outcome<-as.factor(dat$effect_allele.outcome)\n",
    "dat$effect_allele.exposure<-as.factor(dat$effect_allele.exposure)\n",
    "lev2 <- unique( c( levels(dat$effect_allele.outcome), levels(dat$effect_allele.exposure) ) )\n",
    "dat$effect_allele.outcome <- factor(dat$effect_allele.outcome, levels=lev2)\n",
    "dat$effect_allele.exposure <- factor(dat$effect_allele.exposure, levels=lev2)\n",
    "dat$effect_allele.exposure<-gsub(\" \", \"\",dat$effect_allele.exposure, fixed = TRUE)\n",
    "dat$beta.exposure[dat$effect_allele.exposure!=dat$effect_allele.outcome]<-dat$beta.exposure[dat$effect_allele.exposure!=dat$effect_allele.outcome] * -1"
   ]
  },
  {
   "cell_type": "code",
   "execution_count": 3,
   "id": "18433870-024f-4c7e-96f3-b1ab8bc7defd",
   "metadata": {
    "vscode": {
     "languageId": "r"
    }
   },
   "outputs": [
    {
     "data": {
      "text/html": [
       "<table class=\"dataframe\">\n",
       "<caption>A data.frame: 25 × 20</caption>\n",
       "<thead>\n",
       "\t<tr><th scope=col>chr</th><th scope=col>SNP</th><th scope=col>effect_allele.exposure</th><th scope=col>beta.exposure</th><th scope=col>se.exposure</th><th scope=col>p.exposure</th><th scope=col>A1</th><th scope=col>effect_allele.outcome</th><th scope=col>p_gwas</th><th scope=col>OR.outcome</th><th scope=col>se.OR.outcome</th><th scope=col>not_adjusted_beta.outcome</th><th scope=col>beta.outcome</th><th scope=col>se.outcome</th><th scope=col>p.outcome</th><th scope=col>id.exposure</th><th scope=col>exposure</th><th scope=col>id.outcome</th><th scope=col>outcome</th><th scope=col>mr_keep</th></tr>\n",
       "\t<tr><th scope=col>&lt;int&gt;</th><th scope=col>&lt;chr&gt;</th><th scope=col>&lt;chr&gt;</th><th scope=col>&lt;dbl&gt;</th><th scope=col>&lt;dbl&gt;</th><th scope=col>&lt;dbl&gt;</th><th scope=col>&lt;chr&gt;</th><th scope=col>&lt;fct&gt;</th><th scope=col>&lt;dbl&gt;</th><th scope=col>&lt;dbl&gt;</th><th scope=col>&lt;dbl&gt;</th><th scope=col>&lt;dbl&gt;</th><th scope=col>&lt;dbl&gt;</th><th scope=col>&lt;dbl&gt;</th><th scope=col>&lt;dbl&gt;</th><th scope=col>&lt;chr&gt;</th><th scope=col>&lt;chr&gt;</th><th scope=col>&lt;chr&gt;</th><th scope=col>&lt;chr&gt;</th><th scope=col>&lt;lgl&gt;</th></tr>\n",
       "</thead>\n",
       "<tbody>\n",
       "\t<tr><td> 1</td><td>rs2645294 </td><td>T</td><td>0.035</td><td>0.005</td><td>1.5e-14</td><td>C</td><td>T</td><td>0.819600</td><td>1.0060</td><td>0.02557</td><td> 0.005982072</td><td>-0.005982072</td><td>0.02480464</td><td>0.819600</td><td>EUR_WHRadjBMI</td><td>WHRadjBMI</td><td>UKB_CAD</td><td>CAD</td><td>TRUE</td></tr>\n",
       "\t<tr><td> 1</td><td>rs905938  </td><td>T</td><td>0.034</td><td>0.005</td><td>4.9e-10</td><td>C</td><td>T</td><td>0.951700</td><td>0.9983</td><td>0.02873</td><td>-0.001701447</td><td> 0.001701447</td><td>0.02799655</td><td>0.951700</td><td>EUR_WHRadjBMI</td><td>WHRadjBMI</td><td>UKB_CAD</td><td>CAD</td><td>TRUE</td></tr>\n",
       "\t<tr><td> 1</td><td>rs10919388</td><td>C</td><td>0.033</td><td>0.005</td><td>4.8e-10</td><td>A</td><td>C</td><td>0.119100</td><td>0.9558</td><td>0.02901</td><td>-0.045206593</td><td> 0.045206593</td><td>0.02948303</td><td>0.119100</td><td>EUR_WHRadjBMI</td><td>WHRadjBMI</td><td>UKB_CAD</td><td>CAD</td><td>TRUE</td></tr>\n",
       "\t<tr><td> 1</td><td>rs714515  </td><td>G</td><td>0.029</td><td>0.005</td><td>1.8e-10</td><td>G</td><td>G</td><td>0.444300</td><td>1.0200</td><td>0.02555</td><td> 0.019802627</td><td> 0.019802627</td><td>0.02445353</td><td>0.444300</td><td>EUR_WHRadjBMI</td><td>WHRadjBMI</td><td>UKB_CAD</td><td>CAD</td><td>TRUE</td></tr>\n",
       "\t<tr><td> 3</td><td>rs10804591</td><td>A</td><td>0.040</td><td>0.006</td><td>6.1e-13</td><td>C</td><td>A</td><td>0.175000</td><td>1.0420</td><td>0.03052</td><td> 0.041141943</td><td>-0.041141943</td><td>0.02847994</td><td>0.175000</td><td>EUR_WHRadjBMI</td><td>WHRadjBMI</td><td>UKB_CAD</td><td>CAD</td><td>TRUE</td></tr>\n",
       "\t<tr><td> 3</td><td>rs2276824 </td><td>C</td><td>0.028</td><td>0.005</td><td>3.7e-09</td><td>C</td><td>C</td><td>0.167000</td><td>0.9654</td><td>0.02551</td><td>-0.035212756</td><td>-0.035212756</td><td>0.02576275</td><td>0.167000</td><td>EUR_WHRadjBMI</td><td>WHRadjBMI</td><td>UKB_CAD</td><td>CAD</td><td>TRUE</td></tr>\n",
       "\t<tr><td> 3</td><td>rs2371767 </td><td>G</td><td>0.056</td><td>0.005</td><td>1.2e-26</td><td>C</td><td>G</td><td>0.525700</td><td>0.9821</td><td>0.02853</td><td>-0.018062143</td><td> 0.018062143</td><td>0.02825308</td><td>0.525700</td><td>EUR_WHRadjBMI</td><td>WHRadjBMI</td><td>UKB_CAD</td><td>CAD</td><td>TRUE</td></tr>\n",
       "\t<tr><td> 4</td><td>rs3805389 </td><td>A</td><td>0.027</td><td>0.005</td><td>4.6e-08</td><td>A</td><td>A</td><td>0.311100</td><td>1.0300</td><td>0.02882</td><td> 0.029558802</td><td> 0.029558802</td><td>0.02724027</td><td>0.311100</td><td>EUR_WHRadjBMI</td><td>WHRadjBMI</td><td>UKB_CAD</td><td>CAD</td><td>TRUE</td></tr>\n",
       "\t<tr><td> 4</td><td>rs9991328 </td><td>T</td><td>0.028</td><td>0.005</td><td>3.4e-10</td><td>T</td><td>T</td><td>0.186600</td><td>1.0340</td><td>0.02542</td><td> 0.033434776</td><td> 0.033434776</td><td>0.02401021</td><td>0.186600</td><td>EUR_WHRadjBMI</td><td>WHRadjBMI</td><td>UKB_CAD</td><td>CAD</td><td>TRUE</td></tr>\n",
       "\t<tr><td> 5</td><td>rs7705502 </td><td>A</td><td>0.027</td><td>0.005</td><td>1.9e-08</td><td>A</td><td>A</td><td>0.900000</td><td>0.9965</td><td>0.02764</td><td>-0.003506139</td><td>-0.003506139</td><td>0.02700938</td><td>0.900000</td><td>EUR_WHRadjBMI</td><td>WHRadjBMI</td><td>UKB_CAD</td><td>CAD</td><td>TRUE</td></tr>\n",
       "\t<tr><td> 6</td><td>rs1776897 </td><td>G</td><td>0.052</td><td>0.009</td><td>6.8e-09</td><td>G</td><td>G</td><td>0.019060</td><td>1.1050</td><td>0.04263</td><td> 0.099845335</td><td> 0.099845335</td><td>0.03719019</td><td>0.019060</td><td>EUR_WHRadjBMI</td><td>WHRadjBMI</td><td>UKB_CAD</td><td>CAD</td><td>TRUE</td></tr>\n",
       "\t<tr><td> 6</td><td>rs1294410 </td><td>C</td><td>0.037</td><td>0.005</td><td>1.6e-15</td><td>T</td><td>C</td><td>0.444500</td><td>1.0200</td><td>0.02634</td><td> 0.019802627</td><td>-0.019802627</td><td>0.02519126</td><td>0.444500</td><td>EUR_WHRadjBMI</td><td>WHRadjBMI</td><td>UKB_CAD</td><td>CAD</td><td>TRUE</td></tr>\n",
       "\t<tr><td> 6</td><td>rs1936805 </td><td>T</td><td>0.052</td><td>0.005</td><td>3.7e-30</td><td>C</td><td>T</td><td>0.006688</td><td>0.9335</td><td>0.02539</td><td>-0.068814316</td><td> 0.068814316</td><td>0.02649852</td><td>0.006688</td><td>EUR_WHRadjBMI</td><td>WHRadjBMI</td><td>UKB_CAD</td><td>CAD</td><td>TRUE</td></tr>\n",
       "\t<tr><td> 7</td><td>rs10245353</td><td>A</td><td>0.041</td><td>0.006</td><td>7.9e-13</td><td>A</td><td>A</td><td>0.093760</td><td>1.0550</td><td>0.03196</td><td> 0.053540767</td><td> 0.053540767</td><td>0.02942856</td><td>0.093760</td><td>EUR_WHRadjBMI</td><td>WHRadjBMI</td><td>UKB_CAD</td><td>CAD</td><td>TRUE</td></tr>\n",
       "\t<tr><td> 8</td><td>rs7830933 </td><td>A</td><td>0.037</td><td>0.005</td><td>1.2e-12</td><td>G</td><td>A</td><td>0.153400</td><td>0.9579</td><td>0.03016</td><td>-0.043011891</td><td> 0.043011891</td><td>0.03055224</td><td>0.153400</td><td>EUR_WHRadjBMI</td><td>WHRadjBMI</td><td>UKB_CAD</td><td>CAD</td><td>TRUE</td></tr>\n",
       "\t<tr><td> 8</td><td>rs12679556</td><td>G</td><td>0.033</td><td>0.005</td><td>2.1e-10</td><td>G</td><td>G</td><td>0.532700</td><td>1.0190</td><td>0.02953</td><td> 0.018821754</td><td> 0.018821754</td><td>0.02818628</td><td>0.532700</td><td>EUR_WHRadjBMI</td><td>WHRadjBMI</td><td>UKB_CAD</td><td>CAD</td><td>TRUE</td></tr>\n",
       "\t<tr><td> 9</td><td>rs10991437</td><td>A</td><td>0.040</td><td>0.007</td><td>2.8e-08</td><td>A</td><td>A</td><td>0.647700</td><td>0.9820</td><td>0.03967</td><td>-0.018163971</td><td>-0.018163971</td><td>0.03887756</td><td>0.647700</td><td>EUR_WHRadjBMI</td><td>WHRadjBMI</td><td>UKB_CAD</td><td>CAD</td><td>TRUE</td></tr>\n",
       "\t<tr><td>10</td><td>rs7917772 </td><td>A</td><td>0.027</td><td>0.005</td><td>5.5e-09</td><td>G</td><td>A</td><td>0.883200</td><td>0.9961</td><td>0.02629</td><td>-0.003907625</td><td> 0.003907625</td><td>0.02573294</td><td>0.883200</td><td>EUR_WHRadjBMI</td><td>WHRadjBMI</td><td>UKB_CAD</td><td>CAD</td><td>TRUE</td></tr>\n",
       "\t<tr><td>11</td><td>rs11231693</td><td>A</td><td>0.068</td><td>0.010</td><td>2.7e-11</td><td>A</td><td>A</td><td>0.551100</td><td>0.9666</td><td>0.05691</td><td>-0.033970520</td><td>-0.033970520</td><td>0.05572000</td><td>0.551100</td><td>EUR_WHRadjBMI</td><td>WHRadjBMI</td><td>UKB_CAD</td><td>CAD</td><td>TRUE</td></tr>\n",
       "\t<tr><td>12</td><td>rs4765219 </td><td>C</td><td>0.037</td><td>0.005</td><td>1.0e-14</td><td>A</td><td>C</td><td>0.037990</td><td>0.9453</td><td>0.02713</td><td>-0.056252942</td><td> 0.056252942</td><td>0.02792172</td><td>0.037990</td><td>EUR_WHRadjBMI</td><td>WHRadjBMI</td><td>UKB_CAD</td><td>CAD</td><td>TRUE</td></tr>\n",
       "\t<tr><td>12</td><td>rs10842707</td><td>T</td><td>0.041</td><td>0.005</td><td>6.1e-15</td><td>T</td><td>T</td><td>0.998500</td><td>0.9999</td><td>0.03073</td><td>-0.000100005</td><td>-0.000100005</td><td>0.02984301</td><td>0.998500</td><td>EUR_WHRadjBMI</td><td>WHRadjBMI</td><td>UKB_CAD</td><td>CAD</td><td>TRUE</td></tr>\n",
       "\t<tr><td>12</td><td>rs1443512 </td><td>A</td><td>0.040</td><td>0.005</td><td>1.1e-14</td><td>A</td><td>A</td><td>0.208700</td><td>0.9619</td><td>0.03087</td><td>-0.038844784</td><td>-0.038844784</td><td>0.03112381</td><td>0.208700</td><td>EUR_WHRadjBMI</td><td>WHRadjBMI</td><td>UKB_CAD</td><td>CAD</td><td>TRUE</td></tr>\n",
       "\t<tr><td>17</td><td>rs4646404 </td><td>G</td><td>0.034</td><td>0.005</td><td>5.3e-11</td><td>A</td><td>G</td><td>0.769200</td><td>0.9926</td><td>0.02540</td><td>-0.007427516</td><td> 0.007427516</td><td>0.02496832</td><td>0.769200</td><td>EUR_WHRadjBMI</td><td>WHRadjBMI</td><td>UKB_CAD</td><td>CAD</td><td>TRUE</td></tr>\n",
       "\t<tr><td>20</td><td>rs6090583 </td><td>A</td><td>0.029</td><td>0.005</td><td>2.8e-10</td><td>A</td><td>A</td><td>0.022440</td><td>1.0620</td><td>0.02620</td><td> 0.060153923</td><td> 0.060153923</td><td>0.02409253</td><td>0.022440</td><td>EUR_WHRadjBMI</td><td>WHRadjBMI</td><td>UKB_CAD</td><td>CAD</td><td>TRUE</td></tr>\n",
       "\t<tr><td>22</td><td>rs2294239 </td><td>A</td><td>0.028</td><td>0.005</td><td>6.9e-10</td><td>G</td><td>A</td><td>0.454000</td><td>1.0190</td><td>0.02568</td><td> 0.018821754</td><td>-0.018821754</td><td>0.02459854</td><td>0.454000</td><td>EUR_WHRadjBMI</td><td>WHRadjBMI</td><td>UKB_CAD</td><td>CAD</td><td>TRUE</td></tr>\n",
       "</tbody>\n",
       "</table>\n"
      ],
      "text/latex": [
       "A data.frame: 25 × 20\n",
       "\\begin{tabular}{llllllllllllllllllll}\n",
       " chr & SNP & effect\\_allele.exposure & beta.exposure & se.exposure & p.exposure & A1 & effect\\_allele.outcome & p\\_gwas & OR.outcome & se.OR.outcome & not\\_adjusted\\_beta.outcome & beta.outcome & se.outcome & p.outcome & id.exposure & exposure & id.outcome & outcome & mr\\_keep\\\\\n",
       " <int> & <chr> & <chr> & <dbl> & <dbl> & <dbl> & <chr> & <fct> & <dbl> & <dbl> & <dbl> & <dbl> & <dbl> & <dbl> & <dbl> & <chr> & <chr> & <chr> & <chr> & <lgl>\\\\\n",
       "\\hline\n",
       "\t  1 & rs2645294  & T & 0.035 & 0.005 & 1.5e-14 & C & T & 0.819600 & 1.0060 & 0.02557 &  0.005982072 & -0.005982072 & 0.02480464 & 0.819600 & EUR\\_WHRadjBMI & WHRadjBMI & UKB\\_CAD & CAD & TRUE\\\\\n",
       "\t  1 & rs905938   & T & 0.034 & 0.005 & 4.9e-10 & C & T & 0.951700 & 0.9983 & 0.02873 & -0.001701447 &  0.001701447 & 0.02799655 & 0.951700 & EUR\\_WHRadjBMI & WHRadjBMI & UKB\\_CAD & CAD & TRUE\\\\\n",
       "\t  1 & rs10919388 & C & 0.033 & 0.005 & 4.8e-10 & A & C & 0.119100 & 0.9558 & 0.02901 & -0.045206593 &  0.045206593 & 0.02948303 & 0.119100 & EUR\\_WHRadjBMI & WHRadjBMI & UKB\\_CAD & CAD & TRUE\\\\\n",
       "\t  1 & rs714515   & G & 0.029 & 0.005 & 1.8e-10 & G & G & 0.444300 & 1.0200 & 0.02555 &  0.019802627 &  0.019802627 & 0.02445353 & 0.444300 & EUR\\_WHRadjBMI & WHRadjBMI & UKB\\_CAD & CAD & TRUE\\\\\n",
       "\t  3 & rs10804591 & A & 0.040 & 0.006 & 6.1e-13 & C & A & 0.175000 & 1.0420 & 0.03052 &  0.041141943 & -0.041141943 & 0.02847994 & 0.175000 & EUR\\_WHRadjBMI & WHRadjBMI & UKB\\_CAD & CAD & TRUE\\\\\n",
       "\t  3 & rs2276824  & C & 0.028 & 0.005 & 3.7e-09 & C & C & 0.167000 & 0.9654 & 0.02551 & -0.035212756 & -0.035212756 & 0.02576275 & 0.167000 & EUR\\_WHRadjBMI & WHRadjBMI & UKB\\_CAD & CAD & TRUE\\\\\n",
       "\t  3 & rs2371767  & G & 0.056 & 0.005 & 1.2e-26 & C & G & 0.525700 & 0.9821 & 0.02853 & -0.018062143 &  0.018062143 & 0.02825308 & 0.525700 & EUR\\_WHRadjBMI & WHRadjBMI & UKB\\_CAD & CAD & TRUE\\\\\n",
       "\t  4 & rs3805389  & A & 0.027 & 0.005 & 4.6e-08 & A & A & 0.311100 & 1.0300 & 0.02882 &  0.029558802 &  0.029558802 & 0.02724027 & 0.311100 & EUR\\_WHRadjBMI & WHRadjBMI & UKB\\_CAD & CAD & TRUE\\\\\n",
       "\t  4 & rs9991328  & T & 0.028 & 0.005 & 3.4e-10 & T & T & 0.186600 & 1.0340 & 0.02542 &  0.033434776 &  0.033434776 & 0.02401021 & 0.186600 & EUR\\_WHRadjBMI & WHRadjBMI & UKB\\_CAD & CAD & TRUE\\\\\n",
       "\t  5 & rs7705502  & A & 0.027 & 0.005 & 1.9e-08 & A & A & 0.900000 & 0.9965 & 0.02764 & -0.003506139 & -0.003506139 & 0.02700938 & 0.900000 & EUR\\_WHRadjBMI & WHRadjBMI & UKB\\_CAD & CAD & TRUE\\\\\n",
       "\t  6 & rs1776897  & G & 0.052 & 0.009 & 6.8e-09 & G & G & 0.019060 & 1.1050 & 0.04263 &  0.099845335 &  0.099845335 & 0.03719019 & 0.019060 & EUR\\_WHRadjBMI & WHRadjBMI & UKB\\_CAD & CAD & TRUE\\\\\n",
       "\t  6 & rs1294410  & C & 0.037 & 0.005 & 1.6e-15 & T & C & 0.444500 & 1.0200 & 0.02634 &  0.019802627 & -0.019802627 & 0.02519126 & 0.444500 & EUR\\_WHRadjBMI & WHRadjBMI & UKB\\_CAD & CAD & TRUE\\\\\n",
       "\t  6 & rs1936805  & T & 0.052 & 0.005 & 3.7e-30 & C & T & 0.006688 & 0.9335 & 0.02539 & -0.068814316 &  0.068814316 & 0.02649852 & 0.006688 & EUR\\_WHRadjBMI & WHRadjBMI & UKB\\_CAD & CAD & TRUE\\\\\n",
       "\t  7 & rs10245353 & A & 0.041 & 0.006 & 7.9e-13 & A & A & 0.093760 & 1.0550 & 0.03196 &  0.053540767 &  0.053540767 & 0.02942856 & 0.093760 & EUR\\_WHRadjBMI & WHRadjBMI & UKB\\_CAD & CAD & TRUE\\\\\n",
       "\t  8 & rs7830933  & A & 0.037 & 0.005 & 1.2e-12 & G & A & 0.153400 & 0.9579 & 0.03016 & -0.043011891 &  0.043011891 & 0.03055224 & 0.153400 & EUR\\_WHRadjBMI & WHRadjBMI & UKB\\_CAD & CAD & TRUE\\\\\n",
       "\t  8 & rs12679556 & G & 0.033 & 0.005 & 2.1e-10 & G & G & 0.532700 & 1.0190 & 0.02953 &  0.018821754 &  0.018821754 & 0.02818628 & 0.532700 & EUR\\_WHRadjBMI & WHRadjBMI & UKB\\_CAD & CAD & TRUE\\\\\n",
       "\t  9 & rs10991437 & A & 0.040 & 0.007 & 2.8e-08 & A & A & 0.647700 & 0.9820 & 0.03967 & -0.018163971 & -0.018163971 & 0.03887756 & 0.647700 & EUR\\_WHRadjBMI & WHRadjBMI & UKB\\_CAD & CAD & TRUE\\\\\n",
       "\t 10 & rs7917772  & A & 0.027 & 0.005 & 5.5e-09 & G & A & 0.883200 & 0.9961 & 0.02629 & -0.003907625 &  0.003907625 & 0.02573294 & 0.883200 & EUR\\_WHRadjBMI & WHRadjBMI & UKB\\_CAD & CAD & TRUE\\\\\n",
       "\t 11 & rs11231693 & A & 0.068 & 0.010 & 2.7e-11 & A & A & 0.551100 & 0.9666 & 0.05691 & -0.033970520 & -0.033970520 & 0.05572000 & 0.551100 & EUR\\_WHRadjBMI & WHRadjBMI & UKB\\_CAD & CAD & TRUE\\\\\n",
       "\t 12 & rs4765219  & C & 0.037 & 0.005 & 1.0e-14 & A & C & 0.037990 & 0.9453 & 0.02713 & -0.056252942 &  0.056252942 & 0.02792172 & 0.037990 & EUR\\_WHRadjBMI & WHRadjBMI & UKB\\_CAD & CAD & TRUE\\\\\n",
       "\t 12 & rs10842707 & T & 0.041 & 0.005 & 6.1e-15 & T & T & 0.998500 & 0.9999 & 0.03073 & -0.000100005 & -0.000100005 & 0.02984301 & 0.998500 & EUR\\_WHRadjBMI & WHRadjBMI & UKB\\_CAD & CAD & TRUE\\\\\n",
       "\t 12 & rs1443512  & A & 0.040 & 0.005 & 1.1e-14 & A & A & 0.208700 & 0.9619 & 0.03087 & -0.038844784 & -0.038844784 & 0.03112381 & 0.208700 & EUR\\_WHRadjBMI & WHRadjBMI & UKB\\_CAD & CAD & TRUE\\\\\n",
       "\t 17 & rs4646404  & G & 0.034 & 0.005 & 5.3e-11 & A & G & 0.769200 & 0.9926 & 0.02540 & -0.007427516 &  0.007427516 & 0.02496832 & 0.769200 & EUR\\_WHRadjBMI & WHRadjBMI & UKB\\_CAD & CAD & TRUE\\\\\n",
       "\t 20 & rs6090583  & A & 0.029 & 0.005 & 2.8e-10 & A & A & 0.022440 & 1.0620 & 0.02620 &  0.060153923 &  0.060153923 & 0.02409253 & 0.022440 & EUR\\_WHRadjBMI & WHRadjBMI & UKB\\_CAD & CAD & TRUE\\\\\n",
       "\t 22 & rs2294239  & A & 0.028 & 0.005 & 6.9e-10 & G & A & 0.454000 & 1.0190 & 0.02568 &  0.018821754 & -0.018821754 & 0.02459854 & 0.454000 & EUR\\_WHRadjBMI & WHRadjBMI & UKB\\_CAD & CAD & TRUE\\\\\n",
       "\\end{tabular}\n"
      ],
      "text/markdown": [
       "\n",
       "A data.frame: 25 × 20\n",
       "\n",
       "| chr &lt;int&gt; | SNP &lt;chr&gt; | effect_allele.exposure &lt;chr&gt; | beta.exposure &lt;dbl&gt; | se.exposure &lt;dbl&gt; | p.exposure &lt;dbl&gt; | A1 &lt;chr&gt; | effect_allele.outcome &lt;fct&gt; | p_gwas &lt;dbl&gt; | OR.outcome &lt;dbl&gt; | se.OR.outcome &lt;dbl&gt; | not_adjusted_beta.outcome &lt;dbl&gt; | beta.outcome &lt;dbl&gt; | se.outcome &lt;dbl&gt; | p.outcome &lt;dbl&gt; | id.exposure &lt;chr&gt; | exposure &lt;chr&gt; | id.outcome &lt;chr&gt; | outcome &lt;chr&gt; | mr_keep &lt;lgl&gt; |\n",
       "|---|---|---|---|---|---|---|---|---|---|---|---|---|---|---|---|---|---|---|---|\n",
       "|  1 | rs2645294  | T | 0.035 | 0.005 | 1.5e-14 | C | T | 0.819600 | 1.0060 | 0.02557 |  0.005982072 | -0.005982072 | 0.02480464 | 0.819600 | EUR_WHRadjBMI | WHRadjBMI | UKB_CAD | CAD | TRUE |\n",
       "|  1 | rs905938   | T | 0.034 | 0.005 | 4.9e-10 | C | T | 0.951700 | 0.9983 | 0.02873 | -0.001701447 |  0.001701447 | 0.02799655 | 0.951700 | EUR_WHRadjBMI | WHRadjBMI | UKB_CAD | CAD | TRUE |\n",
       "|  1 | rs10919388 | C | 0.033 | 0.005 | 4.8e-10 | A | C | 0.119100 | 0.9558 | 0.02901 | -0.045206593 |  0.045206593 | 0.02948303 | 0.119100 | EUR_WHRadjBMI | WHRadjBMI | UKB_CAD | CAD | TRUE |\n",
       "|  1 | rs714515   | G | 0.029 | 0.005 | 1.8e-10 | G | G | 0.444300 | 1.0200 | 0.02555 |  0.019802627 |  0.019802627 | 0.02445353 | 0.444300 | EUR_WHRadjBMI | WHRadjBMI | UKB_CAD | CAD | TRUE |\n",
       "|  3 | rs10804591 | A | 0.040 | 0.006 | 6.1e-13 | C | A | 0.175000 | 1.0420 | 0.03052 |  0.041141943 | -0.041141943 | 0.02847994 | 0.175000 | EUR_WHRadjBMI | WHRadjBMI | UKB_CAD | CAD | TRUE |\n",
       "|  3 | rs2276824  | C | 0.028 | 0.005 | 3.7e-09 | C | C | 0.167000 | 0.9654 | 0.02551 | -0.035212756 | -0.035212756 | 0.02576275 | 0.167000 | EUR_WHRadjBMI | WHRadjBMI | UKB_CAD | CAD | TRUE |\n",
       "|  3 | rs2371767  | G | 0.056 | 0.005 | 1.2e-26 | C | G | 0.525700 | 0.9821 | 0.02853 | -0.018062143 |  0.018062143 | 0.02825308 | 0.525700 | EUR_WHRadjBMI | WHRadjBMI | UKB_CAD | CAD | TRUE |\n",
       "|  4 | rs3805389  | A | 0.027 | 0.005 | 4.6e-08 | A | A | 0.311100 | 1.0300 | 0.02882 |  0.029558802 |  0.029558802 | 0.02724027 | 0.311100 | EUR_WHRadjBMI | WHRadjBMI | UKB_CAD | CAD | TRUE |\n",
       "|  4 | rs9991328  | T | 0.028 | 0.005 | 3.4e-10 | T | T | 0.186600 | 1.0340 | 0.02542 |  0.033434776 |  0.033434776 | 0.02401021 | 0.186600 | EUR_WHRadjBMI | WHRadjBMI | UKB_CAD | CAD | TRUE |\n",
       "|  5 | rs7705502  | A | 0.027 | 0.005 | 1.9e-08 | A | A | 0.900000 | 0.9965 | 0.02764 | -0.003506139 | -0.003506139 | 0.02700938 | 0.900000 | EUR_WHRadjBMI | WHRadjBMI | UKB_CAD | CAD | TRUE |\n",
       "|  6 | rs1776897  | G | 0.052 | 0.009 | 6.8e-09 | G | G | 0.019060 | 1.1050 | 0.04263 |  0.099845335 |  0.099845335 | 0.03719019 | 0.019060 | EUR_WHRadjBMI | WHRadjBMI | UKB_CAD | CAD | TRUE |\n",
       "|  6 | rs1294410  | C | 0.037 | 0.005 | 1.6e-15 | T | C | 0.444500 | 1.0200 | 0.02634 |  0.019802627 | -0.019802627 | 0.02519126 | 0.444500 | EUR_WHRadjBMI | WHRadjBMI | UKB_CAD | CAD | TRUE |\n",
       "|  6 | rs1936805  | T | 0.052 | 0.005 | 3.7e-30 | C | T | 0.006688 | 0.9335 | 0.02539 | -0.068814316 |  0.068814316 | 0.02649852 | 0.006688 | EUR_WHRadjBMI | WHRadjBMI | UKB_CAD | CAD | TRUE |\n",
       "|  7 | rs10245353 | A | 0.041 | 0.006 | 7.9e-13 | A | A | 0.093760 | 1.0550 | 0.03196 |  0.053540767 |  0.053540767 | 0.02942856 | 0.093760 | EUR_WHRadjBMI | WHRadjBMI | UKB_CAD | CAD | TRUE |\n",
       "|  8 | rs7830933  | A | 0.037 | 0.005 | 1.2e-12 | G | A | 0.153400 | 0.9579 | 0.03016 | -0.043011891 |  0.043011891 | 0.03055224 | 0.153400 | EUR_WHRadjBMI | WHRadjBMI | UKB_CAD | CAD | TRUE |\n",
       "|  8 | rs12679556 | G | 0.033 | 0.005 | 2.1e-10 | G | G | 0.532700 | 1.0190 | 0.02953 |  0.018821754 |  0.018821754 | 0.02818628 | 0.532700 | EUR_WHRadjBMI | WHRadjBMI | UKB_CAD | CAD | TRUE |\n",
       "|  9 | rs10991437 | A | 0.040 | 0.007 | 2.8e-08 | A | A | 0.647700 | 0.9820 | 0.03967 | -0.018163971 | -0.018163971 | 0.03887756 | 0.647700 | EUR_WHRadjBMI | WHRadjBMI | UKB_CAD | CAD | TRUE |\n",
       "| 10 | rs7917772  | A | 0.027 | 0.005 | 5.5e-09 | G | A | 0.883200 | 0.9961 | 0.02629 | -0.003907625 |  0.003907625 | 0.02573294 | 0.883200 | EUR_WHRadjBMI | WHRadjBMI | UKB_CAD | CAD | TRUE |\n",
       "| 11 | rs11231693 | A | 0.068 | 0.010 | 2.7e-11 | A | A | 0.551100 | 0.9666 | 0.05691 | -0.033970520 | -0.033970520 | 0.05572000 | 0.551100 | EUR_WHRadjBMI | WHRadjBMI | UKB_CAD | CAD | TRUE |\n",
       "| 12 | rs4765219  | C | 0.037 | 0.005 | 1.0e-14 | A | C | 0.037990 | 0.9453 | 0.02713 | -0.056252942 |  0.056252942 | 0.02792172 | 0.037990 | EUR_WHRadjBMI | WHRadjBMI | UKB_CAD | CAD | TRUE |\n",
       "| 12 | rs10842707 | T | 0.041 | 0.005 | 6.1e-15 | T | T | 0.998500 | 0.9999 | 0.03073 | -0.000100005 | -0.000100005 | 0.02984301 | 0.998500 | EUR_WHRadjBMI | WHRadjBMI | UKB_CAD | CAD | TRUE |\n",
       "| 12 | rs1443512  | A | 0.040 | 0.005 | 1.1e-14 | A | A | 0.208700 | 0.9619 | 0.03087 | -0.038844784 | -0.038844784 | 0.03112381 | 0.208700 | EUR_WHRadjBMI | WHRadjBMI | UKB_CAD | CAD | TRUE |\n",
       "| 17 | rs4646404  | G | 0.034 | 0.005 | 5.3e-11 | A | G | 0.769200 | 0.9926 | 0.02540 | -0.007427516 |  0.007427516 | 0.02496832 | 0.769200 | EUR_WHRadjBMI | WHRadjBMI | UKB_CAD | CAD | TRUE |\n",
       "| 20 | rs6090583  | A | 0.029 | 0.005 | 2.8e-10 | A | A | 0.022440 | 1.0620 | 0.02620 |  0.060153923 |  0.060153923 | 0.02409253 | 0.022440 | EUR_WHRadjBMI | WHRadjBMI | UKB_CAD | CAD | TRUE |\n",
       "| 22 | rs2294239  | A | 0.028 | 0.005 | 6.9e-10 | G | A | 0.454000 | 1.0190 | 0.02568 |  0.018821754 | -0.018821754 | 0.02459854 | 0.454000 | EUR_WHRadjBMI | WHRadjBMI | UKB_CAD | CAD | TRUE |\n",
       "\n"
      ],
      "text/plain": [
       "   chr SNP        effect_allele.exposure beta.exposure se.exposure p.exposure\n",
       "1   1  rs2645294  T                      0.035         0.005       1.5e-14   \n",
       "2   1  rs905938   T                      0.034         0.005       4.9e-10   \n",
       "3   1  rs10919388 C                      0.033         0.005       4.8e-10   \n",
       "4   1  rs714515   G                      0.029         0.005       1.8e-10   \n",
       "5   3  rs10804591 A                      0.040         0.006       6.1e-13   \n",
       "6   3  rs2276824  C                      0.028         0.005       3.7e-09   \n",
       "7   3  rs2371767  G                      0.056         0.005       1.2e-26   \n",
       "8   4  rs3805389  A                      0.027         0.005       4.6e-08   \n",
       "9   4  rs9991328  T                      0.028         0.005       3.4e-10   \n",
       "10  5  rs7705502  A                      0.027         0.005       1.9e-08   \n",
       "11  6  rs1776897  G                      0.052         0.009       6.8e-09   \n",
       "12  6  rs1294410  C                      0.037         0.005       1.6e-15   \n",
       "13  6  rs1936805  T                      0.052         0.005       3.7e-30   \n",
       "14  7  rs10245353 A                      0.041         0.006       7.9e-13   \n",
       "15  8  rs7830933  A                      0.037         0.005       1.2e-12   \n",
       "16  8  rs12679556 G                      0.033         0.005       2.1e-10   \n",
       "17  9  rs10991437 A                      0.040         0.007       2.8e-08   \n",
       "18 10  rs7917772  A                      0.027         0.005       5.5e-09   \n",
       "19 11  rs11231693 A                      0.068         0.010       2.7e-11   \n",
       "20 12  rs4765219  C                      0.037         0.005       1.0e-14   \n",
       "21 12  rs10842707 T                      0.041         0.005       6.1e-15   \n",
       "22 12  rs1443512  A                      0.040         0.005       1.1e-14   \n",
       "23 17  rs4646404  G                      0.034         0.005       5.3e-11   \n",
       "24 20  rs6090583  A                      0.029         0.005       2.8e-10   \n",
       "25 22  rs2294239  A                      0.028         0.005       6.9e-10   \n",
       "   A1 effect_allele.outcome p_gwas   OR.outcome se.OR.outcome\n",
       "1  C  T                     0.819600 1.0060     0.02557      \n",
       "2  C  T                     0.951700 0.9983     0.02873      \n",
       "3  A  C                     0.119100 0.9558     0.02901      \n",
       "4  G  G                     0.444300 1.0200     0.02555      \n",
       "5  C  A                     0.175000 1.0420     0.03052      \n",
       "6  C  C                     0.167000 0.9654     0.02551      \n",
       "7  C  G                     0.525700 0.9821     0.02853      \n",
       "8  A  A                     0.311100 1.0300     0.02882      \n",
       "9  T  T                     0.186600 1.0340     0.02542      \n",
       "10 A  A                     0.900000 0.9965     0.02764      \n",
       "11 G  G                     0.019060 1.1050     0.04263      \n",
       "12 T  C                     0.444500 1.0200     0.02634      \n",
       "13 C  T                     0.006688 0.9335     0.02539      \n",
       "14 A  A                     0.093760 1.0550     0.03196      \n",
       "15 G  A                     0.153400 0.9579     0.03016      \n",
       "16 G  G                     0.532700 1.0190     0.02953      \n",
       "17 A  A                     0.647700 0.9820     0.03967      \n",
       "18 G  A                     0.883200 0.9961     0.02629      \n",
       "19 A  A                     0.551100 0.9666     0.05691      \n",
       "20 A  C                     0.037990 0.9453     0.02713      \n",
       "21 T  T                     0.998500 0.9999     0.03073      \n",
       "22 A  A                     0.208700 0.9619     0.03087      \n",
       "23 A  G                     0.769200 0.9926     0.02540      \n",
       "24 A  A                     0.022440 1.0620     0.02620      \n",
       "25 G  A                     0.454000 1.0190     0.02568      \n",
       "   not_adjusted_beta.outcome beta.outcome se.outcome p.outcome id.exposure  \n",
       "1   0.005982072              -0.005982072 0.02480464 0.819600  EUR_WHRadjBMI\n",
       "2  -0.001701447               0.001701447 0.02799655 0.951700  EUR_WHRadjBMI\n",
       "3  -0.045206593               0.045206593 0.02948303 0.119100  EUR_WHRadjBMI\n",
       "4   0.019802627               0.019802627 0.02445353 0.444300  EUR_WHRadjBMI\n",
       "5   0.041141943              -0.041141943 0.02847994 0.175000  EUR_WHRadjBMI\n",
       "6  -0.035212756              -0.035212756 0.02576275 0.167000  EUR_WHRadjBMI\n",
       "7  -0.018062143               0.018062143 0.02825308 0.525700  EUR_WHRadjBMI\n",
       "8   0.029558802               0.029558802 0.02724027 0.311100  EUR_WHRadjBMI\n",
       "9   0.033434776               0.033434776 0.02401021 0.186600  EUR_WHRadjBMI\n",
       "10 -0.003506139              -0.003506139 0.02700938 0.900000  EUR_WHRadjBMI\n",
       "11  0.099845335               0.099845335 0.03719019 0.019060  EUR_WHRadjBMI\n",
       "12  0.019802627              -0.019802627 0.02519126 0.444500  EUR_WHRadjBMI\n",
       "13 -0.068814316               0.068814316 0.02649852 0.006688  EUR_WHRadjBMI\n",
       "14  0.053540767               0.053540767 0.02942856 0.093760  EUR_WHRadjBMI\n",
       "15 -0.043011891               0.043011891 0.03055224 0.153400  EUR_WHRadjBMI\n",
       "16  0.018821754               0.018821754 0.02818628 0.532700  EUR_WHRadjBMI\n",
       "17 -0.018163971              -0.018163971 0.03887756 0.647700  EUR_WHRadjBMI\n",
       "18 -0.003907625               0.003907625 0.02573294 0.883200  EUR_WHRadjBMI\n",
       "19 -0.033970520              -0.033970520 0.05572000 0.551100  EUR_WHRadjBMI\n",
       "20 -0.056252942               0.056252942 0.02792172 0.037990  EUR_WHRadjBMI\n",
       "21 -0.000100005              -0.000100005 0.02984301 0.998500  EUR_WHRadjBMI\n",
       "22 -0.038844784              -0.038844784 0.03112381 0.208700  EUR_WHRadjBMI\n",
       "23 -0.007427516               0.007427516 0.02496832 0.769200  EUR_WHRadjBMI\n",
       "24  0.060153923               0.060153923 0.02409253 0.022440  EUR_WHRadjBMI\n",
       "25  0.018821754              -0.018821754 0.02459854 0.454000  EUR_WHRadjBMI\n",
       "   exposure  id.outcome outcome mr_keep\n",
       "1  WHRadjBMI UKB_CAD    CAD     TRUE   \n",
       "2  WHRadjBMI UKB_CAD    CAD     TRUE   \n",
       "3  WHRadjBMI UKB_CAD    CAD     TRUE   \n",
       "4  WHRadjBMI UKB_CAD    CAD     TRUE   \n",
       "5  WHRadjBMI UKB_CAD    CAD     TRUE   \n",
       "6  WHRadjBMI UKB_CAD    CAD     TRUE   \n",
       "7  WHRadjBMI UKB_CAD    CAD     TRUE   \n",
       "8  WHRadjBMI UKB_CAD    CAD     TRUE   \n",
       "9  WHRadjBMI UKB_CAD    CAD     TRUE   \n",
       "10 WHRadjBMI UKB_CAD    CAD     TRUE   \n",
       "11 WHRadjBMI UKB_CAD    CAD     TRUE   \n",
       "12 WHRadjBMI UKB_CAD    CAD     TRUE   \n",
       "13 WHRadjBMI UKB_CAD    CAD     TRUE   \n",
       "14 WHRadjBMI UKB_CAD    CAD     TRUE   \n",
       "15 WHRadjBMI UKB_CAD    CAD     TRUE   \n",
       "16 WHRadjBMI UKB_CAD    CAD     TRUE   \n",
       "17 WHRadjBMI UKB_CAD    CAD     TRUE   \n",
       "18 WHRadjBMI UKB_CAD    CAD     TRUE   \n",
       "19 WHRadjBMI UKB_CAD    CAD     TRUE   \n",
       "20 WHRadjBMI UKB_CAD    CAD     TRUE   \n",
       "21 WHRadjBMI UKB_CAD    CAD     TRUE   \n",
       "22 WHRadjBMI UKB_CAD    CAD     TRUE   \n",
       "23 WHRadjBMI UKB_CAD    CAD     TRUE   \n",
       "24 WHRadjBMI UKB_CAD    CAD     TRUE   \n",
       "25 WHRadjBMI UKB_CAD    CAD     TRUE   "
      ]
     },
     "metadata": {},
     "output_type": "display_data"
    }
   ],
   "source": [
    "dat"
   ]
  },
  {
   "cell_type": "code",
   "execution_count": 4,
   "id": "74e91d21-6230-44f9-b087-e668832f7be2",
   "metadata": {
    "vscode": {
     "languageId": "r"
    }
   },
   "outputs": [
    {
     "name": "stderr",
     "output_type": "stream",
     "text": [
      "Analysing 'EUR_WHRadjBMI' on 'UKB_CAD'\n",
      "\n"
     ]
    },
    {
     "data": {
      "text/html": [
       "<table class=\"dataframe\">\n",
       "<caption>A data.frame: 3 × 9</caption>\n",
       "<thead>\n",
       "\t<tr><th scope=col>id.exposure</th><th scope=col>id.outcome</th><th scope=col>outcome</th><th scope=col>exposure</th><th scope=col>method</th><th scope=col>nsnp</th><th scope=col>b</th><th scope=col>se</th><th scope=col>pval</th></tr>\n",
       "\t<tr><th scope=col>&lt;chr&gt;</th><th scope=col>&lt;chr&gt;</th><th scope=col>&lt;chr&gt;</th><th scope=col>&lt;chr&gt;</th><th scope=col>&lt;chr&gt;</th><th scope=col>&lt;int&gt;</th><th scope=col>&lt;dbl&gt;</th><th scope=col>&lt;dbl&gt;</th><th scope=col>&lt;dbl&gt;</th></tr>\n",
       "</thead>\n",
       "<tbody>\n",
       "\t<tr><td>EUR_WHRadjBMI</td><td>UKB_CAD</td><td>CAD</td><td>WHRadjBMI</td><td>MR Egger                 </td><td>25</td><td>0.7351315</td><td>0.8213088</td><td>0.38001999</td></tr>\n",
       "\t<tr><td>EUR_WHRadjBMI</td><td>UKB_CAD</td><td>CAD</td><td>WHRadjBMI</td><td>Inverse variance weighted</td><td>25</td><td>0.4198680</td><td>0.1883253</td><td>0.02578179</td></tr>\n",
       "\t<tr><td>EUR_WHRadjBMI</td><td>UKB_CAD</td><td>CAD</td><td>WHRadjBMI</td><td>Weighted median          </td><td>25</td><td>0.2796177</td><td>0.2407405</td><td>0.24544273</td></tr>\n",
       "</tbody>\n",
       "</table>\n"
      ],
      "text/latex": [
       "A data.frame: 3 × 9\n",
       "\\begin{tabular}{lllllllll}\n",
       " id.exposure & id.outcome & outcome & exposure & method & nsnp & b & se & pval\\\\\n",
       " <chr> & <chr> & <chr> & <chr> & <chr> & <int> & <dbl> & <dbl> & <dbl>\\\\\n",
       "\\hline\n",
       "\t EUR\\_WHRadjBMI & UKB\\_CAD & CAD & WHRadjBMI & MR Egger                  & 25 & 0.7351315 & 0.8213088 & 0.38001999\\\\\n",
       "\t EUR\\_WHRadjBMI & UKB\\_CAD & CAD & WHRadjBMI & Inverse variance weighted & 25 & 0.4198680 & 0.1883253 & 0.02578179\\\\\n",
       "\t EUR\\_WHRadjBMI & UKB\\_CAD & CAD & WHRadjBMI & Weighted median           & 25 & 0.2796177 & 0.2407405 & 0.24544273\\\\\n",
       "\\end{tabular}\n"
      ],
      "text/markdown": [
       "\n",
       "A data.frame: 3 × 9\n",
       "\n",
       "| id.exposure &lt;chr&gt; | id.outcome &lt;chr&gt; | outcome &lt;chr&gt; | exposure &lt;chr&gt; | method &lt;chr&gt; | nsnp &lt;int&gt; | b &lt;dbl&gt; | se &lt;dbl&gt; | pval &lt;dbl&gt; |\n",
       "|---|---|---|---|---|---|---|---|---|\n",
       "| EUR_WHRadjBMI | UKB_CAD | CAD | WHRadjBMI | MR Egger                  | 25 | 0.7351315 | 0.8213088 | 0.38001999 |\n",
       "| EUR_WHRadjBMI | UKB_CAD | CAD | WHRadjBMI | Inverse variance weighted | 25 | 0.4198680 | 0.1883253 | 0.02578179 |\n",
       "| EUR_WHRadjBMI | UKB_CAD | CAD | WHRadjBMI | Weighted median           | 25 | 0.2796177 | 0.2407405 | 0.24544273 |\n",
       "\n"
      ],
      "text/plain": [
       "  id.exposure   id.outcome outcome exposure  method                    nsnp\n",
       "1 EUR_WHRadjBMI UKB_CAD    CAD     WHRadjBMI MR Egger                  25  \n",
       "2 EUR_WHRadjBMI UKB_CAD    CAD     WHRadjBMI Inverse variance weighted 25  \n",
       "3 EUR_WHRadjBMI UKB_CAD    CAD     WHRadjBMI Weighted median           25  \n",
       "  b         se        pval      \n",
       "1 0.7351315 0.8213088 0.38001999\n",
       "2 0.4198680 0.1883253 0.02578179\n",
       "3 0.2796177 0.2407405 0.24544273"
      ]
     },
     "metadata": {},
     "output_type": "display_data"
    }
   ],
   "source": [
    "#To see MR methods that can be used:\n",
    "#mr_method_list()\n",
    "#Default methods: IVW, MR-Egger, Weighted Median, Simple Mode, Weighted Mode\n",
    "\n",
    "#To view default parameters (parameters used unless otherwise specified):\n",
    "#default_parameters()\n",
    "\n",
    "res<-mr(dat, method_list=c(\"mr_egger_regression\", \"mr_ivw\", \"mr_weighted_median\"))\n",
    "res"
   ]
  },
  {
   "cell_type": "code",
   "execution_count": 5,
   "id": "00a7118c-de37-464c-8815-b536dd0379a0",
   "metadata": {
    "vscode": {
     "languageId": "r"
    }
   },
   "outputs": [
    {
     "name": "stderr",
     "output_type": "stream",
     "text": [
      "Warning message:\n",
      "“\u001b[1m\u001b[22mRemoved 1 rows containing missing values (`geom_errorbarh()`).”\n",
      "Warning message:\n",
      "“\u001b[1m\u001b[22mRemoved 1 rows containing missing values (`geom_point()`).”\n",
      "Warning message:\n",
      "“\u001b[1m\u001b[22mRemoved 1 rows containing missing values (`geom_errorbarh()`).”\n",
      "Warning message:\n",
      "“\u001b[1m\u001b[22mRemoved 1 rows containing missing values (`geom_point()`).”\n",
      "Warning message:\n",
      "“\u001b[1m\u001b[22mRemoved 1 rows containing missing values (`geom_errorbarh()`).”\n",
      "Warning message:\n",
      "“\u001b[1m\u001b[22mRemoved 1 rows containing missing values (`geom_point()`).”\n"
     ]
    }
   ],
   "source": [
    "p1 <- mr_scatter_plot(res, dat)\n",
    "ggsave(p1[[1]], file = \"plots/WHRadjBMI/female_scatter.pdf\", width = 7, height = 7)\n",
    "\n",
    "res_single <- mr_singlesnp(dat)\n",
    "p2 <- mr_forest_plot(res_single)\n",
    "ggsave(p2[[1]], file = \"plots/WHRadjBMI/female_forest.pdf\", width = 7, height = 7)\n",
    "\n",
    "res_single <- mr_singlesnp(dat, all_method = c(\"mr_ivw\"))\n",
    "p3 <- mr_forest_plot(res_single)\n",
    "ggsave(p3[[1]], file = \"plots/WHRadjBMI/female_forest_methods.pdf\", width = 7, height = 7)\n",
    "\n",
    "res_loo <- mr_leaveoneout(dat)\n",
    "p3 <- mr_leaveoneout_plot(res_loo)\n",
    "ggsave(p3[[1]], file = \"plots/WHRadjBMI/female_leaveoneout.pdf\", width = 7, height = 7)\n",
    "\n",
    "res_single <- mr_singlesnp(dat)\n",
    "p4 <- mr_funnel_plot(res_single)\n",
    "ggsave(p4[[1]], file = \"plots/WHRadjBMI/female_funnel.pdf\", width = 7, height = 7)"
   ]
  },
  {
   "cell_type": "code",
   "execution_count": 6,
   "id": "df8f1559-eb31-44d1-9c2c-52118a249d0c",
   "metadata": {
    "vscode": {
     "languageId": "r"
    }
   },
   "outputs": [
    {
     "data": {
      "text/html": [
       "<table class=\"dataframe\">\n",
       "<caption>A data.frame: 1 × 7</caption>\n",
       "<thead>\n",
       "\t<tr><th scope=col>id.exposure</th><th scope=col>id.outcome</th><th scope=col>outcome</th><th scope=col>exposure</th><th scope=col>egger_intercept</th><th scope=col>se</th><th scope=col>pval</th></tr>\n",
       "\t<tr><th scope=col>&lt;chr&gt;</th><th scope=col>&lt;chr&gt;</th><th scope=col>&lt;chr&gt;</th><th scope=col>&lt;chr&gt;</th><th scope=col>&lt;dbl&gt;</th><th scope=col>&lt;dbl&gt;</th><th scope=col>&lt;dbl&gt;</th></tr>\n",
       "</thead>\n",
       "<tbody>\n",
       "\t<tr><td>EUR_WHRadjBMI</td><td>UKB_CAD</td><td>CAD</td><td>WHRadjBMI</td><td>-0.011809</td><td>0.02991424</td><td>0.6966556</td></tr>\n",
       "</tbody>\n",
       "</table>\n"
      ],
      "text/latex": [
       "A data.frame: 1 × 7\n",
       "\\begin{tabular}{lllllll}\n",
       " id.exposure & id.outcome & outcome & exposure & egger\\_intercept & se & pval\\\\\n",
       " <chr> & <chr> & <chr> & <chr> & <dbl> & <dbl> & <dbl>\\\\\n",
       "\\hline\n",
       "\t EUR\\_WHRadjBMI & UKB\\_CAD & CAD & WHRadjBMI & -0.011809 & 0.02991424 & 0.6966556\\\\\n",
       "\\end{tabular}\n"
      ],
      "text/markdown": [
       "\n",
       "A data.frame: 1 × 7\n",
       "\n",
       "| id.exposure &lt;chr&gt; | id.outcome &lt;chr&gt; | outcome &lt;chr&gt; | exposure &lt;chr&gt; | egger_intercept &lt;dbl&gt; | se &lt;dbl&gt; | pval &lt;dbl&gt; |\n",
       "|---|---|---|---|---|---|---|\n",
       "| EUR_WHRadjBMI | UKB_CAD | CAD | WHRadjBMI | -0.011809 | 0.02991424 | 0.6966556 |\n",
       "\n"
      ],
      "text/plain": [
       "  id.exposure   id.outcome outcome exposure  egger_intercept se        \n",
       "1 EUR_WHRadjBMI UKB_CAD    CAD     WHRadjBMI -0.011809       0.02991424\n",
       "  pval     \n",
       "1 0.6966556"
      ]
     },
     "metadata": {},
     "output_type": "display_data"
    }
   ],
   "source": [
    "mr_pleiotropy_test(dat)"
   ]
  },
  {
   "cell_type": "code",
   "execution_count": 7,
   "id": "4c304dc3-9257-42d6-b484-e6ee122535ad",
   "metadata": {
    "vscode": {
     "languageId": "r"
    }
   },
   "outputs": [
    {
     "data": {
      "text/html": [
       "<dl>\n",
       "\t<dt>$`Main MR results`</dt>\n",
       "\t\t<dd><table class=\"dataframe\">\n",
       "<caption>A data.frame: 2 × 6</caption>\n",
       "<thead>\n",
       "\t<tr><th scope=col>Exposure</th><th scope=col>MR Analysis</th><th scope=col>Causal Estimate</th><th scope=col>Sd</th><th scope=col>T-stat</th><th scope=col>P-value</th></tr>\n",
       "\t<tr><th scope=col>&lt;chr&gt;</th><th scope=col>&lt;chr&gt;</th><th scope=col>&lt;dbl&gt;</th><th scope=col>&lt;dbl&gt;</th><th scope=col>&lt;dbl&gt;</th><th scope=col>&lt;dbl&gt;</th></tr>\n",
       "</thead>\n",
       "<tbody>\n",
       "\t<tr><td>beta.exposure</td><td>Raw              </td><td>0.419868</td><td>0.1883253</td><td>2.229483</td><td>0.0353991</td></tr>\n",
       "\t<tr><td>beta.exposure</td><td>Outlier-corrected</td><td>      NA</td><td>       NA</td><td>      NA</td><td>       NA</td></tr>\n",
       "</tbody>\n",
       "</table>\n",
       "</dd>\n",
       "\t<dt>$`MR-PRESSO results`</dt>\n",
       "\t\t<dd><strong>$`Global Test`</strong> = <dl>\n",
       "\t<dt>$RSSobs</dt>\n",
       "\t\t<dd>39.8282613370887</dd>\n",
       "\t<dt>$Pvalue</dt>\n",
       "\t\t<dd>0.057</dd>\n",
       "</dl>\n",
       "</dd>\n",
       "</dl>\n"
      ],
      "text/latex": [
       "\\begin{description}\n",
       "\\item[\\$`Main MR results`] A data.frame: 2 × 6\n",
       "\\begin{tabular}{llllll}\n",
       " Exposure & MR Analysis & Causal Estimate & Sd & T-stat & P-value\\\\\n",
       " <chr> & <chr> & <dbl> & <dbl> & <dbl> & <dbl>\\\\\n",
       "\\hline\n",
       "\t beta.exposure & Raw               & 0.419868 & 0.1883253 & 2.229483 & 0.0353991\\\\\n",
       "\t beta.exposure & Outlier-corrected &       NA &        NA &       NA &        NA\\\\\n",
       "\\end{tabular}\n",
       "\n",
       "\\item[\\$`MR-PRESSO results`] \\textbf{\\$`Global Test`} = \\begin{description}\n",
       "\\item[\\$RSSobs] 39.8282613370887\n",
       "\\item[\\$Pvalue] 0.057\n",
       "\\end{description}\n",
       "\n",
       "\\end{description}\n"
      ],
      "text/markdown": [
       "$`Main MR results`\n",
       ":   \n",
       "A data.frame: 2 × 6\n",
       "\n",
       "| Exposure &lt;chr&gt; | MR Analysis &lt;chr&gt; | Causal Estimate &lt;dbl&gt; | Sd &lt;dbl&gt; | T-stat &lt;dbl&gt; | P-value &lt;dbl&gt; |\n",
       "|---|---|---|---|---|---|\n",
       "| beta.exposure | Raw               | 0.419868 | 0.1883253 | 2.229483 | 0.0353991 |\n",
       "| beta.exposure | Outlier-corrected |       NA |        NA |       NA |        NA |\n",
       "\n",
       "\n",
       "$`MR-PRESSO results`\n",
       ":   **$`Global Test`** = $RSSobs\n",
       ":   39.8282613370887\n",
       "$Pvalue\n",
       ":   0.057\n",
       "\n",
       "\n",
       "\n",
       "\n",
       "\n"
      ],
      "text/plain": [
       "$`Main MR results`\n",
       "       Exposure       MR Analysis Causal Estimate        Sd   T-stat   P-value\n",
       "1 beta.exposure               Raw        0.419868 0.1883253 2.229483 0.0353991\n",
       "2 beta.exposure Outlier-corrected              NA        NA       NA        NA\n",
       "\n",
       "$`MR-PRESSO results`\n",
       "$`MR-PRESSO results`$`Global Test`\n",
       "$`MR-PRESSO results`$`Global Test`$RSSobs\n",
       "[1] 39.82826\n",
       "\n",
       "$`MR-PRESSO results`$`Global Test`$Pvalue\n",
       "[1] 0.057\n",
       "\n",
       "\n"
      ]
     },
     "metadata": {},
     "output_type": "display_data"
    }
   ],
   "source": [
    "mr_presso(BetaOutcome=\"beta.outcome\", BetaExposure=\"beta.exposure\", SdOutcome=\"se.outcome\", SdExposure=\"se.exposure\", OUTLIERtest=TRUE, DISTORTIONtest=TRUE, data = dat)"
   ]
  },
  {
   "cell_type": "code",
   "execution_count": 8,
   "id": "21270dc1-bf67-467c-813d-cf5d72e0443b",
   "metadata": {
    "vscode": {
     "languageId": "r"
    }
   },
   "outputs": [],
   "source": [
    "#steiger filtering - test for directionality\n",
    "# dat$pval.exposure=dat$p.exposure\n",
    "# dat$pval.outcome=dat$p.outcome\n",
    "# dat$samplesize.outcome=6528\n",
    "# dat$samplesize.exposure=245494  \n",
    "# directionality_test(dat)"
   ]
  },
  {
   "cell_type": "code",
   "execution_count": 9,
   "id": "c765bd03-219f-4206-a071-d0a4be811b05",
   "metadata": {
    "vscode": {
     "languageId": "r"
    }
   },
   "outputs": [
    {
     "name": "stderr",
     "output_type": "stream",
     "text": [
      "\n",
      "Attaching package: ‘MendelianRandomization’\n",
      "\n",
      "\n",
      "The following objects are masked from ‘package:TwoSampleMR’:\n",
      "\n",
      "    mr_ivw, mr_median\n",
      "\n",
      "\n"
     ]
    },
    {
     "data": {
      "text/plain": [
       "\n",
       "MR-Egger method\n",
       "(variants uncorrelated, random-effect model)\n",
       "\n",
       "Number of Variants =  25 \n",
       "\n",
       "------------------------------------------------------------------\n",
       "      Method Estimate Std Error  95% CI       p-value\n",
       "    MR-Egger    0.735     0.821 -0.875, 2.345   0.371\n",
       " (intercept)   -0.012     0.030 -0.070, 0.047   0.693\n",
       "------------------------------------------------------------------\n",
       "Residual Standard Error :  1.255 \n",
       "Heterogeneity test statistic = 36.2144 on 23 degrees of freedom, (p-value = 0.0392)\n",
       "I^2_GX statistic: 44.9%"
      ]
     },
     "metadata": {},
     "output_type": "display_data"
    }
   ],
   "source": [
    "#Get I2_GX\n",
    "library(MendelianRandomization)\n",
    "MRInputObject <- mr_input(dat$beta.exposure, dat$se.exposure, dat$beta.outcome, dat$se.outcome)\n",
    "mr_egger(MRInputObject)"
   ]
  },
  {
   "cell_type": "markdown",
   "id": "05060db0-500b-43d1-a222-0b9365f2ae62",
   "metadata": {},
   "source": [
    "### Male - 3 IVs"
   ]
  },
  {
   "cell_type": "code",
   "execution_count": 10,
   "id": "ec80fe92-3e4a-414b-b102-f571a852d7d6",
   "metadata": {
    "vscode": {
     "languageId": "r"
    }
   },
   "outputs": [
    {
     "name": "stderr",
     "output_type": "stream",
     "text": [
      "Warning message in read.table(file = file, header = header, sep = sep, quote = quote, :\n",
      "“incomplete final line found by readTableHeader on 'output/WHRadjBMI_two_sample_mr/male_data_two_sample_mr.csv'”\n"
     ]
    }
   ],
   "source": [
    "#Read .csv file\n",
    "dat<-read.csv(\"output/WHRadjBMI_two_sample_mr/male_data_two_sample_mr.csv\")\n",
    "\n",
    "#Make sure effect alleles match. Otherwise change sign of beta:\n",
    "dat$effect_allele.outcome<-as.factor(dat$effect_allele.outcome)\n",
    "dat$effect_allele.exposure<-as.factor(dat$effect_allele.exposure)\n",
    "lev2 <- unique( c( levels(dat$effect_allele.outcome), levels(dat$effect_allele.exposure) ) )\n",
    "dat$effect_allele.outcome <- factor(dat$effect_allele.outcome, levels=lev2)\n",
    "dat$effect_allele.exposure <- factor(dat$effect_allele.exposure, levels=lev2)\n",
    "dat$effect_allele.exposure<-gsub(\" \", \"\",dat$effect_allele.exposure, fixed = TRUE)\n",
    "dat$beta.exposure[dat$effect_allele.exposure!=dat$effect_allele.outcome]<-dat$beta.exposure[dat$effect_allele.exposure!=dat$effect_allele.outcome] * -1"
   ]
  },
  {
   "cell_type": "code",
   "execution_count": 11,
   "id": "4d7c88d5-5f83-4d67-b781-26853e4479c6",
   "metadata": {
    "vscode": {
     "languageId": "r"
    }
   },
   "outputs": [
    {
     "data": {
      "text/html": [
       "<table class=\"dataframe\">\n",
       "<caption>A data.frame: 3 × 20</caption>\n",
       "<thead>\n",
       "\t<tr><th scope=col>chr</th><th scope=col>SNP</th><th scope=col>effect_allele.exposure</th><th scope=col>beta.exposure</th><th scope=col>se.exposure</th><th scope=col>p.exposure</th><th scope=col>A1</th><th scope=col>effect_allele.outcome</th><th scope=col>p_GWAS</th><th scope=col>OR.outcome</th><th scope=col>se.OR.outcome</th><th scope=col>not_adjusted.beta.outcome</th><th scope=col>beta.outcome</th><th scope=col>se.outcome</th><th scope=col>p.outcome</th><th scope=col>id.exposure</th><th scope=col>exposure</th><th scope=col>id.outcome</th><th scope=col>outcome</th><th scope=col>mr_keep</th></tr>\n",
       "\t<tr><th scope=col>&lt;int&gt;</th><th scope=col>&lt;chr&gt;</th><th scope=col>&lt;chr&gt;</th><th scope=col>&lt;dbl&gt;</th><th scope=col>&lt;dbl&gt;</th><th scope=col>&lt;dbl&gt;</th><th scope=col>&lt;chr&gt;</th><th scope=col>&lt;fct&gt;</th><th scope=col>&lt;dbl&gt;</th><th scope=col>&lt;dbl&gt;</th><th scope=col>&lt;dbl&gt;</th><th scope=col>&lt;dbl&gt;</th><th scope=col>&lt;dbl&gt;</th><th scope=col>&lt;dbl&gt;</th><th scope=col>&lt;dbl&gt;</th><th scope=col>&lt;chr&gt;</th><th scope=col>&lt;chr&gt;</th><th scope=col>&lt;chr&gt;</th><th scope=col>&lt;chr&gt;</th><th scope=col>&lt;lgl&gt;</th></tr>\n",
       "</thead>\n",
       "<tbody>\n",
       "\t<tr><td> 3</td><td>rs17451107</td><td>T</td><td>0.030</td><td>0.005</td><td>1.42e-08</td><td>C</td><td>T</td><td>0.57690</td><td>0.9920</td><td>0.01448</td><td>-0.008032172</td><td> 0.008032172</td><td>0.01439187</td><td>0.57690</td><td>EUR_WHRadjBMI</td><td>WHRadjBMI</td><td>UKB_CAD</td><td>CAD</td><td>TRUE</td></tr>\n",
       "\t<tr><td> 6</td><td>rs1936805 </td><td>T</td><td>0.031</td><td>0.005</td><td>3.08e-10</td><td>C</td><td>T</td><td>0.04588</td><td>0.9723</td><td>0.01408</td><td>-0.028090880</td><td> 0.028090880</td><td>0.01427943</td><td>0.04588</td><td>EUR_WHRadjBMI</td><td>WHRadjBMI</td><td>UKB_CAD</td><td>CAD</td><td>TRUE</td></tr>\n",
       "\t<tr><td>20</td><td>rs224333  </td><td>G</td><td>0.036</td><td>0.005</td><td>9.00e-12</td><td>A</td><td>G</td><td>0.67250</td><td>1.0060</td><td>0.01465</td><td> 0.005982072</td><td>-0.005982072</td><td>0.01435867</td><td>0.67250</td><td>EUR_WHRadjBMI</td><td>WHRadjBMI</td><td>UKB_CAD</td><td>CAD</td><td>TRUE</td></tr>\n",
       "</tbody>\n",
       "</table>\n"
      ],
      "text/latex": [
       "A data.frame: 3 × 20\n",
       "\\begin{tabular}{llllllllllllllllllll}\n",
       " chr & SNP & effect\\_allele.exposure & beta.exposure & se.exposure & p.exposure & A1 & effect\\_allele.outcome & p\\_GWAS & OR.outcome & se.OR.outcome & not\\_adjusted.beta.outcome & beta.outcome & se.outcome & p.outcome & id.exposure & exposure & id.outcome & outcome & mr\\_keep\\\\\n",
       " <int> & <chr> & <chr> & <dbl> & <dbl> & <dbl> & <chr> & <fct> & <dbl> & <dbl> & <dbl> & <dbl> & <dbl> & <dbl> & <dbl> & <chr> & <chr> & <chr> & <chr> & <lgl>\\\\\n",
       "\\hline\n",
       "\t  3 & rs17451107 & T & 0.030 & 0.005 & 1.42e-08 & C & T & 0.57690 & 0.9920 & 0.01448 & -0.008032172 &  0.008032172 & 0.01439187 & 0.57690 & EUR\\_WHRadjBMI & WHRadjBMI & UKB\\_CAD & CAD & TRUE\\\\\n",
       "\t  6 & rs1936805  & T & 0.031 & 0.005 & 3.08e-10 & C & T & 0.04588 & 0.9723 & 0.01408 & -0.028090880 &  0.028090880 & 0.01427943 & 0.04588 & EUR\\_WHRadjBMI & WHRadjBMI & UKB\\_CAD & CAD & TRUE\\\\\n",
       "\t 20 & rs224333   & G & 0.036 & 0.005 & 9.00e-12 & A & G & 0.67250 & 1.0060 & 0.01465 &  0.005982072 & -0.005982072 & 0.01435867 & 0.67250 & EUR\\_WHRadjBMI & WHRadjBMI & UKB\\_CAD & CAD & TRUE\\\\\n",
       "\\end{tabular}\n"
      ],
      "text/markdown": [
       "\n",
       "A data.frame: 3 × 20\n",
       "\n",
       "| chr &lt;int&gt; | SNP &lt;chr&gt; | effect_allele.exposure &lt;chr&gt; | beta.exposure &lt;dbl&gt; | se.exposure &lt;dbl&gt; | p.exposure &lt;dbl&gt; | A1 &lt;chr&gt; | effect_allele.outcome &lt;fct&gt; | p_GWAS &lt;dbl&gt; | OR.outcome &lt;dbl&gt; | se.OR.outcome &lt;dbl&gt; | not_adjusted.beta.outcome &lt;dbl&gt; | beta.outcome &lt;dbl&gt; | se.outcome &lt;dbl&gt; | p.outcome &lt;dbl&gt; | id.exposure &lt;chr&gt; | exposure &lt;chr&gt; | id.outcome &lt;chr&gt; | outcome &lt;chr&gt; | mr_keep &lt;lgl&gt; |\n",
       "|---|---|---|---|---|---|---|---|---|---|---|---|---|---|---|---|---|---|---|---|\n",
       "|  3 | rs17451107 | T | 0.030 | 0.005 | 1.42e-08 | C | T | 0.57690 | 0.9920 | 0.01448 | -0.008032172 |  0.008032172 | 0.01439187 | 0.57690 | EUR_WHRadjBMI | WHRadjBMI | UKB_CAD | CAD | TRUE |\n",
       "|  6 | rs1936805  | T | 0.031 | 0.005 | 3.08e-10 | C | T | 0.04588 | 0.9723 | 0.01408 | -0.028090880 |  0.028090880 | 0.01427943 | 0.04588 | EUR_WHRadjBMI | WHRadjBMI | UKB_CAD | CAD | TRUE |\n",
       "| 20 | rs224333   | G | 0.036 | 0.005 | 9.00e-12 | A | G | 0.67250 | 1.0060 | 0.01465 |  0.005982072 | -0.005982072 | 0.01435867 | 0.67250 | EUR_WHRadjBMI | WHRadjBMI | UKB_CAD | CAD | TRUE |\n",
       "\n"
      ],
      "text/plain": [
       "  chr SNP        effect_allele.exposure beta.exposure se.exposure p.exposure A1\n",
       "1  3  rs17451107 T                      0.030         0.005       1.42e-08   C \n",
       "2  6  rs1936805  T                      0.031         0.005       3.08e-10   C \n",
       "3 20  rs224333   G                      0.036         0.005       9.00e-12   A \n",
       "  effect_allele.outcome p_GWAS  OR.outcome se.OR.outcome\n",
       "1 T                     0.57690 0.9920     0.01448      \n",
       "2 T                     0.04588 0.9723     0.01408      \n",
       "3 G                     0.67250 1.0060     0.01465      \n",
       "  not_adjusted.beta.outcome beta.outcome se.outcome p.outcome id.exposure  \n",
       "1 -0.008032172               0.008032172 0.01439187 0.57690   EUR_WHRadjBMI\n",
       "2 -0.028090880               0.028090880 0.01427943 0.04588   EUR_WHRadjBMI\n",
       "3  0.005982072              -0.005982072 0.01435867 0.67250   EUR_WHRadjBMI\n",
       "  exposure  id.outcome outcome mr_keep\n",
       "1 WHRadjBMI UKB_CAD    CAD     TRUE   \n",
       "2 WHRadjBMI UKB_CAD    CAD     TRUE   \n",
       "3 WHRadjBMI UKB_CAD    CAD     TRUE   "
      ]
     },
     "metadata": {},
     "output_type": "display_data"
    }
   ],
   "source": [
    "dat"
   ]
  },
  {
   "cell_type": "code",
   "execution_count": 12,
   "id": "9b1f1da1-5438-43aa-a8fd-0e85cacf91b2",
   "metadata": {
    "vscode": {
     "languageId": "r"
    }
   },
   "outputs": [
    {
     "name": "stderr",
     "output_type": "stream",
     "text": [
      "Analysing 'EUR_WHRadjBMI' on 'UKB_CAD'\n",
      "\n"
     ]
    },
    {
     "data": {
      "text/html": [
       "<table class=\"dataframe\">\n",
       "<caption>A data.frame: 3 × 9</caption>\n",
       "<thead>\n",
       "\t<tr><th scope=col>id.exposure</th><th scope=col>id.outcome</th><th scope=col>outcome</th><th scope=col>exposure</th><th scope=col>method</th><th scope=col>nsnp</th><th scope=col>b</th><th scope=col>se</th><th scope=col>pval</th></tr>\n",
       "\t<tr><th scope=col>&lt;chr&gt;</th><th scope=col>&lt;chr&gt;</th><th scope=col>&lt;chr&gt;</th><th scope=col>&lt;chr&gt;</th><th scope=col>&lt;chr&gt;</th><th scope=col>&lt;int&gt;</th><th scope=col>&lt;dbl&gt;</th><th scope=col>&lt;dbl&gt;</th><th scope=col>&lt;dbl&gt;</th></tr>\n",
       "</thead>\n",
       "<tbody>\n",
       "\t<tr><td>EUR_WHRadjBMI</td><td>UKB_CAD</td><td>CAD</td><td>WHRadjBMI</td><td>MR Egger                 </td><td>3</td><td>-3.7954743</td><td>3.7627069</td><td>0.4972400</td></tr>\n",
       "\t<tr><td>EUR_WHRadjBMI</td><td>UKB_CAD</td><td>CAD</td><td>WHRadjBMI</td><td>Inverse variance weighted</td><td>3</td><td> 0.2860741</td><td>0.3177918</td><td>0.3680173</td></tr>\n",
       "\t<tr><td>EUR_WHRadjBMI</td><td>UKB_CAD</td><td>CAD</td><td>WHRadjBMI</td><td>Weighted median          </td><td>3</td><td> 0.1863540</td><td>0.3246068</td><td>0.5659060</td></tr>\n",
       "</tbody>\n",
       "</table>\n"
      ],
      "text/latex": [
       "A data.frame: 3 × 9\n",
       "\\begin{tabular}{lllllllll}\n",
       " id.exposure & id.outcome & outcome & exposure & method & nsnp & b & se & pval\\\\\n",
       " <chr> & <chr> & <chr> & <chr> & <chr> & <int> & <dbl> & <dbl> & <dbl>\\\\\n",
       "\\hline\n",
       "\t EUR\\_WHRadjBMI & UKB\\_CAD & CAD & WHRadjBMI & MR Egger                  & 3 & -3.7954743 & 3.7627069 & 0.4972400\\\\\n",
       "\t EUR\\_WHRadjBMI & UKB\\_CAD & CAD & WHRadjBMI & Inverse variance weighted & 3 &  0.2860741 & 0.3177918 & 0.3680173\\\\\n",
       "\t EUR\\_WHRadjBMI & UKB\\_CAD & CAD & WHRadjBMI & Weighted median           & 3 &  0.1863540 & 0.3246068 & 0.5659060\\\\\n",
       "\\end{tabular}\n"
      ],
      "text/markdown": [
       "\n",
       "A data.frame: 3 × 9\n",
       "\n",
       "| id.exposure &lt;chr&gt; | id.outcome &lt;chr&gt; | outcome &lt;chr&gt; | exposure &lt;chr&gt; | method &lt;chr&gt; | nsnp &lt;int&gt; | b &lt;dbl&gt; | se &lt;dbl&gt; | pval &lt;dbl&gt; |\n",
       "|---|---|---|---|---|---|---|---|---|\n",
       "| EUR_WHRadjBMI | UKB_CAD | CAD | WHRadjBMI | MR Egger                  | 3 | -3.7954743 | 3.7627069 | 0.4972400 |\n",
       "| EUR_WHRadjBMI | UKB_CAD | CAD | WHRadjBMI | Inverse variance weighted | 3 |  0.2860741 | 0.3177918 | 0.3680173 |\n",
       "| EUR_WHRadjBMI | UKB_CAD | CAD | WHRadjBMI | Weighted median           | 3 |  0.1863540 | 0.3246068 | 0.5659060 |\n",
       "\n"
      ],
      "text/plain": [
       "  id.exposure   id.outcome outcome exposure  method                    nsnp\n",
       "1 EUR_WHRadjBMI UKB_CAD    CAD     WHRadjBMI MR Egger                  3   \n",
       "2 EUR_WHRadjBMI UKB_CAD    CAD     WHRadjBMI Inverse variance weighted 3   \n",
       "3 EUR_WHRadjBMI UKB_CAD    CAD     WHRadjBMI Weighted median           3   \n",
       "  b          se        pval     \n",
       "1 -3.7954743 3.7627069 0.4972400\n",
       "2  0.2860741 0.3177918 0.3680173\n",
       "3  0.1863540 0.3246068 0.5659060"
      ]
     },
     "metadata": {},
     "output_type": "display_data"
    }
   ],
   "source": [
    "#To see MR methods that can be used:\n",
    "#mr_method_list()\n",
    "#Default methods: IVW, MR-Egger, Weighted Median, Simple Mode, Weighted Mode\n",
    "\n",
    "#To view default parameters (parameters used unless otherwise specified):\n",
    "#default_parameters()\n",
    "\n",
    "res<-mr(dat, method_list=c(\"mr_egger_regression\", \"mr_ivw\", \"mr_weighted_median\"))\n",
    "res"
   ]
  },
  {
   "cell_type": "code",
   "execution_count": 13,
   "id": "2aac840a-931c-4881-a143-049e835a296a",
   "metadata": {
    "vscode": {
     "languageId": "r"
    }
   },
   "outputs": [
    {
     "name": "stderr",
     "output_type": "stream",
     "text": [
      "Warning message:\n",
      "“\u001b[1m\u001b[22mRemoved 1 rows containing missing values (`geom_errorbarh()`).”\n",
      "Warning message:\n",
      "“\u001b[1m\u001b[22mRemoved 1 rows containing missing values (`geom_point()`).”\n",
      "Warning message:\n",
      "“\u001b[1m\u001b[22mRemoved 1 rows containing missing values (`geom_errorbarh()`).”\n",
      "Warning message:\n",
      "“\u001b[1m\u001b[22mRemoved 1 rows containing missing values (`geom_point()`).”\n",
      "Warning message:\n",
      "“\u001b[1m\u001b[22mRemoved 1 rows containing missing values (`geom_errorbarh()`).”\n",
      "Warning message:\n",
      "“\u001b[1m\u001b[22mRemoved 1 rows containing missing values (`geom_point()`).”\n"
     ]
    }
   ],
   "source": [
    "p1 <- mr_scatter_plot(res, dat)\n",
    "ggsave(p1[[1]], file = \"plots/WHRadjBMI/male_scatter.pdf\", width = 7, height = 7)\n",
    "\n",
    "res_single <- mr_singlesnp(dat)\n",
    "p2 <- mr_forest_plot(res_single)\n",
    "ggsave(p2[[1]], file = \"plots/WHRadjBMI/male_forest.pdf\", width = 7, height = 7)\n",
    "\n",
    "res_single <- mr_singlesnp(dat, all_method = c(\"mr_ivw\"))\n",
    "p3 <- mr_forest_plot(res_single)\n",
    "ggsave(p3[[1]], file = \"plots/WHRadjBMI/male_forest_methods.pdf\", width = 7, height = 7)\n",
    "\n",
    "res_loo <- mr_leaveoneout(dat)\n",
    "p3 <- mr_leaveoneout_plot(res_loo)\n",
    "ggsave(p3[[1]], file = \"plots/WHRadjBMI/male_leaveoneout.pdf\", width = 7, height = 7)\n",
    "\n",
    "res_single <- mr_singlesnp(dat)\n",
    "p4 <- mr_funnel_plot(res_single)\n",
    "ggsave(p4[[1]], file = \"plots/WHRadjBMI/male_funnel.pdf\", width = 7, height = 7)"
   ]
  },
  {
   "cell_type": "code",
   "execution_count": 14,
   "id": "b1422a10-6a18-43a7-b7b8-57cee16a615a",
   "metadata": {
    "vscode": {
     "languageId": "r"
    }
   },
   "outputs": [
    {
     "data": {
      "text/html": [
       "<table class=\"dataframe\">\n",
       "<caption>A data.frame: 1 × 7</caption>\n",
       "<thead>\n",
       "\t<tr><th scope=col>id.exposure</th><th scope=col>id.outcome</th><th scope=col>outcome</th><th scope=col>exposure</th><th scope=col>egger_intercept</th><th scope=col>se</th><th scope=col>pval</th></tr>\n",
       "\t<tr><th scope=col>&lt;chr&gt;</th><th scope=col>&lt;chr&gt;</th><th scope=col>&lt;chr&gt;</th><th scope=col>&lt;chr&gt;</th><th scope=col>&lt;dbl&gt;</th><th scope=col>&lt;dbl&gt;</th><th scope=col>&lt;dbl&gt;</th></tr>\n",
       "</thead>\n",
       "<tbody>\n",
       "\t<tr><td>EUR_WHRadjBMI</td><td>UKB_CAD</td><td>CAD</td><td>WHRadjBMI</td><td>0.1328321</td><td>0.122055</td><td>0.4730986</td></tr>\n",
       "</tbody>\n",
       "</table>\n"
      ],
      "text/latex": [
       "A data.frame: 1 × 7\n",
       "\\begin{tabular}{lllllll}\n",
       " id.exposure & id.outcome & outcome & exposure & egger\\_intercept & se & pval\\\\\n",
       " <chr> & <chr> & <chr> & <chr> & <dbl> & <dbl> & <dbl>\\\\\n",
       "\\hline\n",
       "\t EUR\\_WHRadjBMI & UKB\\_CAD & CAD & WHRadjBMI & 0.1328321 & 0.122055 & 0.4730986\\\\\n",
       "\\end{tabular}\n"
      ],
      "text/markdown": [
       "\n",
       "A data.frame: 1 × 7\n",
       "\n",
       "| id.exposure &lt;chr&gt; | id.outcome &lt;chr&gt; | outcome &lt;chr&gt; | exposure &lt;chr&gt; | egger_intercept &lt;dbl&gt; | se &lt;dbl&gt; | pval &lt;dbl&gt; |\n",
       "|---|---|---|---|---|---|---|\n",
       "| EUR_WHRadjBMI | UKB_CAD | CAD | WHRadjBMI | 0.1328321 | 0.122055 | 0.4730986 |\n",
       "\n"
      ],
      "text/plain": [
       "  id.exposure   id.outcome outcome exposure  egger_intercept se       pval     \n",
       "1 EUR_WHRadjBMI UKB_CAD    CAD     WHRadjBMI 0.1328321       0.122055 0.4730986"
      ]
     },
     "metadata": {},
     "output_type": "display_data"
    }
   ],
   "source": [
    "mr_pleiotropy_test(dat)"
   ]
  },
  {
   "cell_type": "code",
   "execution_count": 15,
   "id": "a22b8120-16cb-48a9-b165-deba777db73c",
   "metadata": {
    "vscode": {
     "languageId": "r"
    }
   },
   "outputs": [
    {
     "ename": "ERROR",
     "evalue": "Error in mr_presso(BetaOutcome = \"beta.outcome\", BetaExposure = \"beta.exposure\", : Not enough intrumental variables\n",
     "output_type": "error",
     "traceback": [
      "Error in mr_presso(BetaOutcome = \"beta.outcome\", BetaExposure = \"beta.exposure\", : Not enough intrumental variables\nTraceback:\n",
      "1. mr_presso(BetaOutcome = \"beta.outcome\", BetaExposure = \"beta.exposure\", \n .     SdOutcome = \"se.outcome\", SdExposure = \"se.exposure\", OUTLIERtest = TRUE, \n .     DISTORTIONtest = TRUE, data = dat)",
      "2. stop(\"Not enough intrumental variables\")"
     ]
    }
   ],
   "source": [
    "mr_presso(BetaOutcome=\"beta.outcome\", BetaExposure=\"beta.exposure\", SdOutcome=\"se.outcome\", SdExposure=\"se.exposure\", OUTLIERtest=TRUE, DISTORTIONtest=TRUE, data = dat)"
   ]
  },
  {
   "cell_type": "code",
   "execution_count": 16,
   "id": "23f1faee-8a44-4655-8e1e-8ca91ebbdbcf",
   "metadata": {
    "vscode": {
     "languageId": "r"
    }
   },
   "outputs": [],
   "source": [
    "#steiger filtering - test for directionality\n",
    "#dat$pval.exposure=dat$p.exposure\n",
    "#dat$pval.outcome=dat$p.outcome\n",
    "#dat$samplesize.outcome=6528\n",
    "#dat$samplesize.exposure=245494  \n",
    "#directionality_test(dat)"
   ]
  },
  {
   "cell_type": "code",
   "execution_count": 17,
   "id": "66ce71b4-105a-4489-bfc8-a18885cc9728",
   "metadata": {
    "vscode": {
     "languageId": "r"
    }
   },
   "outputs": [
    {
     "data": {
      "text/plain": [
       "\n",
       "MR-Egger method\n",
       "(variants uncorrelated, random-effect model)\n",
       "\n",
       "Number of Variants =  3 \n",
       "\n",
       "------------------------------------------------------------------\n",
       "      Method Estimate Std Error   95% CI       p-value\n",
       "    MR-Egger   -3.795     3.763 -11.170, 3.579   0.313\n",
       " (intercept)    0.133     0.122  -0.106, 0.372   0.276\n",
       "------------------------------------------------------------------\n",
       "Residual Standard Error :  1.191 \n",
       "Heterogeneity test statistic = 1.4188 on 1 degrees of freedom, (p-value = 0.2336)\n",
       "I^2_GX statistic: 0.0%"
      ]
     },
     "metadata": {},
     "output_type": "display_data"
    }
   ],
   "source": [
    "#Get I2_GX\n",
    "library(MendelianRandomization)\n",
    "MRInputObject <- mr_input(dat$beta.exposure, dat$se.exposure, dat$beta.outcome, dat$se.outcome)\n",
    "mr_egger(MRInputObject)"
   ]
  },
  {
   "cell_type": "markdown",
   "id": "c8a5eadb-5aad-435f-975e-7db5e9e2e039",
   "metadata": {},
   "source": [
    "### Male - 2 IVs"
   ]
  },
  {
   "cell_type": "code",
   "execution_count": 18,
   "id": "fe8ffc22-b31c-45a0-ae80-89356f4df9dc",
   "metadata": {
    "vscode": {
     "languageId": "r"
    }
   },
   "outputs": [
    {
     "name": "stderr",
     "output_type": "stream",
     "text": [
      "Warning message in read.table(file = file, header = header, sep = sep, quote = quote, :\n",
      "“incomplete final line found by readTableHeader on 'output/WHRadjBMI_two_sample_mr/male_data2IVs_two_sample_mr.csv'”\n"
     ]
    }
   ],
   "source": [
    "#Read .csv file\n",
    "dat<-read.csv(\"output/WHRadjBMI_two_sample_mr/male_data2IVs_two_sample_mr.csv\")\n",
    "\n",
    "#Make sure effect alleles match. Otherwise change sign of beta:\n",
    "dat$effect_allele.outcome<-as.factor(dat$effect_allele.outcome)\n",
    "dat$effect_allele.exposure<-as.factor(dat$effect_allele.exposure)\n",
    "lev2 <- unique( c( levels(dat$effect_allele.outcome), levels(dat$effect_allele.exposure) ) )\n",
    "dat$effect_allele.outcome <- factor(dat$effect_allele.outcome, levels=lev2)\n",
    "dat$effect_allele.exposure <- factor(dat$effect_allele.exposure, levels=lev2)\n",
    "dat$effect_allele.exposure<-gsub(\" \", \"\",dat$effect_allele.exposure, fixed = TRUE)\n",
    "dat$beta.exposure[dat$effect_allele.exposure!=dat$effect_allele.outcome]<-dat$beta.exposure[dat$effect_allele.exposure!=dat$effect_allele.outcome] * -1"
   ]
  },
  {
   "cell_type": "code",
   "execution_count": 19,
   "id": "8cfff58d-c70b-4fc3-a618-a530cf62e303",
   "metadata": {
    "vscode": {
     "languageId": "r"
    }
   },
   "outputs": [
    {
     "data": {
      "text/html": [
       "<table class=\"dataframe\">\n",
       "<caption>A data.frame: 2 × 20</caption>\n",
       "<thead>\n",
       "\t<tr><th scope=col>chr</th><th scope=col>SNP</th><th scope=col>effect_allele.exposure</th><th scope=col>beta.exposure</th><th scope=col>se.exposure</th><th scope=col>p.exposure</th><th scope=col>A1</th><th scope=col>effect_allele.outcome</th><th scope=col>p_GWAS</th><th scope=col>OR.outcome</th><th scope=col>se.OR.outcome</th><th scope=col>not_adjusted.beta.outcome</th><th scope=col>beta.outcome</th><th scope=col>se.outcome</th><th scope=col>p.outcome</th><th scope=col>id.exposure</th><th scope=col>exposure</th><th scope=col>id.outcome</th><th scope=col>outcome</th><th scope=col>mr_keep</th></tr>\n",
       "\t<tr><th scope=col>&lt;int&gt;</th><th scope=col>&lt;chr&gt;</th><th scope=col>&lt;chr&gt;</th><th scope=col>&lt;dbl&gt;</th><th scope=col>&lt;dbl&gt;</th><th scope=col>&lt;dbl&gt;</th><th scope=col>&lt;chr&gt;</th><th scope=col>&lt;fct&gt;</th><th scope=col>&lt;dbl&gt;</th><th scope=col>&lt;dbl&gt;</th><th scope=col>&lt;dbl&gt;</th><th scope=col>&lt;dbl&gt;</th><th scope=col>&lt;dbl&gt;</th><th scope=col>&lt;dbl&gt;</th><th scope=col>&lt;dbl&gt;</th><th scope=col>&lt;chr&gt;</th><th scope=col>&lt;chr&gt;</th><th scope=col>&lt;chr&gt;</th><th scope=col>&lt;chr&gt;</th><th scope=col>&lt;lgl&gt;</th></tr>\n",
       "</thead>\n",
       "<tbody>\n",
       "\t<tr><td> 6</td><td>rs1936805</td><td>T</td><td>0.031</td><td>0.005</td><td>3.08e-10</td><td>C</td><td>T</td><td>0.04588</td><td>0.9723</td><td>0.01408</td><td>-0.028090880</td><td> 0.028090880</td><td>0.01427943</td><td>0.04588</td><td>EUR_WHRadjBMI</td><td>WHRadjBMI</td><td>UKB_CAD</td><td>CAD</td><td>TRUE</td></tr>\n",
       "\t<tr><td>20</td><td>rs224333 </td><td>G</td><td>0.036</td><td>0.005</td><td>9.00e-12</td><td>A</td><td>G</td><td>0.67250</td><td>1.0060</td><td>0.01465</td><td> 0.005982072</td><td>-0.005982072</td><td>0.01435867</td><td>0.67250</td><td>EUR_WHRadjBMI</td><td>WHRadjBMI</td><td>UKB_CAD</td><td>CAD</td><td>TRUE</td></tr>\n",
       "</tbody>\n",
       "</table>\n"
      ],
      "text/latex": [
       "A data.frame: 2 × 20\n",
       "\\begin{tabular}{llllllllllllllllllll}\n",
       " chr & SNP & effect\\_allele.exposure & beta.exposure & se.exposure & p.exposure & A1 & effect\\_allele.outcome & p\\_GWAS & OR.outcome & se.OR.outcome & not\\_adjusted.beta.outcome & beta.outcome & se.outcome & p.outcome & id.exposure & exposure & id.outcome & outcome & mr\\_keep\\\\\n",
       " <int> & <chr> & <chr> & <dbl> & <dbl> & <dbl> & <chr> & <fct> & <dbl> & <dbl> & <dbl> & <dbl> & <dbl> & <dbl> & <dbl> & <chr> & <chr> & <chr> & <chr> & <lgl>\\\\\n",
       "\\hline\n",
       "\t  6 & rs1936805 & T & 0.031 & 0.005 & 3.08e-10 & C & T & 0.04588 & 0.9723 & 0.01408 & -0.028090880 &  0.028090880 & 0.01427943 & 0.04588 & EUR\\_WHRadjBMI & WHRadjBMI & UKB\\_CAD & CAD & TRUE\\\\\n",
       "\t 20 & rs224333  & G & 0.036 & 0.005 & 9.00e-12 & A & G & 0.67250 & 1.0060 & 0.01465 &  0.005982072 & -0.005982072 & 0.01435867 & 0.67250 & EUR\\_WHRadjBMI & WHRadjBMI & UKB\\_CAD & CAD & TRUE\\\\\n",
       "\\end{tabular}\n"
      ],
      "text/markdown": [
       "\n",
       "A data.frame: 2 × 20\n",
       "\n",
       "| chr &lt;int&gt; | SNP &lt;chr&gt; | effect_allele.exposure &lt;chr&gt; | beta.exposure &lt;dbl&gt; | se.exposure &lt;dbl&gt; | p.exposure &lt;dbl&gt; | A1 &lt;chr&gt; | effect_allele.outcome &lt;fct&gt; | p_GWAS &lt;dbl&gt; | OR.outcome &lt;dbl&gt; | se.OR.outcome &lt;dbl&gt; | not_adjusted.beta.outcome &lt;dbl&gt; | beta.outcome &lt;dbl&gt; | se.outcome &lt;dbl&gt; | p.outcome &lt;dbl&gt; | id.exposure &lt;chr&gt; | exposure &lt;chr&gt; | id.outcome &lt;chr&gt; | outcome &lt;chr&gt; | mr_keep &lt;lgl&gt; |\n",
       "|---|---|---|---|---|---|---|---|---|---|---|---|---|---|---|---|---|---|---|---|\n",
       "|  6 | rs1936805 | T | 0.031 | 0.005 | 3.08e-10 | C | T | 0.04588 | 0.9723 | 0.01408 | -0.028090880 |  0.028090880 | 0.01427943 | 0.04588 | EUR_WHRadjBMI | WHRadjBMI | UKB_CAD | CAD | TRUE |\n",
       "| 20 | rs224333  | G | 0.036 | 0.005 | 9.00e-12 | A | G | 0.67250 | 1.0060 | 0.01465 |  0.005982072 | -0.005982072 | 0.01435867 | 0.67250 | EUR_WHRadjBMI | WHRadjBMI | UKB_CAD | CAD | TRUE |\n",
       "\n"
      ],
      "text/plain": [
       "  chr SNP       effect_allele.exposure beta.exposure se.exposure p.exposure A1\n",
       "1  6  rs1936805 T                      0.031         0.005       3.08e-10   C \n",
       "2 20  rs224333  G                      0.036         0.005       9.00e-12   A \n",
       "  effect_allele.outcome p_GWAS  OR.outcome se.OR.outcome\n",
       "1 T                     0.04588 0.9723     0.01408      \n",
       "2 G                     0.67250 1.0060     0.01465      \n",
       "  not_adjusted.beta.outcome beta.outcome se.outcome p.outcome id.exposure  \n",
       "1 -0.028090880               0.028090880 0.01427943 0.04588   EUR_WHRadjBMI\n",
       "2  0.005982072              -0.005982072 0.01435867 0.67250   EUR_WHRadjBMI\n",
       "  exposure  id.outcome outcome mr_keep\n",
       "1 WHRadjBMI UKB_CAD    CAD     TRUE   \n",
       "2 WHRadjBMI UKB_CAD    CAD     TRUE   "
      ]
     },
     "metadata": {},
     "output_type": "display_data"
    }
   ],
   "source": [
    "dat"
   ]
  },
  {
   "cell_type": "code",
   "execution_count": 20,
   "id": "f54ff08a-8d83-47cc-ab46-f2cfdc921a10",
   "metadata": {
    "vscode": {
     "languageId": "r"
    }
   },
   "outputs": [
    {
     "name": "stderr",
     "output_type": "stream",
     "text": [
      "Analysing 'EUR_WHRadjBMI' on 'UKB_CAD'\n",
      "\n"
     ]
    },
    {
     "data": {
      "text/html": [
       "<table class=\"dataframe\">\n",
       "<caption>A data.frame: 1 × 9</caption>\n",
       "<thead>\n",
       "\t<tr><th scope=col>id.exposure</th><th scope=col>id.outcome</th><th scope=col>outcome</th><th scope=col>exposure</th><th scope=col>method</th><th scope=col>nsnp</th><th scope=col>b</th><th scope=col>se</th><th scope=col>pval</th></tr>\n",
       "\t<tr><th scope=col>&lt;chr&gt;</th><th scope=col>&lt;chr&gt;</th><th scope=col>&lt;chr&gt;</th><th scope=col>&lt;chr&gt;</th><th scope=col>&lt;chr&gt;</th><th scope=col>&lt;int&gt;</th><th scope=col>&lt;dbl&gt;</th><th scope=col>&lt;dbl&gt;</th><th scope=col>&lt;dbl&gt;</th></tr>\n",
       "</thead>\n",
       "<tbody>\n",
       "\t<tr><td>EUR_WHRadjBMI</td><td>UKB_CAD</td><td>CAD</td><td>WHRadjBMI</td><td>Inverse variance weighted</td><td>2</td><td>0.2933174</td><td>0.5306519</td><td>0.5804352</td></tr>\n",
       "</tbody>\n",
       "</table>\n"
      ],
      "text/latex": [
       "A data.frame: 1 × 9\n",
       "\\begin{tabular}{lllllllll}\n",
       " id.exposure & id.outcome & outcome & exposure & method & nsnp & b & se & pval\\\\\n",
       " <chr> & <chr> & <chr> & <chr> & <chr> & <int> & <dbl> & <dbl> & <dbl>\\\\\n",
       "\\hline\n",
       "\t EUR\\_WHRadjBMI & UKB\\_CAD & CAD & WHRadjBMI & Inverse variance weighted & 2 & 0.2933174 & 0.5306519 & 0.5804352\\\\\n",
       "\\end{tabular}\n"
      ],
      "text/markdown": [
       "\n",
       "A data.frame: 1 × 9\n",
       "\n",
       "| id.exposure &lt;chr&gt; | id.outcome &lt;chr&gt; | outcome &lt;chr&gt; | exposure &lt;chr&gt; | method &lt;chr&gt; | nsnp &lt;int&gt; | b &lt;dbl&gt; | se &lt;dbl&gt; | pval &lt;dbl&gt; |\n",
       "|---|---|---|---|---|---|---|---|---|\n",
       "| EUR_WHRadjBMI | UKB_CAD | CAD | WHRadjBMI | Inverse variance weighted | 2 | 0.2933174 | 0.5306519 | 0.5804352 |\n",
       "\n"
      ],
      "text/plain": [
       "  id.exposure   id.outcome outcome exposure  method                    nsnp\n",
       "1 EUR_WHRadjBMI UKB_CAD    CAD     WHRadjBMI Inverse variance weighted 2   \n",
       "  b         se        pval     \n",
       "1 0.2933174 0.5306519 0.5804352"
      ]
     },
     "metadata": {},
     "output_type": "display_data"
    }
   ],
   "source": [
    "#To see MR methods that can be used:\n",
    "#mr_method_list()\n",
    "#Default methods: IVW, MR-Egger, Weighted Median, Simple Mode, Weighted Mode\n",
    "\n",
    "#To view default parameters (parameters used unless otherwise specified):\n",
    "#default_parameters()\n",
    "\n",
    "res<-mr(dat, method_list=c(\"mr_egger_regression\", \"mr_ivw\", \"mr_weighted_median\"))\n",
    "res"
   ]
  },
  {
   "cell_type": "code",
   "execution_count": 21,
   "id": "11e2b6dd-409f-4315-8b4e-12061984dfdc",
   "metadata": {
    "vscode": {
     "languageId": "r"
    }
   },
   "outputs": [
    {
     "name": "stderr",
     "output_type": "stream",
     "text": [
      "Warning message:\n",
      "“\u001b[1m\u001b[22mRemoved 2 rows containing missing values (`geom_errorbarh()`).”\n",
      "Warning message:\n",
      "“\u001b[1m\u001b[22mRemoved 2 rows containing missing values (`geom_point()`).”\n",
      "Warning message:\n",
      "“\u001b[1m\u001b[22mRemoved 1 rows containing missing values (`geom_errorbarh()`).”\n",
      "Warning message:\n",
      "“\u001b[1m\u001b[22mRemoved 1 rows containing missing values (`geom_point()`).”\n",
      "Warning message:\n",
      "“\u001b[1m\u001b[22mRemoved 1 rows containing missing values (`geom_vline()`).”\n"
     ]
    }
   ],
   "source": [
    "p1 <- mr_scatter_plot(res, dat)\n",
    "ggsave(p1[[1]], file = \"plots/WHRadjBMI/male_scatter_2IVs.pdf\", width = 7, height = 7)\n",
    "\n",
    "res_single <- mr_singlesnp(dat)\n",
    "p2 <- mr_forest_plot(res_single)\n",
    "ggsave(p2[[1]], file = \"plots/WHRadjBMI/male_forest_2IVs.pdf\", width = 7, height = 7)\n",
    "\n",
    "res_single <- mr_singlesnp(dat, all_method = c(\"mr_ivw\"))\n",
    "p3 <- mr_forest_plot(res_single)\n",
    "ggsave(p3[[1]], file = \"plots/WHRadjBMI/male_forest_methods_2IVs.pdf\", width = 7, height = 7)\n",
    "\n",
    "res_loo <- mr_leaveoneout(dat)\n",
    "p3 <- mr_leaveoneout_plot(res_loo)\n",
    "ggsave(p3[[1]], file = \"plots/WHRadjBMI/male_leaveoneout_2IVs.pdf\", width = 7, height = 7)\n",
    "\n",
    "res_single <- mr_singlesnp(dat)\n",
    "p4 <- mr_funnel_plot(res_single)\n",
    "ggsave(p4[[1]], file = \"plots/WHRadjBMI/male_funnel_2IVs.pdf\", width = 7, height = 7)"
   ]
  },
  {
   "cell_type": "code",
   "execution_count": 22,
   "id": "04665aa5-9c36-4622-8860-28b1c484038d",
   "metadata": {
    "vscode": {
     "languageId": "r"
    }
   },
   "outputs": [
    {
     "data": {
      "text/html": [
       "<table class=\"dataframe\">\n",
       "<caption>A data.frame: 1 × 7</caption>\n",
       "<thead>\n",
       "\t<tr><th scope=col>id.exposure</th><th scope=col>id.outcome</th><th scope=col>outcome</th><th scope=col>exposure</th><th scope=col>egger_intercept</th><th scope=col>se</th><th scope=col>pval</th></tr>\n",
       "\t<tr><th scope=col>&lt;chr&gt;</th><th scope=col>&lt;chr&gt;</th><th scope=col>&lt;chr&gt;</th><th scope=col>&lt;chr&gt;</th><th scope=col>&lt;lgl&gt;</th><th scope=col>&lt;lgl&gt;</th><th scope=col>&lt;lgl&gt;</th></tr>\n",
       "</thead>\n",
       "<tbody>\n",
       "\t<tr><td>EUR_WHRadjBMI</td><td>UKB_CAD</td><td>CAD</td><td>WHRadjBMI</td><td>NA</td><td>NA</td><td>NA</td></tr>\n",
       "</tbody>\n",
       "</table>\n"
      ],
      "text/latex": [
       "A data.frame: 1 × 7\n",
       "\\begin{tabular}{lllllll}\n",
       " id.exposure & id.outcome & outcome & exposure & egger\\_intercept & se & pval\\\\\n",
       " <chr> & <chr> & <chr> & <chr> & <lgl> & <lgl> & <lgl>\\\\\n",
       "\\hline\n",
       "\t EUR\\_WHRadjBMI & UKB\\_CAD & CAD & WHRadjBMI & NA & NA & NA\\\\\n",
       "\\end{tabular}\n"
      ],
      "text/markdown": [
       "\n",
       "A data.frame: 1 × 7\n",
       "\n",
       "| id.exposure &lt;chr&gt; | id.outcome &lt;chr&gt; | outcome &lt;chr&gt; | exposure &lt;chr&gt; | egger_intercept &lt;lgl&gt; | se &lt;lgl&gt; | pval &lt;lgl&gt; |\n",
       "|---|---|---|---|---|---|---|\n",
       "| EUR_WHRadjBMI | UKB_CAD | CAD | WHRadjBMI | NA | NA | NA |\n",
       "\n"
      ],
      "text/plain": [
       "  id.exposure   id.outcome outcome exposure  egger_intercept se pval\n",
       "1 EUR_WHRadjBMI UKB_CAD    CAD     WHRadjBMI NA              NA NA  "
      ]
     },
     "metadata": {},
     "output_type": "display_data"
    }
   ],
   "source": [
    "mr_pleiotropy_test(dat)"
   ]
  },
  {
   "cell_type": "code",
   "execution_count": 23,
   "id": "efa41e41-936c-4027-a29f-22077bb4a610",
   "metadata": {
    "vscode": {
     "languageId": "r"
    }
   },
   "outputs": [
    {
     "ename": "ERROR",
     "evalue": "Error in mr_presso(BetaOutcome = \"beta.outcome\", BetaExposure = \"beta.exposure\", : Not enough intrumental variables\n",
     "output_type": "error",
     "traceback": [
      "Error in mr_presso(BetaOutcome = \"beta.outcome\", BetaExposure = \"beta.exposure\", : Not enough intrumental variables\nTraceback:\n",
      "1. mr_presso(BetaOutcome = \"beta.outcome\", BetaExposure = \"beta.exposure\", \n .     SdOutcome = \"se.outcome\", SdExposure = \"se.exposure\", OUTLIERtest = TRUE, \n .     DISTORTIONtest = TRUE, data = dat)",
      "2. stop(\"Not enough intrumental variables\")"
     ]
    }
   ],
   "source": [
    "mr_presso(BetaOutcome=\"beta.outcome\", BetaExposure=\"beta.exposure\", SdOutcome=\"se.outcome\", SdExposure=\"se.exposure\", OUTLIERtest=TRUE, DISTORTIONtest=TRUE, data = dat)"
   ]
  },
  {
   "cell_type": "code",
   "execution_count": 24,
   "id": "1b8a7b3b-2f18-460e-80b8-247b81880d5e",
   "metadata": {
    "vscode": {
     "languageId": "r"
    }
   },
   "outputs": [],
   "source": [
    "#steiger filtering - test for directionality\n",
    "# dat$pval.exposure=dat$p.exposure\n",
    "# dat$pval.outcome=dat$p.outcome\n",
    "# dat$samplesize.outcome=6528\n",
    "# dat$samplesize.exposure=245494  \n",
    "# directionality_test(dat)"
   ]
  },
  {
   "cell_type": "code",
   "execution_count": 25,
   "id": "faf1a273-46a1-45ea-9cb2-2e22a9e8dbad",
   "metadata": {
    "vscode": {
     "languageId": "r"
    }
   },
   "outputs": [
    {
     "name": "stdout",
     "output_type": "stream",
     "text": [
      "Method requires data on >2 variants."
     ]
    },
    {
     "data": {
      "text/plain": [
       "NULL"
      ]
     },
     "metadata": {},
     "output_type": "display_data"
    }
   ],
   "source": [
    "#Get I2_GX\n",
    "library(MendelianRandomization)\n",
    "MRInputObject <- mr_input(dat$beta.exposure, dat$se.exposure, dat$beta.outcome, dat$se.outcome)\n",
    "mr_egger(MRInputObject)"
   ]
  },
  {
   "cell_type": "code",
   "execution_count": 26,
   "id": "7ce797dc-8f64-4a04-8bab-c4cd2cd6b20e",
   "metadata": {
    "vscode": {
     "languageId": "r"
    }
   },
   "outputs": [],
   "source": [
    "#Sources:\n",
    "#TwoSampleMR: https://rdrr.io/github/MRCIEU/TwoSampleMR/api/\n",
    "#User-friendly guide to TwoSampleMR: https://mrcieu.github.io/TwoSampleMR/articles/perform_mr.html "
   ]
  }
 ],
 "metadata": {
  "kernelspec": {
   "display_name": "R (4.2.1)",
   "language": "R",
   "name": "ir"
  },
  "language_info": {
   "codemirror_mode": "r",
   "file_extension": ".r",
   "mimetype": "text/x-r-source",
   "name": "R",
   "pygments_lexer": "r",
   "version": "4.2.1"
  }
 },
 "nbformat": 4,
 "nbformat_minor": 5
}
